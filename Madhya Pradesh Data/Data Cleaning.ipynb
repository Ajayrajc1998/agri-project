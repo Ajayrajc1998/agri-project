{
 "cells": [
  {
   "cell_type": "code",
   "execution_count": 196,
   "id": "2ecfc0c9",
   "metadata": {},
   "outputs": [],
   "source": [
    "class Analysis:\n",
    "    def all_methods(self):\n",
    "        return [method for method in dir(self) if callable(getattr(self, method))]\n",
    "    def __init__(self):\n",
    "        files=self.extract_file_names()\n",
    "        self.csv_filename=self.csv_files(files)\n",
    "        print(self.csv_filename)\n",
    "    def extract_file_names(self):\n",
    "        folder_path='E:\\STACKER BEE\\Agri project\\Madhya Pradesh Data'  # Replace this with the path to your folder\n",
    "        file_format='.csv'\n",
    "        import os\n",
    "        files = []\n",
    "        for filename in os.listdir(folder_path):\n",
    "            if filename.endswith(file_format):\n",
    "                files.append(filename)\n",
    "        return files\n",
    "    def first_cleaning(self, csv_file):\n",
    "        import pandas as pd\n",
    "        df = self.data_load(csv_file)\n",
    "        df = self.drop_state(df)\n",
    "        df = self.date_conversion(df)\n",
    "        df = self.Tonnes_conversion(df)\n",
    "        df = self.Quintal_conversion_arrivals(df)\n",
    "        cleaned_filename = csv_file.rsplit('.', 1)[0] + '_cleaned.csv'  # Extracting the filename without extension and adding '_cleaned.csv'\n",
    "        df.to_csv(cleaned_filename)\n",
    "        \n",
    "    def csv_files(self,csv_filenames):\n",
    "        loaded_data = {}\n",
    "        for csv_filename in csv_filenames:\n",
    "            # Extract the variable name from the filename\n",
    "            name = csv_filename.split('.')[0].split('_')[-1]\n",
    "            # Load CSV into DataFrame and save it into a variable with the extracted name\n",
    "            loaded_data[name] = csv_filename\n",
    "        return loaded_data\n",
    "    def data_load(self,csv_file):\n",
    "        import pandas as pd\n",
    "        import numpy as np\n",
    "        #header is in the first row, skip it when reading the CSV\n",
    "        df=pd.read_csv(csv_file,skiprows=[0])\n",
    "        return df\n",
    "    def drop_state(self,df):\n",
    "        df=df.drop('State Name',axis=1)\n",
    "        return df\n",
    "    def date_conversion(self,df):\n",
    "        import pandas as pd\n",
    "        import numpy as np\n",
    "        df['Reported Date']=pd.to_datetime(df['Reported Date'],format=\"%d-%b-%y\")\n",
    "        return df\n",
    "    def Tonnes_conversion(self,df):\n",
    "        import pandas as pd\n",
    "        import numpy as np\n",
    "        if df['Arrivals (Tonnes)'].dtype=='O':\n",
    "            df['Arrivals (Tonnes)']=df['Arrivals (Tonnes)'].str.replace(\",\",\"\").astype(float)\n",
    "        return df\n",
    "    def Quintal_conversion_arrivals(self,df):\n",
    "        import pandas as pd\n",
    "        import numpy as np\n",
    "        df['Arrivals (Quintals)']=df['Arrivals (Tonnes)']*10\n",
    "        return df\n",
    "    def plot_outlier(self,column_data,column):\n",
    "        import seaborn as sns\n",
    "        import matplotlib.pyplot as plt\n",
    "        sns.boxplot(column_data)\n",
    "        plt.title(f'Outliers of {column}')\n",
    "        plt.show()\n",
    "    def plot_distribution(self,column_data,column):\n",
    "        import seaborn as sns\n",
    "        import matplotlib.pyplot as plt\n",
    "        sns.distplot(column_data)\n",
    "        plt.title(f'Distribution of {column}')\n",
    "        plt.show()"
   ]
  },
  {
   "cell_type": "code",
   "execution_count": 59,
   "id": "ed4ec79b",
   "metadata": {},
   "outputs": [
    {
     "name": "stdout",
     "output_type": "stream",
     "text": [
      "XLS filenames in the folder:\n"
     ]
    },
    {
     "data": {
      "text/plain": [
       "['Agmarknet_Price_And_Arrival_Report_Ahar-Dal-Tur-Dal.xls',\n",
       " 'Agmarknet_Price_And_Arrival_Report_Ajwan.xls',\n",
       " 'Agmarknet_Price_And_Arrival_Report_Alsande Gram.xls',\n",
       " 'Agmarknet_Price_And_Arrival_Report_Alsandikai.xls',\n",
       " 'Agmarknet_Price_And_Arrival_Report_Ambada Seed.xls',\n",
       " 'Agmarknet_Price_And_Arrival_Report_Amla Nelli kai.xls',\n",
       " 'Agmarknet_Price_And_Arrival_Report_Amranthus.xls',\n",
       " 'Agmarknet_Price_And_Arrival_Report_Antawala.xls',\n",
       " 'Agmarknet_Price_And_Arrival_Report_Apple.xls',\n",
       " 'Agmarknet_Price_And_Arrival_Report_Apricot Jardalu-Khumani.xls',\n",
       " 'Agmarknet_Price_And_Arrival_Report_Bajra-Pearl Millet-Cumbu.xls',\n",
       " 'Agmarknet_Price_And_Arrival_Report_Banana Green.xls',\n",
       " 'Agmarknet_Price_And_Arrival_Report_Banana.xls',\n",
       " 'Agmarknet_Price_And_Arrival_Report_Beans.xls',\n",
       " 'Agmarknet_Price_And_Arrival_Report_Beaten Rice.xls',\n",
       " 'Agmarknet_Price_And_Arrival_Report_Beetroot.xls',\n",
       " 'Agmarknet_Price_And_Arrival_Report_Bengal Gram Dal-Chana Dal.xls',\n",
       " 'Agmarknet_Price_And_Arrival_Report_Ber-Zizyphus-Borehannu.xls',\n",
       " 'Agmarknet_Price_And_Arrival_Report_Bitter gourd.xls',\n",
       " 'Agmarknet_Price_And_Arrival_Report_Black Gram Dal- Urd Dal.xls',\n",
       " 'Agmarknet_Price_And_Arrival_Report_Bottle gourd.xls',\n",
       " 'Agmarknet_Price_And_Arrival_Report_Cabbage.xls',\n",
       " 'Agmarknet_Price_And_Arrival_Report_Capsicum.xls',\n",
       " 'Agmarknet_Price_And_Arrival_Report_Carrot.xls',\n",
       " 'Agmarknet_Price_And_Arrival_Report_Castor Oil.xls',\n",
       " 'Agmarknet_Price_And_Arrival_Report_Castor Seed.xls',\n",
       " 'Agmarknet_Price_And_Arrival_Report_Chennai-Whole.xls',\n",
       " 'Agmarknet_Price_And_Arrival_Report_Chennangi Dal.xls',\n",
       " 'Agmarknet_Price_And_Arrival_Report_Chikoos-Sapota.xls',\n",
       " 'Agmarknet_Price_And_Arrival_Report_Chilli Red.xls',\n",
       " 'Agmarknet_Price_And_Arrival_Report_Cinamon-Dalchini.xls',\n",
       " 'Agmarknet_Price_And_Arrival_Report_Cluster beans.xls',\n",
       " 'Agmarknet_Price_And_Arrival_Report_Colacasia.xls',\n",
       " 'Agmarknet_Price_And_Arrival_Report_Coriander-Leaves.xls',\n",
       " 'Agmarknet_Price_Report_Ashgourd.xls',\n",
       " 'Agmarknet_Price_Report_Avare-Dal.xls']"
      ]
     },
     "execution_count": 59,
     "metadata": {},
     "output_type": "execute_result"
    }
   ],
   "source": [
    "# Extracting xls file names:\n",
    "folder_path = 'E:\\STACKER BEE\\Agri project\\Madhya Pradesh Data'  # Replace this with the path to your folder\n",
    "file_format='.xls'\n",
    "xls_filenames = First.extract_filenames(folder_path,file_format)\n",
    "print(\"XLS filenames in the folder:\")\n",
    "xls_filenames"
   ]
  },
  {
   "cell_type": "code",
   "execution_count": 60,
   "id": "f4785e70",
   "metadata": {},
   "outputs": [
    {
     "data": {
      "text/plain": [
       "36"
      ]
     },
     "execution_count": 60,
     "metadata": {},
     "output_type": "execute_result"
    }
   ],
   "source": [
    "len(xls_filenames)#all files are extracted"
   ]
  },
  {
   "cell_type": "code",
   "execution_count": 61,
   "id": "6172ba57",
   "metadata": {},
   "outputs": [
    {
     "data": {
      "text/plain": [
       "['Agmarknet_Price_And_Arrival_Report_Ahar-Dal-Tur-Dal.csv',\n",
       " 'Agmarknet_Price_And_Arrival_Report_Ajwan.csv',\n",
       " 'Agmarknet_Price_And_Arrival_Report_Alsande Gram.csv',\n",
       " 'Agmarknet_Price_And_Arrival_Report_Alsandikai.csv',\n",
       " 'Agmarknet_Price_And_Arrival_Report_Ambada Seed.csv',\n",
       " 'Agmarknet_Price_And_Arrival_Report_Amla Nelli kai.csv',\n",
       " 'Agmarknet_Price_And_Arrival_Report_Amranthus.csv',\n",
       " 'Agmarknet_Price_And_Arrival_Report_Antawala.csv',\n",
       " 'Agmarknet_Price_And_Arrival_Report_Apple.csv',\n",
       " 'Agmarknet_Price_And_Arrival_Report_Apricot Jardalu-Khumani.csv',\n",
       " 'Agmarknet_Price_And_Arrival_Report_Bajra-Pearl Millet-Cumbu.csv',\n",
       " 'Agmarknet_Price_And_Arrival_Report_Banana Green.csv',\n",
       " 'Agmarknet_Price_And_Arrival_Report_Banana.csv',\n",
       " 'Agmarknet_Price_And_Arrival_Report_Beans.csv',\n",
       " 'Agmarknet_Price_And_Arrival_Report_Beaten Rice.csv',\n",
       " 'Agmarknet_Price_And_Arrival_Report_Beetroot.csv',\n",
       " 'Agmarknet_Price_And_Arrival_Report_Bengal Gram Dal-Chana Dal.csv',\n",
       " 'Agmarknet_Price_And_Arrival_Report_Ber-Zizyphus-Borehannu.csv',\n",
       " 'Agmarknet_Price_And_Arrival_Report_Bitter gourd.csv',\n",
       " 'Agmarknet_Price_And_Arrival_Report_Black Gram Dal- Urd Dal.csv',\n",
       " 'Agmarknet_Price_And_Arrival_Report_Bottle gourd.csv',\n",
       " 'Agmarknet_Price_And_Arrival_Report_Cabbage.csv',\n",
       " 'Agmarknet_Price_And_Arrival_Report_Capsicum.csv',\n",
       " 'Agmarknet_Price_And_Arrival_Report_Carrot.csv',\n",
       " 'Agmarknet_Price_And_Arrival_Report_Castor Oil.csv',\n",
       " 'Agmarknet_Price_And_Arrival_Report_Castor Seed.csv',\n",
       " 'Agmarknet_Price_And_Arrival_Report_Chennai-Whole.csv',\n",
       " 'Agmarknet_Price_And_Arrival_Report_Chennangi Dal.csv',\n",
       " 'Agmarknet_Price_And_Arrival_Report_Chikoos-Sapota.csv',\n",
       " 'Agmarknet_Price_And_Arrival_Report_Chilli Red.csv',\n",
       " 'Agmarknet_Price_And_Arrival_Report_Cinamon-Dalchini.csv',\n",
       " 'Agmarknet_Price_And_Arrival_Report_Cluster beans.csv',\n",
       " 'Agmarknet_Price_And_Arrival_Report_Colacasia.csv',\n",
       " 'Agmarknet_Price_And_Arrival_Report_Coriander-Leaves.csv',\n",
       " 'Agmarknet_Price_Report_Ashgourd.csv',\n",
       " 'Agmarknet_Price_Report_Avare-Dal.csv']"
      ]
     },
     "execution_count": 61,
     "metadata": {},
     "output_type": "execute_result"
    }
   ],
   "source": [
    "#manually converted the xls file into csv\n",
    "#checking the all files are converted or not\n",
    "csv_format='.csv'\n",
    "csv_filenames=First.extract_filenames(folder_path,csv_format)\n",
    "csv_filenames"
   ]
  },
  {
   "cell_type": "code",
   "execution_count": 25,
   "id": "9c51458c",
   "metadata": {},
   "outputs": [
    {
     "data": {
      "text/plain": [
       "36"
      ]
     },
     "execution_count": 25,
     "metadata": {},
     "output_type": "execute_result"
    }
   ],
   "source": [
    "len(csv_filenames)#all the files are extracted and converted into csv file"
   ]
  },
  {
   "cell_type": "code",
   "execution_count": 64,
   "id": "3b876169",
   "metadata": {},
   "outputs": [],
   "source": [
    "data_crops=First.load_csv_files(csv_filenames)"
   ]
  },
  {
   "cell_type": "code",
   "execution_count": 65,
   "id": "00920c47",
   "metadata": {},
   "outputs": [
    {
     "data": {
      "text/plain": [
       "{'Ahar-Dal-Tur-Dal': 'Agmarknet_Price_And_Arrival_Report_Ahar-Dal-Tur-Dal.csv',\n",
       " 'Ajwan': 'Agmarknet_Price_And_Arrival_Report_Ajwan.csv',\n",
       " 'Alsande Gram': 'Agmarknet_Price_And_Arrival_Report_Alsande Gram.csv',\n",
       " 'Alsandikai': 'Agmarknet_Price_And_Arrival_Report_Alsandikai.csv',\n",
       " 'Ambada Seed': 'Agmarknet_Price_And_Arrival_Report_Ambada Seed.csv',\n",
       " 'Amla Nelli kai': 'Agmarknet_Price_And_Arrival_Report_Amla Nelli kai.csv',\n",
       " 'Amranthus': 'Agmarknet_Price_And_Arrival_Report_Amranthus.csv',\n",
       " 'Antawala': 'Agmarknet_Price_And_Arrival_Report_Antawala.csv',\n",
       " 'Apple': 'Agmarknet_Price_And_Arrival_Report_Apple.csv',\n",
       " 'Apricot Jardalu-Khumani': 'Agmarknet_Price_And_Arrival_Report_Apricot Jardalu-Khumani.csv',\n",
       " 'Bajra-Pearl Millet-Cumbu': 'Agmarknet_Price_And_Arrival_Report_Bajra-Pearl Millet-Cumbu.csv',\n",
       " 'Banana Green': 'Agmarknet_Price_And_Arrival_Report_Banana Green.csv',\n",
       " 'Banana': 'Agmarknet_Price_And_Arrival_Report_Banana.csv',\n",
       " 'Beans': 'Agmarknet_Price_And_Arrival_Report_Beans.csv',\n",
       " 'Beaten Rice': 'Agmarknet_Price_And_Arrival_Report_Beaten Rice.csv',\n",
       " 'Beetroot': 'Agmarknet_Price_And_Arrival_Report_Beetroot.csv',\n",
       " 'Bengal Gram Dal-Chana Dal': 'Agmarknet_Price_And_Arrival_Report_Bengal Gram Dal-Chana Dal.csv',\n",
       " 'Ber-Zizyphus-Borehannu': 'Agmarknet_Price_And_Arrival_Report_Ber-Zizyphus-Borehannu.csv',\n",
       " 'Bitter gourd': 'Agmarknet_Price_And_Arrival_Report_Bitter gourd.csv',\n",
       " 'Black Gram Dal- Urd Dal': 'Agmarknet_Price_And_Arrival_Report_Black Gram Dal- Urd Dal.csv',\n",
       " 'Bottle gourd': 'Agmarknet_Price_And_Arrival_Report_Bottle gourd.csv',\n",
       " 'Cabbage': 'Agmarknet_Price_And_Arrival_Report_Cabbage.csv',\n",
       " 'Capsicum': 'Agmarknet_Price_And_Arrival_Report_Capsicum.csv',\n",
       " 'Carrot': 'Agmarknet_Price_And_Arrival_Report_Carrot.csv',\n",
       " 'Castor Oil': 'Agmarknet_Price_And_Arrival_Report_Castor Oil.csv',\n",
       " 'Castor Seed': 'Agmarknet_Price_And_Arrival_Report_Castor Seed.csv',\n",
       " 'Chennai-Whole': 'Agmarknet_Price_And_Arrival_Report_Chennai-Whole.csv',\n",
       " 'Chennangi Dal': 'Agmarknet_Price_And_Arrival_Report_Chennangi Dal.csv',\n",
       " 'Chikoos-Sapota': 'Agmarknet_Price_And_Arrival_Report_Chikoos-Sapota.csv',\n",
       " 'Chilli Red': 'Agmarknet_Price_And_Arrival_Report_Chilli Red.csv',\n",
       " 'Cinamon-Dalchini': 'Agmarknet_Price_And_Arrival_Report_Cinamon-Dalchini.csv',\n",
       " 'Cluster beans': 'Agmarknet_Price_And_Arrival_Report_Cluster beans.csv',\n",
       " 'Colacasia': 'Agmarknet_Price_And_Arrival_Report_Colacasia.csv',\n",
       " 'Coriander-Leaves': 'Agmarknet_Price_And_Arrival_Report_Coriander-Leaves.csv',\n",
       " 'Ashgourd': 'Agmarknet_Price_Report_Ashgourd.csv',\n",
       " 'Avare-Dal': 'Agmarknet_Price_Report_Avare-Dal.csv'}"
      ]
     },
     "execution_count": 65,
     "metadata": {},
     "output_type": "execute_result"
    }
   ],
   "source": [
    "data_crops"
   ]
  },
  {
   "cell_type": "markdown",
   "id": "f88eca1a",
   "metadata": {},
   "source": [
    "### Ahar_Dal_Tur_Dal"
   ]
  },
  {
   "cell_type": "code",
   "execution_count": 46,
   "id": "42ce74fd",
   "metadata": {},
   "outputs": [],
   "source": [
    "First=Analysis()#creating object"
   ]
  },
  {
   "cell_type": "code",
   "execution_count": 52,
   "id": "b3934a56",
   "metadata": {},
   "outputs": [
    {
     "data": {
      "text/plain": [
       "['Quintal_conversion_arrivals',\n",
       " 'Tonnes_conversion',\n",
       " '__class__',\n",
       " '__delattr__',\n",
       " '__dir__',\n",
       " '__eq__',\n",
       " '__format__',\n",
       " '__ge__',\n",
       " '__getattribute__',\n",
       " '__gt__',\n",
       " '__hash__',\n",
       " '__init__',\n",
       " '__init_subclass__',\n",
       " '__le__',\n",
       " '__lt__',\n",
       " '__ne__',\n",
       " '__new__',\n",
       " '__reduce__',\n",
       " '__reduce_ex__',\n",
       " '__repr__',\n",
       " '__setattr__',\n",
       " '__sizeof__',\n",
       " '__str__',\n",
       " '__subclasshook__',\n",
       " 'all_methods',\n",
       " 'data_load',\n",
       " 'date_convertion',\n",
       " 'drop_state',\n",
       " 'extract_filenames',\n",
       " 'load_csv_files',\n",
       " 'plot_distribution',\n",
       " 'plot_outlier']"
      ]
     },
     "execution_count": 52,
     "metadata": {},
     "output_type": "execute_result"
    }
   ],
   "source": [
    "First.all_methods()"
   ]
  },
  {
   "cell_type": "code",
   "execution_count": 56,
   "id": "c108e6c6",
   "metadata": {},
   "outputs": [],
   "source": [
    "Ahar_Dal_Tur_Dal=First.data_load('Agmarknet_Price_And_Arrival_Report_Ahar-Dal-Tur-Dal.csv')"
   ]
  },
  {
   "cell_type": "code",
   "execution_count": 63,
   "id": "b3567d88",
   "metadata": {
    "scrolled": true
   },
   "outputs": [
    {
     "data": {
      "text/html": [
       "<div>\n",
       "<style scoped>\n",
       "    .dataframe tbody tr th:only-of-type {\n",
       "        vertical-align: middle;\n",
       "    }\n",
       "\n",
       "    .dataframe tbody tr th {\n",
       "        vertical-align: top;\n",
       "    }\n",
       "\n",
       "    .dataframe thead th {\n",
       "        text-align: right;\n",
       "    }\n",
       "</style>\n",
       "<table border=\"1\" class=\"dataframe\">\n",
       "  <thead>\n",
       "    <tr style=\"text-align: right;\">\n",
       "      <th></th>\n",
       "      <th>District Name</th>\n",
       "      <th>Market Name</th>\n",
       "      <th>Variety</th>\n",
       "      <th>Group</th>\n",
       "      <th>Arrivals (Tonnes)</th>\n",
       "      <th>Min Price (Rs./Quintal)</th>\n",
       "      <th>Max Price (Rs./Quintal)</th>\n",
       "      <th>Modal Price (Rs./Quintal)</th>\n",
       "      <th>Reported Date</th>\n",
       "      <th>Arrivals (Quintals)</th>\n",
       "    </tr>\n",
       "  </thead>\n",
       "  <tbody>\n",
       "    <tr>\n",
       "      <th>0</th>\n",
       "      <td>Chhindwara</td>\n",
       "      <td>Amarwda</td>\n",
       "      <td>Arhar Dal(Tur)</td>\n",
       "      <td>Pulses</td>\n",
       "      <td>2.5</td>\n",
       "      <td>4000</td>\n",
       "      <td>4000</td>\n",
       "      <td>4000.0</td>\n",
       "      <td>2023-10-18</td>\n",
       "      <td>25.0</td>\n",
       "    </tr>\n",
       "    <tr>\n",
       "      <th>1</th>\n",
       "      <td>Chhindwara</td>\n",
       "      <td>Amarwda</td>\n",
       "      <td>Arhar Dal(Tur)</td>\n",
       "      <td>Pulses</td>\n",
       "      <td>0.5</td>\n",
       "      <td>8000</td>\n",
       "      <td>8000</td>\n",
       "      <td>8000.0</td>\n",
       "      <td>2023-07-17</td>\n",
       "      <td>5.0</td>\n",
       "    </tr>\n",
       "    <tr>\n",
       "      <th>2</th>\n",
       "      <td>Chhindwara</td>\n",
       "      <td>Amarwda</td>\n",
       "      <td>Arhar Dal(Tur)</td>\n",
       "      <td>Pulses</td>\n",
       "      <td>8.0</td>\n",
       "      <td>8000</td>\n",
       "      <td>8200</td>\n",
       "      <td>8100.0</td>\n",
       "      <td>2023-07-16</td>\n",
       "      <td>80.0</td>\n",
       "    </tr>\n",
       "    <tr>\n",
       "      <th>3</th>\n",
       "      <td>Chhindwara</td>\n",
       "      <td>Amarwda</td>\n",
       "      <td>Arhar Dal(Tur)</td>\n",
       "      <td>Pulses</td>\n",
       "      <td>2.5</td>\n",
       "      <td>6000</td>\n",
       "      <td>6500</td>\n",
       "      <td>6250.0</td>\n",
       "      <td>2023-05-16</td>\n",
       "      <td>25.0</td>\n",
       "    </tr>\n",
       "    <tr>\n",
       "      <th>4</th>\n",
       "      <td>Chhindwara</td>\n",
       "      <td>Amarwda</td>\n",
       "      <td>Arhar Dal(Tur)</td>\n",
       "      <td>Pulses</td>\n",
       "      <td>9.0</td>\n",
       "      <td>6500</td>\n",
       "      <td>7000</td>\n",
       "      <td>6550.0</td>\n",
       "      <td>2023-03-22</td>\n",
       "      <td>90.0</td>\n",
       "    </tr>\n",
       "  </tbody>\n",
       "</table>\n",
       "</div>"
      ],
      "text/plain": [
       "  District Name Market Name         Variety   Group  Arrivals (Tonnes)  \\\n",
       "0    Chhindwara     Amarwda  Arhar Dal(Tur)  Pulses                2.5   \n",
       "1    Chhindwara     Amarwda  Arhar Dal(Tur)  Pulses                0.5   \n",
       "2    Chhindwara     Amarwda  Arhar Dal(Tur)  Pulses                8.0   \n",
       "3    Chhindwara     Amarwda  Arhar Dal(Tur)  Pulses                2.5   \n",
       "4    Chhindwara     Amarwda  Arhar Dal(Tur)  Pulses                9.0   \n",
       "\n",
       "   Min Price (Rs./Quintal)  Max Price (Rs./Quintal)  \\\n",
       "0                     4000                     4000   \n",
       "1                     8000                     8000   \n",
       "2                     8000                     8200   \n",
       "3                     6000                     6500   \n",
       "4                     6500                     7000   \n",
       "\n",
       "   Modal Price (Rs./Quintal) Reported Date  Arrivals (Quintals)  \n",
       "0                     4000.0    2023-10-18                 25.0  \n",
       "1                     8000.0    2023-07-17                  5.0  \n",
       "2                     8100.0    2023-07-16                 80.0  \n",
       "3                     6250.0    2023-05-16                 25.0  \n",
       "4                     6550.0    2023-03-22                 90.0  "
      ]
     },
     "execution_count": 63,
     "metadata": {},
     "output_type": "execute_result"
    }
   ],
   "source": [
    "Ahar_Dal_Tur_Dal.head()"
   ]
  },
  {
   "cell_type": "code",
   "execution_count": null,
   "id": "3d9931c2",
   "metadata": {},
   "outputs": [],
   "source": []
  },
  {
   "cell_type": "code",
   "execution_count": 58,
   "id": "1509f4a3",
   "metadata": {},
   "outputs": [],
   "source": [
    "Ahar_Dal_Tur_Dal=First.drop_state(Ahar_Dal_Tur_Dal)"
   ]
  },
  {
   "cell_type": "code",
   "execution_count": 59,
   "id": "49bc3287",
   "metadata": {},
   "outputs": [],
   "source": [
    "Ahar_Dal_Tur_Dal=First.date_convertion(Ahar_Dal_Tur_Dal)"
   ]
  },
  {
   "cell_type": "code",
   "execution_count": 60,
   "id": "1b701cd8",
   "metadata": {},
   "outputs": [],
   "source": [
    "Ahar_Dal_Tur_Dal=First.Tonnes_conversion(Ahar_Dal_Tur_Dal)"
   ]
  },
  {
   "cell_type": "code",
   "execution_count": 61,
   "id": "9554f7be",
   "metadata": {},
   "outputs": [],
   "source": [
    "Ahar_Dal_Tur_Dal=First.Quintal_conversion_arrivals(Ahar_Dal_Tur_Dal)"
   ]
  },
  {
   "cell_type": "code",
   "execution_count": 62,
   "id": "15e0ef64",
   "metadata": {},
   "outputs": [
    {
     "data": {
      "text/plain": [
       "dtype('<M8[ns]')"
      ]
     },
     "execution_count": 62,
     "metadata": {},
     "output_type": "execute_result"
    }
   ],
   "source": [
    "Ahar_Dal_Tur_Dal['Reported Date'].dtype"
   ]
  },
  {
   "cell_type": "code",
   "execution_count": 112,
   "id": "8a583a28",
   "metadata": {},
   "outputs": [
    {
     "name": "stdout",
     "output_type": "stream",
     "text": [
      "Arrivals (Tonnes)\n"
     ]
    },
    {
     "data": {
      "image/png": "[encoded data removed]",
      "text/plain": [
       "<Figure size 640x480 with 1 Axes>"
      ]
     },
     "metadata": {},
     "output_type": "display_data"
    },
    {
     "name": "stdout",
     "output_type": "stream",
     "text": [
      "Min Price (Rs./Quintal)\n"
     ]
    },
    {
     "data": {
      "image/png": "[encoded data removed]",
      "text/plain": [
       "<Figure size 640x480 with 1 Axes>"
      ]
     },
     "metadata": {},
     "output_type": "display_data"
    },
    {
     "name": "stdout",
     "output_type": "stream",
     "text": [
      "Max Price (Rs./Quintal)\n"
     ]
    },
    {
     "data": {
      "image/png": "[encoded data removed]",
      "text/plain": [
       "<Figure size 640x480 with 1 Axes>"
      ]
     },
     "metadata": {},
     "output_type": "display_data"
    },
    {
     "name": "stdout",
     "output_type": "stream",
     "text": [
      "Modal Price (Rs./Quintal)\n"
     ]
    },
    {
     "data": {
      "image/png": "[encoded data removed]",
      "text/plain": [
       "<Figure size 640x480 with 1 Axes>"
      ]
     },
     "metadata": {},
     "output_type": "display_data"
    },
    {
     "name": "stdout",
     "output_type": "stream",
     "text": [
      "Arrivals (Quintals)\n"
     ]
    },
    {
     "data": {
      "image/png": "[encoded data removed]",
      "text/plain": [
       "<Figure size 640x480 with 1 Axes>"
      ]
     },
     "metadata": {},
     "output_type": "display_data"
    }
   ],
   "source": [
    "for column in Ahar_Dal_Tur_Dal.columns:\n",
    "    if Ahar_Dal_Tur_Dal[column].dtype!='object' and Ahar_Dal_Tur_Dal[column].dtype!='<M8[ns]':\n",
    "        print(column)\n",
    "        First.plot_outlier(Ahar_Dal_Tur_Dal[column],column)"
   ]
  },
  {
   "cell_type": "code",
   "execution_count": 118,
   "id": "b176f1ae",
   "metadata": {},
   "outputs": [
    {
     "name": "stdout",
     "output_type": "stream",
     "text": [
      "Arrivals (Tonnes)\n"
     ]
    },
    {
     "name": "stderr",
     "output_type": "stream",
     "text": [
      "C:\\Users\\aksha\\AppData\\Local\\Temp\\ipykernel_31724\\4253890278.py:43: UserWarning: \n",
      "\n",
      "`distplot` is a deprecated function and will be removed in seaborn v0.14.0.\n",
      "\n",
      "Please adapt your code to use either `displot` (a figure-level function with\n",
      "similar flexibility) or `histplot` (an axes-level function for histograms).\n",
      "\n",
      "For a guide to updating your code to use the new functions, please see\n",
      "https://gist.github.com/mwaskom/de44147ed2974457ad6372750bbe5751\n",
      "\n",
      "  sns.distplot(column_data)\n"
     ]
    },
    {
     "data": {
      "image/png": "[encoded data removed]",
      "text/plain": [
       "<Figure size 640x480 with 1 Axes>"
      ]
     },
     "metadata": {},
     "output_type": "display_data"
    },
    {
     "name": "stdout",
     "output_type": "stream",
     "text": [
      "Min Price (Rs./Quintal)\n"
     ]
    },
    {
     "name": "stderr",
     "output_type": "stream",
     "text": [
      "C:\\Users\\aksha\\AppData\\Local\\Temp\\ipykernel_31724\\4253890278.py:43: UserWarning: \n",
      "\n",
      "`distplot` is a deprecated function and will be removed in seaborn v0.14.0.\n",
      "\n",
      "Please adapt your code to use either `displot` (a figure-level function with\n",
      "similar flexibility) or `histplot` (an axes-level function for histograms).\n",
      "\n",
      "For a guide to updating your code to use the new functions, please see\n",
      "https://gist.github.com/mwaskom/de44147ed2974457ad6372750bbe5751\n",
      "\n",
      "  sns.distplot(column_data)\n"
     ]
    },
    {
     "data": {
      "image/png": "[encoded data removed]",
      "text/plain": [
       "<Figure size 640x480 with 1 Axes>"
      ]
     },
     "metadata": {},
     "output_type": "display_data"
    },
    {
     "name": "stdout",
     "output_type": "stream",
     "text": [
      "Max Price (Rs./Quintal)\n"
     ]
    },
    {
     "name": "stderr",
     "output_type": "stream",
     "text": [
      "C:\\Users\\aksha\\AppData\\Local\\Temp\\ipykernel_31724\\4253890278.py:43: UserWarning: \n",
      "\n",
      "`distplot` is a deprecated function and will be removed in seaborn v0.14.0.\n",
      "\n",
      "Please adapt your code to use either `displot` (a figure-level function with\n",
      "similar flexibility) or `histplot` (an axes-level function for histograms).\n",
      "\n",
      "For a guide to updating your code to use the new functions, please see\n",
      "https://gist.github.com/mwaskom/de44147ed2974457ad6372750bbe5751\n",
      "\n",
      "  sns.distplot(column_data)\n"
     ]
    },
    {
     "data": {
      "image/png": "[encoded data removed]",
      "text/plain": [
       "<Figure size 640x480 with 1 Axes>"
      ]
     },
     "metadata": {},
     "output_type": "display_data"
    },
    {
     "name": "stdout",
     "output_type": "stream",
     "text": [
      "Modal Price (Rs./Quintal)\n"
     ]
    },
    {
     "name": "stderr",
     "output_type": "stream",
     "text": [
      "C:\\Users\\aksha\\AppData\\Local\\Temp\\ipykernel_31724\\4253890278.py:43: UserWarning: \n",
      "\n",
      "`distplot` is a deprecated function and will be removed in seaborn v0.14.0.\n",
      "\n",
      "Please adapt your code to use either `displot` (a figure-level function with\n",
      "similar flexibility) or `histplot` (an axes-level function for histograms).\n",
      "\n",
      "For a guide to updating your code to use the new functions, please see\n",
      "https://gist.github.com/mwaskom/de44147ed2974457ad6372750bbe5751\n",
      "\n",
      "  sns.distplot(column_data)\n"
     ]
    },
    {
     "data": {
      "image/png": "[encoded data removed]",
      "text/plain": [
       "<Figure size 640x480 with 1 Axes>"
      ]
     },
     "metadata": {},
     "output_type": "display_data"
    },
    {
     "name": "stdout",
     "output_type": "stream",
     "text": [
      "Arrivals (Quintals)\n"
     ]
    },
    {
     "name": "stderr",
     "output_type": "stream",
     "text": [
      "C:\\Users\\aksha\\AppData\\Local\\Temp\\ipykernel_31724\\4253890278.py:43: UserWarning: \n",
      "\n",
      "`distplot` is a deprecated function and will be removed in seaborn v0.14.0.\n",
      "\n",
      "Please adapt your code to use either `displot` (a figure-level function with\n",
      "similar flexibility) or `histplot` (an axes-level function for histograms).\n",
      "\n",
      "For a guide to updating your code to use the new functions, please see\n",
      "https://gist.github.com/mwaskom/de44147ed2974457ad6372750bbe5751\n",
      "\n",
      "  sns.distplot(column_data)\n"
     ]
    },
    {
     "data": {
      "image/png": "[encoded data removed]",
      "text/plain": [
       "<Figure size 640x480 with 1 Axes>"
      ]
     },
     "metadata": {},
     "output_type": "display_data"
    }
   ],
   "source": [
    " "
   ]
  },
  {
   "cell_type": "code",
   "execution_count": 85,
   "id": "3d5631e1",
   "metadata": {},
   "outputs": [
    {
     "name": "stdout",
     "output_type": "stream",
     "text": [
      "<class 'pandas.core.frame.DataFrame'>\n",
      "RangeIndex: 1936 entries, 0 to 1935\n",
      "Data columns (total 11 columns):\n",
      " #   Column                     Non-Null Count  Dtype         \n",
      "---  ------                     --------------  -----         \n",
      " 0   State Name                 1936 non-null   object        \n",
      " 1   District Name              1936 non-null   object        \n",
      " 2   Market Name                1936 non-null   object        \n",
      " 3   Variety                    1936 non-null   object        \n",
      " 4   Group                      1936 non-null   object        \n",
      " 5   Arrivals (Tonnes)          1936 non-null   float64       \n",
      " 6   Min Price (Rs./Quintal)    1936 non-null   int64         \n",
      " 7   Max Price (Rs./Quintal)    1936 non-null   int64         \n",
      " 8   Modal Price (Rs./Quintal)  1936 non-null   float64       \n",
      " 9   Reported Date              1936 non-null   datetime64[ns]\n",
      " 10  Arrivals (Quintals)        1936 non-null   float64       \n",
      "dtypes: datetime64[ns](1), float64(3), int64(2), object(5)\n",
      "memory usage: 166.5+ KB\n"
     ]
    }
   ],
   "source": [
    "Ahar_Dal_Tur_Dal.info()"
   ]
  },
  {
   "cell_type": "markdown",
   "id": "b37da151",
   "metadata": {},
   "source": [
    "### Ajwan"
   ]
  },
  {
   "cell_type": "code",
   "execution_count": 34,
   "id": "92032dd3",
   "metadata": {
    "scrolled": true
   },
   "outputs": [
    {
     "data": {
      "text/plain": [
       "['Quintal_conversion_arrivals',\n",
       " 'Tonnes_conversion',\n",
       " '__class__',\n",
       " '__delattr__',\n",
       " '__dir__',\n",
       " '__eq__',\n",
       " '__format__',\n",
       " '__ge__',\n",
       " '__getattribute__',\n",
       " '__gt__',\n",
       " '__hash__',\n",
       " '__init__',\n",
       " '__init_subclass__',\n",
       " '__le__',\n",
       " '__lt__',\n",
       " '__ne__',\n",
       " '__new__',\n",
       " '__reduce__',\n",
       " '__reduce_ex__',\n",
       " '__repr__',\n",
       " '__setattr__',\n",
       " '__sizeof__',\n",
       " '__str__',\n",
       " '__subclasshook__',\n",
       " 'all_methods',\n",
       " 'data_load',\n",
       " 'date_convertion',\n",
       " 'drop_state',\n",
       " 'extract_filenames',\n",
       " 'load_csv_files',\n",
       " 'plot_distribution',\n",
       " 'plot_outlier']"
      ]
     },
     "execution_count": 34,
     "metadata": {},
     "output_type": "execute_result"
    }
   ],
   "source": [
    "#creating object\n",
    "second=Analysis()\n",
    "#knowing all the methods\n",
    "second.all_methods()"
   ]
  },
  {
   "cell_type": "code",
   "execution_count": 98,
   "id": "9df8e166",
   "metadata": {},
   "outputs": [
    {
     "data": {
      "text/html": [
       "<div>\n",
       "<style scoped>\n",
       "    .dataframe tbody tr th:only-of-type {\n",
       "        vertical-align: middle;\n",
       "    }\n",
       "\n",
       "    .dataframe tbody tr th {\n",
       "        vertical-align: top;\n",
       "    }\n",
       "\n",
       "    .dataframe thead th {\n",
       "        text-align: right;\n",
       "    }\n",
       "</style>\n",
       "<table border=\"1\" class=\"dataframe\">\n",
       "  <thead>\n",
       "    <tr style=\"text-align: right;\">\n",
       "      <th></th>\n",
       "      <th>State Name</th>\n",
       "      <th>District Name</th>\n",
       "      <th>Market Name</th>\n",
       "      <th>Variety</th>\n",
       "      <th>Group</th>\n",
       "      <th>Arrivals (Tonnes)</th>\n",
       "      <th>Min Price (Rs./Quintal)</th>\n",
       "      <th>Max Price (Rs./Quintal)</th>\n",
       "      <th>Modal Price (Rs./Quintal)</th>\n",
       "      <th>Reported Date</th>\n",
       "    </tr>\n",
       "  </thead>\n",
       "  <tbody>\n",
       "    <tr>\n",
       "      <th>0</th>\n",
       "      <td>Madhya Pradesh</td>\n",
       "      <td>Ashoknagar</td>\n",
       "      <td>Ashoknagar</td>\n",
       "      <td>Ajwan</td>\n",
       "      <td>Spices</td>\n",
       "      <td>0.1</td>\n",
       "      <td>0</td>\n",
       "      <td>0</td>\n",
       "      <td>2125</td>\n",
       "      <td>03-Sep-23</td>\n",
       "    </tr>\n",
       "    <tr>\n",
       "      <th>1</th>\n",
       "      <td>Madhya Pradesh</td>\n",
       "      <td>Ashoknagar</td>\n",
       "      <td>Ashoknagar</td>\n",
       "      <td>Ajwan</td>\n",
       "      <td>Spices</td>\n",
       "      <td>0.01</td>\n",
       "      <td>1640</td>\n",
       "      <td>2450</td>\n",
       "      <td>1760</td>\n",
       "      <td>16-Apr-20</td>\n",
       "    </tr>\n",
       "    <tr>\n",
       "      <th>2</th>\n",
       "      <td>Madhya Pradesh</td>\n",
       "      <td>Ashoknagar</td>\n",
       "      <td>Ashoknagar</td>\n",
       "      <td>Ajwan</td>\n",
       "      <td>Spices</td>\n",
       "      <td>15</td>\n",
       "      <td>2326</td>\n",
       "      <td>2326</td>\n",
       "      <td>2326</td>\n",
       "      <td>16-May-19</td>\n",
       "    </tr>\n",
       "    <tr>\n",
       "      <th>3</th>\n",
       "      <td>Madhya Pradesh</td>\n",
       "      <td>Ashoknagar</td>\n",
       "      <td>Ashoknagar</td>\n",
       "      <td>Ajwan</td>\n",
       "      <td>Spices</td>\n",
       "      <td>2</td>\n",
       "      <td>5900</td>\n",
       "      <td>5900</td>\n",
       "      <td>5900</td>\n",
       "      <td>05-Jan-18</td>\n",
       "    </tr>\n",
       "    <tr>\n",
       "      <th>4</th>\n",
       "      <td>Madhya Pradesh</td>\n",
       "      <td>Ashoknagar</td>\n",
       "      <td>Ashoknagar</td>\n",
       "      <td>Ajwan</td>\n",
       "      <td>Spices</td>\n",
       "      <td>5</td>\n",
       "      <td>6711</td>\n",
       "      <td>7002</td>\n",
       "      <td>6711</td>\n",
       "      <td>04-Jan-18</td>\n",
       "    </tr>\n",
       "  </tbody>\n",
       "</table>\n",
       "</div>"
      ],
      "text/plain": [
       "       State Name District Name Market Name Variety   Group Arrivals (Tonnes)  \\\n",
       "0  Madhya Pradesh    Ashoknagar  Ashoknagar   Ajwan  Spices               0.1   \n",
       "1  Madhya Pradesh    Ashoknagar  Ashoknagar   Ajwan  Spices              0.01   \n",
       "2  Madhya Pradesh    Ashoknagar  Ashoknagar   Ajwan  Spices                15   \n",
       "3  Madhya Pradesh    Ashoknagar  Ashoknagar   Ajwan  Spices                 2   \n",
       "4  Madhya Pradesh    Ashoknagar  Ashoknagar   Ajwan  Spices                 5   \n",
       "\n",
       "   Min Price (Rs./Quintal)  Max Price (Rs./Quintal)  \\\n",
       "0                        0                        0   \n",
       "1                     1640                     2450   \n",
       "2                     2326                     2326   \n",
       "3                     5900                     5900   \n",
       "4                     6711                     7002   \n",
       "\n",
       "   Modal Price (Rs./Quintal) Reported Date  \n",
       "0                       2125     03-Sep-23  \n",
       "1                       1760     16-Apr-20  \n",
       "2                       2326     16-May-19  \n",
       "3                       5900     05-Jan-18  \n",
       "4                       6711     04-Jan-18  "
      ]
     },
     "execution_count": 98,
     "metadata": {},
     "output_type": "execute_result"
    }
   ],
   "source": [
    "Ajwan=second.data_load('Agmarknet_Price_And_Arrival_Report_Ajwan.csv')\n",
    "Ajwan.head()"
   ]
  },
  {
   "cell_type": "code",
   "execution_count": 65,
   "id": "c62761e7",
   "metadata": {
    "scrolled": true
   },
   "outputs": [
    {
     "name": "stdout",
     "output_type": "stream",
     "text": [
      "<class 'pandas.core.frame.DataFrame'>\n",
      "RangeIndex: 2460 entries, 0 to 2459\n",
      "Data columns (total 10 columns):\n",
      " #   Column                     Non-Null Count  Dtype \n",
      "---  ------                     --------------  ----- \n",
      " 0   State Name                 2460 non-null   object\n",
      " 1   District Name              2460 non-null   object\n",
      " 2   Market Name                2460 non-null   object\n",
      " 3   Variety                    2460 non-null   object\n",
      " 4   Group                      2460 non-null   object\n",
      " 5   Arrivals (Tonnes)          2458 non-null   object\n",
      " 6   Min Price (Rs./Quintal)    2460 non-null   int64 \n",
      " 7   Max Price (Rs./Quintal)    2460 non-null   int64 \n",
      " 8   Modal Price (Rs./Quintal)  2460 non-null   int64 \n",
      " 9   Reported Date              2460 non-null   object\n",
      "dtypes: int64(3), object(7)\n",
      "memory usage: 192.3+ KB\n"
     ]
    }
   ],
   "source": [
    "Ajwan.info()"
   ]
  },
  {
   "cell_type": "code",
   "execution_count": 100,
   "id": "d9c4ea28",
   "metadata": {},
   "outputs": [],
   "source": [
    "Ajwan=second.drop_state(Ajwan)"
   ]
  },
  {
   "cell_type": "code",
   "execution_count": 101,
   "id": "23cfa9cf",
   "metadata": {},
   "outputs": [],
   "source": [
    "Ajwan=second.date_convertion(Ajwan)"
   ]
  },
  {
   "cell_type": "code",
   "execution_count": 102,
   "id": "6e03dfb8",
   "metadata": {},
   "outputs": [],
   "source": [
    "Ajwan=second.Tonnes_conversion(Ajwan)"
   ]
  },
  {
   "cell_type": "code",
   "execution_count": 103,
   "id": "147ba0e5",
   "metadata": {},
   "outputs": [],
   "source": [
    "Ajwan=second.Quintal_conversion_arrivals(Ajwan)"
   ]
  },
  {
   "cell_type": "code",
   "execution_count": 45,
   "id": "28ba90e0",
   "metadata": {},
   "outputs": [
    {
     "data": {
      "text/plain": [
       "array(['Spices'], dtype=object)"
      ]
     },
     "execution_count": 45,
     "metadata": {},
     "output_type": "execute_result"
    }
   ],
   "source": [
    "Ajwayn.Group.unique()"
   ]
  },
  {
   "cell_type": "code",
   "execution_count": 70,
   "id": "f2719471",
   "metadata": {},
   "outputs": [
    {
     "name": "stdout",
     "output_type": "stream",
     "text": [
      "<class 'pandas.core.frame.DataFrame'>\n",
      "RangeIndex: 2460 entries, 0 to 2459\n",
      "Data columns (total 10 columns):\n",
      " #   Column                     Non-Null Count  Dtype         \n",
      "---  ------                     --------------  -----         \n",
      " 0   District Name              2460 non-null   object        \n",
      " 1   Market Name                2460 non-null   object        \n",
      " 2   Variety                    2460 non-null   object        \n",
      " 3   Group                      2460 non-null   object        \n",
      " 4   Arrivals (Tonnes)          2458 non-null   float64       \n",
      " 5   Min Price (Rs./Quintal)    2460 non-null   int64         \n",
      " 6   Max Price (Rs./Quintal)    2460 non-null   int64         \n",
      " 7   Modal Price (Rs./Quintal)  2460 non-null   int64         \n",
      " 8   Reported Date              2460 non-null   datetime64[ns]\n",
      " 9   Arrivals (Quintals)        2458 non-null   float64       \n",
      "dtypes: datetime64[ns](1), float64(2), int64(3), object(4)\n",
      "memory usage: 192.3+ KB\n"
     ]
    }
   ],
   "source": [
    "Ajwan.info()"
   ]
  },
  {
   "cell_type": "markdown",
   "id": "06c34833",
   "metadata": {},
   "source": [
    "### Alsande Gram"
   ]
  },
  {
   "cell_type": "code",
   "execution_count": 72,
   "id": "51ed07e8",
   "metadata": {},
   "outputs": [
    {
     "data": {
      "text/plain": [
       "['Quintal_conversion_arrivals',\n",
       " 'Tonnes_conversion',\n",
       " '__class__',\n",
       " '__delattr__',\n",
       " '__dir__',\n",
       " '__eq__',\n",
       " '__format__',\n",
       " '__ge__',\n",
       " '__getattribute__',\n",
       " '__gt__',\n",
       " '__hash__',\n",
       " '__init__',\n",
       " '__init_subclass__',\n",
       " '__le__',\n",
       " '__lt__',\n",
       " '__ne__',\n",
       " '__new__',\n",
       " '__reduce__',\n",
       " '__reduce_ex__',\n",
       " '__repr__',\n",
       " '__setattr__',\n",
       " '__sizeof__',\n",
       " '__str__',\n",
       " '__subclasshook__',\n",
       " 'all_methods',\n",
       " 'data_load',\n",
       " 'date_convertion',\n",
       " 'drop_state',\n",
       " 'extract_filenames',\n",
       " 'load_csv_files',\n",
       " 'plot_distribution',\n",
       " 'plot_outlier']"
      ]
     },
     "execution_count": 72,
     "metadata": {},
     "output_type": "execute_result"
    }
   ],
   "source": [
    "#creating object\n",
    "third=Analysis()\n",
    "third.all_methods()"
   ]
  },
  {
   "cell_type": "code",
   "execution_count": 73,
   "id": "6c55ef80",
   "metadata": {},
   "outputs": [
    {
     "data": {
      "text/html": [
       "<div>\n",
       "<style scoped>\n",
       "    .dataframe tbody tr th:only-of-type {\n",
       "        vertical-align: middle;\n",
       "    }\n",
       "\n",
       "    .dataframe tbody tr th {\n",
       "        vertical-align: top;\n",
       "    }\n",
       "\n",
       "    .dataframe thead th {\n",
       "        text-align: right;\n",
       "    }\n",
       "</style>\n",
       "<table border=\"1\" class=\"dataframe\">\n",
       "  <thead>\n",
       "    <tr style=\"text-align: right;\">\n",
       "      <th></th>\n",
       "      <th>State Name</th>\n",
       "      <th>District Name</th>\n",
       "      <th>Market Name</th>\n",
       "      <th>Variety</th>\n",
       "      <th>Group</th>\n",
       "      <th>Arrivals (Tonnes)</th>\n",
       "      <th>Min Price (Rs./Quintal)</th>\n",
       "      <th>Max Price (Rs./Quintal)</th>\n",
       "      <th>Modal Price (Rs./Quintal)</th>\n",
       "      <th>Reported Date</th>\n",
       "    </tr>\n",
       "  </thead>\n",
       "  <tbody>\n",
       "    <tr>\n",
       "      <th>0</th>\n",
       "      <td>Madhya Pradesh</td>\n",
       "      <td>Panna</td>\n",
       "      <td>Ajaygarh</td>\n",
       "      <td>Alasande Gram</td>\n",
       "      <td>Pulses</td>\n",
       "      <td>8.5</td>\n",
       "      <td>5800.0</td>\n",
       "      <td>5850.0</td>\n",
       "      <td>5820.0</td>\n",
       "      <td>14-Dec-23</td>\n",
       "    </tr>\n",
       "    <tr>\n",
       "      <th>1</th>\n",
       "      <td>Madhya Pradesh</td>\n",
       "      <td>Panna</td>\n",
       "      <td>Ajaygarh</td>\n",
       "      <td>Alasande Gram</td>\n",
       "      <td>Pulses</td>\n",
       "      <td>9.9</td>\n",
       "      <td>5800.0</td>\n",
       "      <td>5850.0</td>\n",
       "      <td>5820.0</td>\n",
       "      <td>13-Dec-23</td>\n",
       "    </tr>\n",
       "    <tr>\n",
       "      <th>2</th>\n",
       "      <td>Madhya Pradesh</td>\n",
       "      <td>Panna</td>\n",
       "      <td>Ajaygarh</td>\n",
       "      <td>Alasande Gram</td>\n",
       "      <td>Pulses</td>\n",
       "      <td>8.5</td>\n",
       "      <td>5800.0</td>\n",
       "      <td>5820.0</td>\n",
       "      <td>5810.0</td>\n",
       "      <td>12-Dec-23</td>\n",
       "    </tr>\n",
       "    <tr>\n",
       "      <th>3</th>\n",
       "      <td>Madhya Pradesh</td>\n",
       "      <td>Panna</td>\n",
       "      <td>Ajaygarh</td>\n",
       "      <td>Alasande Gram</td>\n",
       "      <td>Pulses</td>\n",
       "      <td>10</td>\n",
       "      <td>5900.0</td>\n",
       "      <td>6000.0</td>\n",
       "      <td>5950.0</td>\n",
       "      <td>29-Nov-23</td>\n",
       "    </tr>\n",
       "    <tr>\n",
       "      <th>4</th>\n",
       "      <td>Madhya Pradesh</td>\n",
       "      <td>Panna</td>\n",
       "      <td>Ajaygarh</td>\n",
       "      <td>Alasande Gram</td>\n",
       "      <td>Pulses</td>\n",
       "      <td>7</td>\n",
       "      <td>5900.0</td>\n",
       "      <td>6000.0</td>\n",
       "      <td>5960.0</td>\n",
       "      <td>28-Nov-23</td>\n",
       "    </tr>\n",
       "  </tbody>\n",
       "</table>\n",
       "</div>"
      ],
      "text/plain": [
       "       State Name District Name Market Name        Variety   Group  \\\n",
       "0  Madhya Pradesh         Panna    Ajaygarh  Alasande Gram  Pulses   \n",
       "1  Madhya Pradesh         Panna    Ajaygarh  Alasande Gram  Pulses   \n",
       "2  Madhya Pradesh         Panna    Ajaygarh  Alasande Gram  Pulses   \n",
       "3  Madhya Pradesh         Panna    Ajaygarh  Alasande Gram  Pulses   \n",
       "4  Madhya Pradesh         Panna    Ajaygarh  Alasande Gram  Pulses   \n",
       "\n",
       "  Arrivals (Tonnes)  Min Price (Rs./Quintal)  Max Price (Rs./Quintal)  \\\n",
       "0               8.5                   5800.0                   5850.0   \n",
       "1               9.9                   5800.0                   5850.0   \n",
       "2               8.5                   5800.0                   5820.0   \n",
       "3                10                   5900.0                   6000.0   \n",
       "4                 7                   5900.0                   6000.0   \n",
       "\n",
       "   Modal Price (Rs./Quintal) Reported Date  \n",
       "0                     5820.0     14-Dec-23  \n",
       "1                     5820.0     13-Dec-23  \n",
       "2                     5810.0     12-Dec-23  \n",
       "3                     5950.0     29-Nov-23  \n",
       "4                     5960.0     28-Nov-23  "
      ]
     },
     "execution_count": 73,
     "metadata": {},
     "output_type": "execute_result"
    }
   ],
   "source": [
    "Alsande_Gram=third.data_load('Agmarknet_Price_And_Arrival_Report_Alsande Gram.csv')\n",
    "Alsande_Gram.head()"
   ]
  },
  {
   "cell_type": "code",
   "execution_count": 74,
   "id": "73603236",
   "metadata": {},
   "outputs": [],
   "source": [
    "Alsande_Gram=third.drop_state(Alsande_Gram)\n",
    "Alsande_Gram=third.date_convertion(Alsande_Gram)\n",
    "Alsande_Gram=third.Tonnes_conversion(Alsande_Gram)\n",
    "Alsande_Gram=second.Quintal_conversion_arrivals(Alsande_Gram)"
   ]
  },
  {
   "cell_type": "code",
   "execution_count": 75,
   "id": "fb433c8c",
   "metadata": {},
   "outputs": [
    {
     "name": "stdout",
     "output_type": "stream",
     "text": [
      "<class 'pandas.core.frame.DataFrame'>\n",
      "RangeIndex: 3377 entries, 0 to 3376\n",
      "Data columns (total 10 columns):\n",
      " #   Column                     Non-Null Count  Dtype         \n",
      "---  ------                     --------------  -----         \n",
      " 0   District Name              3377 non-null   object        \n",
      " 1   Market Name                3377 non-null   object        \n",
      " 2   Variety                    3377 non-null   object        \n",
      " 3   Group                      3377 non-null   object        \n",
      " 4   Arrivals (Tonnes)          3376 non-null   float64       \n",
      " 5   Min Price (Rs./Quintal)    3377 non-null   float64       \n",
      " 6   Max Price (Rs./Quintal)    3377 non-null   float64       \n",
      " 7   Modal Price (Rs./Quintal)  3377 non-null   float64       \n",
      " 8   Reported Date              3377 non-null   datetime64[ns]\n",
      " 9   Arrivals (Quintals)        3376 non-null   float64       \n",
      "dtypes: datetime64[ns](1), float64(5), object(4)\n",
      "memory usage: 264.0+ KB\n"
     ]
    }
   ],
   "source": [
    "Alsande_Gram.info()"
   ]
  },
  {
   "cell_type": "markdown",
   "id": "8585e448",
   "metadata": {},
   "source": [
    "### Alsandikai"
   ]
  },
  {
   "cell_type": "code",
   "execution_count": 76,
   "id": "523cad2b",
   "metadata": {},
   "outputs": [],
   "source": [
    "fourth=Analysis()"
   ]
  },
  {
   "cell_type": "code",
   "execution_count": 81,
   "id": "251b1f2f",
   "metadata": {},
   "outputs": [
    {
     "data": {
      "text/html": [
       "<div>\n",
       "<style scoped>\n",
       "    .dataframe tbody tr th:only-of-type {\n",
       "        vertical-align: middle;\n",
       "    }\n",
       "\n",
       "    .dataframe tbody tr th {\n",
       "        vertical-align: top;\n",
       "    }\n",
       "\n",
       "    .dataframe thead th {\n",
       "        text-align: right;\n",
       "    }\n",
       "</style>\n",
       "<table border=\"1\" class=\"dataframe\">\n",
       "  <thead>\n",
       "    <tr style=\"text-align: right;\">\n",
       "      <th></th>\n",
       "      <th>State Name</th>\n",
       "      <th>District Name</th>\n",
       "      <th>Market Name</th>\n",
       "      <th>Variety</th>\n",
       "      <th>Group</th>\n",
       "      <th>Arrivals (Tonnes)</th>\n",
       "      <th>Min Price (Rs./Quintal)</th>\n",
       "      <th>Max Price (Rs./Quintal)</th>\n",
       "      <th>Modal Price (Rs./Quintal)</th>\n",
       "      <th>Reported Date</th>\n",
       "    </tr>\n",
       "  </thead>\n",
       "  <tbody>\n",
       "    <tr>\n",
       "      <th>0</th>\n",
       "      <td>Madhya Pradesh</td>\n",
       "      <td>Khandwa</td>\n",
       "      <td>Khandwa</td>\n",
       "      <td>Alsandikai</td>\n",
       "      <td>Vegetables</td>\n",
       "      <td>1,279.00</td>\n",
       "      <td>1800</td>\n",
       "      <td>2492</td>\n",
       "      <td>2230</td>\n",
       "      <td>19-May-23</td>\n",
       "    </tr>\n",
       "    <tr>\n",
       "      <th>1</th>\n",
       "      <td>Madhya Pradesh</td>\n",
       "      <td>Khandwa</td>\n",
       "      <td>Khandwa</td>\n",
       "      <td>Alsandikai</td>\n",
       "      <td>Vegetables</td>\n",
       "      <td>293</td>\n",
       "      <td>3518</td>\n",
       "      <td>3756</td>\n",
       "      <td>3700</td>\n",
       "      <td>02-Feb-19</td>\n",
       "    </tr>\n",
       "    <tr>\n",
       "      <th>2</th>\n",
       "      <td>Madhya Pradesh</td>\n",
       "      <td>Khandwa</td>\n",
       "      <td>Khandwa</td>\n",
       "      <td>Alsandikai</td>\n",
       "      <td>Vegetables</td>\n",
       "      <td>477</td>\n",
       "      <td>1100</td>\n",
       "      <td>1150</td>\n",
       "      <td>1125</td>\n",
       "      <td>24-Jan-18</td>\n",
       "    </tr>\n",
       "  </tbody>\n",
       "</table>\n",
       "</div>"
      ],
      "text/plain": [
       "       State Name District Name Market Name     Variety       Group  \\\n",
       "0  Madhya Pradesh       Khandwa     Khandwa  Alsandikai  Vegetables   \n",
       "1  Madhya Pradesh       Khandwa     Khandwa  Alsandikai  Vegetables   \n",
       "2  Madhya Pradesh       Khandwa     Khandwa  Alsandikai  Vegetables   \n",
       "\n",
       "  Arrivals (Tonnes)  Min Price (Rs./Quintal)  Max Price (Rs./Quintal)  \\\n",
       "0          1,279.00                     1800                     2492   \n",
       "1               293                     3518                     3756   \n",
       "2               477                     1100                     1150   \n",
       "\n",
       "   Modal Price (Rs./Quintal) Reported Date  \n",
       "0                       2230     19-May-23  \n",
       "1                       3700     02-Feb-19  \n",
       "2                       1125     24-Jan-18  "
      ]
     },
     "execution_count": 81,
     "metadata": {},
     "output_type": "execute_result"
    }
   ],
   "source": [
    "Alsandikai=fourth.data_load('Agmarknet_Price_And_Arrival_Report_Alsandikai.csv')\n",
    "Alsandikai.head()"
   ]
  },
  {
   "cell_type": "code",
   "execution_count": 82,
   "id": "c2cd68e4",
   "metadata": {},
   "outputs": [],
   "source": [
    "Alsandikai=fourth.drop_state(Alsandikai)\n",
    "Alsandikai=fourth.date_convertion(Alsandikai)\n",
    "Alsandikai=fourth.Tonnes_conversion(Alsandikai)\n",
    "Alsandikai=fourth.Quintal_conversion_arrivals(Alsandikai)"
   ]
  },
  {
   "cell_type": "code",
   "execution_count": 83,
   "id": "7f882d05",
   "metadata": {},
   "outputs": [
    {
     "name": "stdout",
     "output_type": "stream",
     "text": [
      "<class 'pandas.core.frame.DataFrame'>\n",
      "RangeIndex: 3 entries, 0 to 2\n",
      "Data columns (total 10 columns):\n",
      " #   Column                     Non-Null Count  Dtype         \n",
      "---  ------                     --------------  -----         \n",
      " 0   District Name              3 non-null      object        \n",
      " 1   Market Name                3 non-null      object        \n",
      " 2   Variety                    3 non-null      object        \n",
      " 3   Group                      3 non-null      object        \n",
      " 4   Arrivals (Tonnes)          3 non-null      float64       \n",
      " 5   Min Price (Rs./Quintal)    3 non-null      int64         \n",
      " 6   Max Price (Rs./Quintal)    3 non-null      int64         \n",
      " 7   Modal Price (Rs./Quintal)  3 non-null      int64         \n",
      " 8   Reported Date              3 non-null      datetime64[ns]\n",
      " 9   Arrivals (Quintals)        3 non-null      float64       \n",
      "dtypes: datetime64[ns](1), float64(2), int64(3), object(4)\n",
      "memory usage: 368.0+ bytes\n"
     ]
    }
   ],
   "source": [
    "Alsandikai.info()"
   ]
  },
  {
   "cell_type": "markdown",
   "id": "a726a317",
   "metadata": {},
   "source": [
    "### Ambada Seed"
   ]
  },
  {
   "cell_type": "code",
   "execution_count": 105,
   "id": "dd6f99c7",
   "metadata": {},
   "outputs": [],
   "source": [
    "fifth=Analysis()"
   ]
  },
  {
   "cell_type": "code",
   "execution_count": 106,
   "id": "b7f422f9",
   "metadata": {},
   "outputs": [
    {
     "data": {
      "text/html": [
       "<div>\n",
       "<style scoped>\n",
       "    .dataframe tbody tr th:only-of-type {\n",
       "        vertical-align: middle;\n",
       "    }\n",
       "\n",
       "    .dataframe tbody tr th {\n",
       "        vertical-align: top;\n",
       "    }\n",
       "\n",
       "    .dataframe thead th {\n",
       "        text-align: right;\n",
       "    }\n",
       "</style>\n",
       "<table border=\"1\" class=\"dataframe\">\n",
       "  <thead>\n",
       "    <tr style=\"text-align: right;\">\n",
       "      <th></th>\n",
       "      <th>State Name</th>\n",
       "      <th>District Name</th>\n",
       "      <th>Market Name</th>\n",
       "      <th>Variety</th>\n",
       "      <th>Group</th>\n",
       "      <th>Arrivals (Tonnes)</th>\n",
       "      <th>Min Price (Rs./Quintal)</th>\n",
       "      <th>Max Price (Rs./Quintal)</th>\n",
       "      <th>Modal Price (Rs./Quintal)</th>\n",
       "      <th>Reported Date</th>\n",
       "    </tr>\n",
       "  </thead>\n",
       "  <tbody>\n",
       "    <tr>\n",
       "      <th>0</th>\n",
       "      <td>Madhya Pradesh</td>\n",
       "      <td>Sidhi</td>\n",
       "      <td>Sidhi</td>\n",
       "      <td>Ambada Seed</td>\n",
       "      <td>Forest Products</td>\n",
       "      <td>75.0</td>\n",
       "      <td>1500</td>\n",
       "      <td>1600</td>\n",
       "      <td>1600</td>\n",
       "      <td>03-May-23</td>\n",
       "    </tr>\n",
       "    <tr>\n",
       "      <th>1</th>\n",
       "      <td>Madhya Pradesh</td>\n",
       "      <td>Sidhi</td>\n",
       "      <td>Sidhi</td>\n",
       "      <td>Other</td>\n",
       "      <td>Forest Products</td>\n",
       "      <td>28.2</td>\n",
       "      <td>1500</td>\n",
       "      <td>1525</td>\n",
       "      <td>1510</td>\n",
       "      <td>22-Mar-23</td>\n",
       "    </tr>\n",
       "    <tr>\n",
       "      <th>2</th>\n",
       "      <td>Madhya Pradesh</td>\n",
       "      <td>Singroli</td>\n",
       "      <td>Singroli</td>\n",
       "      <td>Ambada Seed</td>\n",
       "      <td>Forest Products</td>\n",
       "      <td>20.0</td>\n",
       "      <td>2000</td>\n",
       "      <td>2000</td>\n",
       "      <td>2000</td>\n",
       "      <td>02-Oct-23</td>\n",
       "    </tr>\n",
       "    <tr>\n",
       "      <th>3</th>\n",
       "      <td>Madhya Pradesh</td>\n",
       "      <td>Singroli</td>\n",
       "      <td>Singroli</td>\n",
       "      <td>Ambada Seed</td>\n",
       "      <td>Forest Products</td>\n",
       "      <td>20.0</td>\n",
       "      <td>2000</td>\n",
       "      <td>2000</td>\n",
       "      <td>2000</td>\n",
       "      <td>05-Aug-23</td>\n",
       "    </tr>\n",
       "    <tr>\n",
       "      <th>4</th>\n",
       "      <td>Madhya Pradesh</td>\n",
       "      <td>Singroli</td>\n",
       "      <td>Singroli</td>\n",
       "      <td>Other</td>\n",
       "      <td>Forest Products</td>\n",
       "      <td>22.0</td>\n",
       "      <td>2500</td>\n",
       "      <td>2500</td>\n",
       "      <td>2500</td>\n",
       "      <td>29-Jun-23</td>\n",
       "    </tr>\n",
       "  </tbody>\n",
       "</table>\n",
       "</div>"
      ],
      "text/plain": [
       "       State Name District Name Market Name      Variety            Group  \\\n",
       "0  Madhya Pradesh         Sidhi       Sidhi  Ambada Seed  Forest Products   \n",
       "1  Madhya Pradesh         Sidhi       Sidhi        Other  Forest Products   \n",
       "2  Madhya Pradesh      Singroli    Singroli  Ambada Seed  Forest Products   \n",
       "3  Madhya Pradesh      Singroli    Singroli  Ambada Seed  Forest Products   \n",
       "4  Madhya Pradesh      Singroli    Singroli        Other  Forest Products   \n",
       "\n",
       "   Arrivals (Tonnes)  Min Price (Rs./Quintal)  Max Price (Rs./Quintal)  \\\n",
       "0               75.0                     1500                     1600   \n",
       "1               28.2                     1500                     1525   \n",
       "2               20.0                     2000                     2000   \n",
       "3               20.0                     2000                     2000   \n",
       "4               22.0                     2500                     2500   \n",
       "\n",
       "   Modal Price (Rs./Quintal) Reported Date  \n",
       "0                       1600     03-May-23  \n",
       "1                       1510     22-Mar-23  \n",
       "2                       2000     02-Oct-23  \n",
       "3                       2000     05-Aug-23  \n",
       "4                       2500     29-Jun-23  "
      ]
     },
     "execution_count": 106,
     "metadata": {},
     "output_type": "execute_result"
    }
   ],
   "source": [
    "Ambada_Seed=fifth.data_load(\"Agmarknet_Price_And_Arrival_Report_Ambada Seed.csv\")\n",
    "Ambada_Seed.head()"
   ]
  },
  {
   "cell_type": "code",
   "execution_count": 91,
   "id": "0e41cdf9",
   "metadata": {},
   "outputs": [
    {
     "name": "stdout",
     "output_type": "stream",
     "text": [
      "<class 'pandas.core.frame.DataFrame'>\n",
      "RangeIndex: 8 entries, 0 to 7\n",
      "Data columns (total 10 columns):\n",
      " #   Column                     Non-Null Count  Dtype  \n",
      "---  ------                     --------------  -----  \n",
      " 0   State Name                 8 non-null      object \n",
      " 1   District Name              8 non-null      object \n",
      " 2   Market Name                8 non-null      object \n",
      " 3   Variety                    8 non-null      object \n",
      " 4   Group                      8 non-null      object \n",
      " 5   Arrivals (Tonnes)          8 non-null      float64\n",
      " 6   Min Price (Rs./Quintal)    8 non-null      int64  \n",
      " 7   Max Price (Rs./Quintal)    8 non-null      int64  \n",
      " 8   Modal Price (Rs./Quintal)  8 non-null      int64  \n",
      " 9   Reported Date              8 non-null      object \n",
      "dtypes: float64(1), int64(3), object(6)\n",
      "memory usage: 768.0+ bytes\n"
     ]
    }
   ],
   "source": [
    "Ambada_Seed.info()"
   ]
  },
  {
   "cell_type": "code",
   "execution_count": 107,
   "id": "3e34236b",
   "metadata": {},
   "outputs": [],
   "source": [
    "Ambada_Seed=fifth.drop_state(Ambada_Seed)\n",
    "Ambada_Seed=fifth.date_convertion(Ambada_Seed)\n",
    "Ambada_Seed=fifth.Tonnes_conversion(Ambada_Seed) #The column is already in the format\n",
    "Ambada_Seed=fifth.Quintal_conversion_arrivals(Ambada_Seed)"
   ]
  },
  {
   "cell_type": "markdown",
   "id": "97f71cb8",
   "metadata": {},
   "source": [
    "### Amla Nelli kai"
   ]
  },
  {
   "cell_type": "code",
   "execution_count": 110,
   "id": "87fe8495",
   "metadata": {},
   "outputs": [
    {
     "name": "stdout",
     "output_type": "stream",
     "text": [
      "{'Ahar-Dal-Tur-Dal': 'Agmarknet_Price_And_Arrival_Report_Ahar-Dal-Tur-Dal.csv', 'Ajwan': 'Agmarknet_Price_And_Arrival_Report_Ajwan.csv', 'Alsande Gram': 'Agmarknet_Price_And_Arrival_Report_Alsande Gram.csv', 'Alsandikai': 'Agmarknet_Price_And_Arrival_Report_Alsandikai.csv', 'Ambada Seed': 'Agmarknet_Price_And_Arrival_Report_Ambada Seed.csv', 'Amla Nelli kai': 'Agmarknet_Price_And_Arrival_Report_Amla Nelli kai.csv', 'Amranthus': 'Agmarknet_Price_And_Arrival_Report_Amranthus.csv', 'Antawala': 'Agmarknet_Price_And_Arrival_Report_Antawala.csv', 'Apple': 'Agmarknet_Price_And_Arrival_Report_Apple.csv', 'Apricot Jardalu-Khumani': 'Agmarknet_Price_And_Arrival_Report_Apricot Jardalu-Khumani.csv', 'Bajra-Pearl Millet-Cumbu': 'Agmarknet_Price_And_Arrival_Report_Bajra-Pearl Millet-Cumbu.csv', 'Banana Green': 'Agmarknet_Price_And_Arrival_Report_Banana Green.csv', 'Banana': 'Agmarknet_Price_And_Arrival_Report_Banana.csv', 'Beans': 'Agmarknet_Price_And_Arrival_Report_Beans.csv', 'Beaten Rice': 'Agmarknet_Price_And_Arrival_Report_Beaten Rice.csv', 'Beetroot': 'Agmarknet_Price_And_Arrival_Report_Beetroot.csv', 'Bengal Gram Dal-Chana Dal': 'Agmarknet_Price_And_Arrival_Report_Bengal Gram Dal-Chana Dal.csv', 'Ber-Zizyphus-Borehannu': 'Agmarknet_Price_And_Arrival_Report_Ber-Zizyphus-Borehannu.csv', 'Bitter gourd': 'Agmarknet_Price_And_Arrival_Report_Bitter gourd.csv', 'Black Gram Dal- Urd Dal': 'Agmarknet_Price_And_Arrival_Report_Black Gram Dal- Urd Dal.csv', 'Bottle gourd': 'Agmarknet_Price_And_Arrival_Report_Bottle gourd.csv', 'Cabbage': 'Agmarknet_Price_And_Arrival_Report_Cabbage.csv', 'Capsicum': 'Agmarknet_Price_And_Arrival_Report_Capsicum.csv', 'Carrot': 'Agmarknet_Price_And_Arrival_Report_Carrot.csv', 'Castor Oil': 'Agmarknet_Price_And_Arrival_Report_Castor Oil.csv', 'Castor Seed': 'Agmarknet_Price_And_Arrival_Report_Castor Seed.csv', 'Chennai-Whole': 'Agmarknet_Price_And_Arrival_Report_Chennai-Whole.csv', 'Chennangi Dal': 'Agmarknet_Price_And_Arrival_Report_Chennangi Dal.csv', 'Chikoos-Sapota': 'Agmarknet_Price_And_Arrival_Report_Chikoos-Sapota.csv', 'Chilli Red': 'Agmarknet_Price_And_Arrival_Report_Chilli Red.csv', 'Cinamon-Dalchini': 'Agmarknet_Price_And_Arrival_Report_Cinamon-Dalchini.csv', 'Cluster beans': 'Agmarknet_Price_And_Arrival_Report_Cluster beans.csv', 'Colacasia': 'Agmarknet_Price_And_Arrival_Report_Colacasia.csv', 'Coriander-Leaves': 'Agmarknet_Price_And_Arrival_Report_Coriander-Leaves.csv', 'Ashgourd': 'Agmarknet_Price_Report_Ashgourd.csv', 'Avare-Dal': 'Agmarknet_Price_Report_Avare-Dal.csv'}\n"
     ]
    }
   ],
   "source": [
    "sixth=Analysis()"
   ]
  },
  {
   "cell_type": "code",
   "execution_count": 111,
   "id": "570290cf",
   "metadata": {},
   "outputs": [
    {
     "data": {
      "text/html": [
       "<div>\n",
       "<style scoped>\n",
       "    .dataframe tbody tr th:only-of-type {\n",
       "        vertical-align: middle;\n",
       "    }\n",
       "\n",
       "    .dataframe tbody tr th {\n",
       "        vertical-align: top;\n",
       "    }\n",
       "\n",
       "    .dataframe thead th {\n",
       "        text-align: right;\n",
       "    }\n",
       "</style>\n",
       "<table border=\"1\" class=\"dataframe\">\n",
       "  <thead>\n",
       "    <tr style=\"text-align: right;\">\n",
       "      <th></th>\n",
       "      <th>State Name</th>\n",
       "      <th>District Name</th>\n",
       "      <th>Market Name</th>\n",
       "      <th>Variety</th>\n",
       "      <th>Group</th>\n",
       "      <th>Arrivals (Tonnes)</th>\n",
       "      <th>Min Price (Rs./Quintal)</th>\n",
       "      <th>Max Price (Rs./Quintal)</th>\n",
       "      <th>Modal Price (Rs./Quintal)</th>\n",
       "      <th>Reported Date</th>\n",
       "    </tr>\n",
       "  </thead>\n",
       "  <tbody>\n",
       "    <tr>\n",
       "      <th>0</th>\n",
       "      <td>Madhya Pradesh</td>\n",
       "      <td>Rewa</td>\n",
       "      <td>Baikunthpur</td>\n",
       "      <td>Amla</td>\n",
       "      <td>Fruits</td>\n",
       "      <td>30</td>\n",
       "      <td>6845</td>\n",
       "      <td>6980</td>\n",
       "      <td>6980</td>\n",
       "      <td>05-Dec-23</td>\n",
       "    </tr>\n",
       "    <tr>\n",
       "      <th>1</th>\n",
       "      <td>Madhya Pradesh</td>\n",
       "      <td>Rewa</td>\n",
       "      <td>Baikunthpur</td>\n",
       "      <td>Amla</td>\n",
       "      <td>Fruits</td>\n",
       "      <td>250</td>\n",
       "      <td>2581</td>\n",
       "      <td>2581</td>\n",
       "      <td>2581</td>\n",
       "      <td>04-Dec-23</td>\n",
       "    </tr>\n",
       "    <tr>\n",
       "      <th>2</th>\n",
       "      <td>Madhya Pradesh</td>\n",
       "      <td>Rewa</td>\n",
       "      <td>Baikunthpur</td>\n",
       "      <td>Amla</td>\n",
       "      <td>Fruits</td>\n",
       "      <td>115.8</td>\n",
       "      <td>2200</td>\n",
       "      <td>2201</td>\n",
       "      <td>2201</td>\n",
       "      <td>29-Jul-23</td>\n",
       "    </tr>\n",
       "    <tr>\n",
       "      <th>3</th>\n",
       "      <td>Madhya Pradesh</td>\n",
       "      <td>Rewa</td>\n",
       "      <td>Baikunthpur</td>\n",
       "      <td>Amla</td>\n",
       "      <td>Fruits</td>\n",
       "      <td>2.34</td>\n",
       "      <td>2250</td>\n",
       "      <td>2250</td>\n",
       "      <td>2250</td>\n",
       "      <td>27-Aug-19</td>\n",
       "    </tr>\n",
       "    <tr>\n",
       "      <th>4</th>\n",
       "      <td>Madhya Pradesh</td>\n",
       "      <td>Rewa</td>\n",
       "      <td>Baikunthpur</td>\n",
       "      <td>Amla</td>\n",
       "      <td>Fruits</td>\n",
       "      <td>120</td>\n",
       "      <td>1920</td>\n",
       "      <td>1930</td>\n",
       "      <td>1930</td>\n",
       "      <td>10-Feb-19</td>\n",
       "    </tr>\n",
       "  </tbody>\n",
       "</table>\n",
       "</div>"
      ],
      "text/plain": [
       "       State Name District Name  Market Name Variety   Group  \\\n",
       "0  Madhya Pradesh          Rewa  Baikunthpur    Amla  Fruits   \n",
       "1  Madhya Pradesh          Rewa  Baikunthpur    Amla  Fruits   \n",
       "2  Madhya Pradesh          Rewa  Baikunthpur    Amla  Fruits   \n",
       "3  Madhya Pradesh          Rewa  Baikunthpur    Amla  Fruits   \n",
       "4  Madhya Pradesh          Rewa  Baikunthpur    Amla  Fruits   \n",
       "\n",
       "  Arrivals (Tonnes)  Min Price (Rs./Quintal)  Max Price (Rs./Quintal)  \\\n",
       "0                30                     6845                     6980   \n",
       "1               250                     2581                     2581   \n",
       "2             115.8                     2200                     2201   \n",
       "3              2.34                     2250                     2250   \n",
       "4               120                     1920                     1930   \n",
       "\n",
       "   Modal Price (Rs./Quintal) Reported Date  \n",
       "0                       6980     05-Dec-23  \n",
       "1                       2581     04-Dec-23  \n",
       "2                       2201     29-Jul-23  \n",
       "3                       2250     27-Aug-19  \n",
       "4                       1930     10-Feb-19  "
      ]
     },
     "execution_count": 111,
     "metadata": {},
     "output_type": "execute_result"
    }
   ],
   "source": [
    "Amla_Nelli_kai=sixth.data_load('Agmarknet_Price_And_Arrival_Report_Amla Nelli kai.csv')\n",
    "Amla_Nelli_kai.head()"
   ]
  },
  {
   "cell_type": "code",
   "execution_count": 112,
   "id": "dfe2bb68",
   "metadata": {},
   "outputs": [],
   "source": [
    "Amla_Nelli_kai=sixth.drop_state(Amla_Nelli_kai)\n",
    "Amla_Nelli_kai=sixth.date_convertion(Amla_Nelli_kai)\n",
    "Amla_Nelli_kai=sixth.Tonnes_conversion(Amla_Nelli_kai) #The column is already in the format\n",
    "Amla_Nelli_kai=sixth.Quintal_conversion_arrivals(Amla_Nelli_kai)"
   ]
  },
  {
   "cell_type": "code",
   "execution_count": 113,
   "id": "eba2c8ee",
   "metadata": {},
   "outputs": [
    {
     "name": "stdout",
     "output_type": "stream",
     "text": [
      "<class 'pandas.core.frame.DataFrame'>\n",
      "RangeIndex: 719 entries, 0 to 718\n",
      "Data columns (total 10 columns):\n",
      " #   Column                     Non-Null Count  Dtype         \n",
      "---  ------                     --------------  -----         \n",
      " 0   District Name              719 non-null    object        \n",
      " 1   Market Name                719 non-null    object        \n",
      " 2   Variety                    719 non-null    object        \n",
      " 3   Group                      719 non-null    object        \n",
      " 4   Arrivals (Tonnes)          719 non-null    float64       \n",
      " 5   Min Price (Rs./Quintal)    719 non-null    int64         \n",
      " 6   Max Price (Rs./Quintal)    719 non-null    int64         \n",
      " 7   Modal Price (Rs./Quintal)  719 non-null    int64         \n",
      " 8   Reported Date              719 non-null    datetime64[ns]\n",
      " 9   Arrivals (Quintals)        719 non-null    float64       \n",
      "dtypes: datetime64[ns](1), float64(2), int64(3), object(4)\n",
      "memory usage: 56.3+ KB\n"
     ]
    }
   ],
   "source": [
    "Amla_Nelli_kai.info()"
   ]
  },
  {
   "cell_type": "markdown",
   "id": "cd157804",
   "metadata": {},
   "source": [
    "### Amranthus"
   ]
  },
  {
   "cell_type": "code",
   "execution_count": 116,
   "id": "44da8b8a",
   "metadata": {},
   "outputs": [
    {
     "name": "stdout",
     "output_type": "stream",
     "text": [
      "{'Ahar-Dal-Tur-Dal': 'Agmarknet_Price_And_Arrival_Report_Ahar-Dal-Tur-Dal.csv', 'Ajwan': 'Agmarknet_Price_And_Arrival_Report_Ajwan.csv', 'Alsande Gram': 'Agmarknet_Price_And_Arrival_Report_Alsande Gram.csv', 'Alsandikai': 'Agmarknet_Price_And_Arrival_Report_Alsandikai.csv', 'Ambada Seed': 'Agmarknet_Price_And_Arrival_Report_Ambada Seed.csv', 'Amla Nelli kai': 'Agmarknet_Price_And_Arrival_Report_Amla Nelli kai.csv', 'Amranthus': 'Agmarknet_Price_And_Arrival_Report_Amranthus.csv', 'Antawala': 'Agmarknet_Price_And_Arrival_Report_Antawala.csv', 'Apple': 'Agmarknet_Price_And_Arrival_Report_Apple.csv', 'Apricot Jardalu-Khumani': 'Agmarknet_Price_And_Arrival_Report_Apricot Jardalu-Khumani.csv', 'Bajra-Pearl Millet-Cumbu': 'Agmarknet_Price_And_Arrival_Report_Bajra-Pearl Millet-Cumbu.csv', 'Banana Green': 'Agmarknet_Price_And_Arrival_Report_Banana Green.csv', 'Banana': 'Agmarknet_Price_And_Arrival_Report_Banana.csv', 'Beans': 'Agmarknet_Price_And_Arrival_Report_Beans.csv', 'Beaten Rice': 'Agmarknet_Price_And_Arrival_Report_Beaten Rice.csv', 'Beetroot': 'Agmarknet_Price_And_Arrival_Report_Beetroot.csv', 'Bengal Gram Dal-Chana Dal': 'Agmarknet_Price_And_Arrival_Report_Bengal Gram Dal-Chana Dal.csv', 'Ber-Zizyphus-Borehannu': 'Agmarknet_Price_And_Arrival_Report_Ber-Zizyphus-Borehannu.csv', 'Bitter gourd': 'Agmarknet_Price_And_Arrival_Report_Bitter gourd.csv', 'Black Gram Dal- Urd Dal': 'Agmarknet_Price_And_Arrival_Report_Black Gram Dal- Urd Dal.csv', 'Bottle gourd': 'Agmarknet_Price_And_Arrival_Report_Bottle gourd.csv', 'Cabbage': 'Agmarknet_Price_And_Arrival_Report_Cabbage.csv', 'Capsicum': 'Agmarknet_Price_And_Arrival_Report_Capsicum.csv', 'Carrot': 'Agmarknet_Price_And_Arrival_Report_Carrot.csv', 'Castor Oil': 'Agmarknet_Price_And_Arrival_Report_Castor Oil.csv', 'Castor Seed': 'Agmarknet_Price_And_Arrival_Report_Castor Seed.csv', 'Chennai-Whole': 'Agmarknet_Price_And_Arrival_Report_Chennai-Whole.csv', 'Chennangi Dal': 'Agmarknet_Price_And_Arrival_Report_Chennangi Dal.csv', 'Chikoos-Sapota': 'Agmarknet_Price_And_Arrival_Report_Chikoos-Sapota.csv', 'Chilli Red': 'Agmarknet_Price_And_Arrival_Report_Chilli Red.csv', 'Cinamon-Dalchini': 'Agmarknet_Price_And_Arrival_Report_Cinamon-Dalchini.csv', 'Cluster beans': 'Agmarknet_Price_And_Arrival_Report_Cluster beans.csv', 'Colacasia': 'Agmarknet_Price_And_Arrival_Report_Colacasia.csv', 'Coriander-Leaves': 'Agmarknet_Price_And_Arrival_Report_Coriander-Leaves.csv', 'Ashgourd': 'Agmarknet_Price_Report_Ashgourd.csv', 'Avare-Dal': 'Agmarknet_Price_Report_Avare-Dal.csv'}\n"
     ]
    }
   ],
   "source": [
    "crop_7=Analysis()"
   ]
  },
  {
   "cell_type": "code",
   "execution_count": 117,
   "id": "f76fb6ec",
   "metadata": {},
   "outputs": [
    {
     "data": {
      "text/html": [
       "<div>\n",
       "<style scoped>\n",
       "    .dataframe tbody tr th:only-of-type {\n",
       "        vertical-align: middle;\n",
       "    }\n",
       "\n",
       "    .dataframe tbody tr th {\n",
       "        vertical-align: top;\n",
       "    }\n",
       "\n",
       "    .dataframe thead th {\n",
       "        text-align: right;\n",
       "    }\n",
       "</style>\n",
       "<table border=\"1\" class=\"dataframe\">\n",
       "  <thead>\n",
       "    <tr style=\"text-align: right;\">\n",
       "      <th></th>\n",
       "      <th>State Name</th>\n",
       "      <th>District Name</th>\n",
       "      <th>Market Name</th>\n",
       "      <th>Variety</th>\n",
       "      <th>Group</th>\n",
       "      <th>Arrivals (Tonnes)</th>\n",
       "      <th>Min Price (Rs./Quintal)</th>\n",
       "      <th>Max Price (Rs./Quintal)</th>\n",
       "      <th>Modal Price (Rs./Quintal)</th>\n",
       "      <th>Reported Date</th>\n",
       "    </tr>\n",
       "  </thead>\n",
       "  <tbody>\n",
       "    <tr>\n",
       "      <th>0</th>\n",
       "      <td>Madhya Pradesh</td>\n",
       "      <td>Bhopal</td>\n",
       "      <td>Bhopal(F&amp;V)</td>\n",
       "      <td>Other</td>\n",
       "      <td>Vegetables</td>\n",
       "      <td>80.5</td>\n",
       "      <td>2000</td>\n",
       "      <td>3000</td>\n",
       "      <td>2500</td>\n",
       "      <td>01-Nov-19</td>\n",
       "    </tr>\n",
       "    <tr>\n",
       "      <th>1</th>\n",
       "      <td>Madhya Pradesh</td>\n",
       "      <td>Bhopal</td>\n",
       "      <td>Bhopal(F&amp;V)</td>\n",
       "      <td>Other</td>\n",
       "      <td>Vegetables</td>\n",
       "      <td>66.5</td>\n",
       "      <td>2000</td>\n",
       "      <td>3000</td>\n",
       "      <td>2500</td>\n",
       "      <td>24-Sep-19</td>\n",
       "    </tr>\n",
       "    <tr>\n",
       "      <th>2</th>\n",
       "      <td>Madhya Pradesh</td>\n",
       "      <td>Bhopal</td>\n",
       "      <td>Bhopal(F&amp;V)</td>\n",
       "      <td>Other</td>\n",
       "      <td>Vegetables</td>\n",
       "      <td>4.0</td>\n",
       "      <td>3000</td>\n",
       "      <td>5000</td>\n",
       "      <td>4000</td>\n",
       "      <td>12-May-19</td>\n",
       "    </tr>\n",
       "    <tr>\n",
       "      <th>3</th>\n",
       "      <td>Madhya Pradesh</td>\n",
       "      <td>Bhopal</td>\n",
       "      <td>Bhopal(F&amp;V)</td>\n",
       "      <td>Other</td>\n",
       "      <td>Vegetables</td>\n",
       "      <td>80.3</td>\n",
       "      <td>3000</td>\n",
       "      <td>4000</td>\n",
       "      <td>3500</td>\n",
       "      <td>25-Feb-19</td>\n",
       "    </tr>\n",
       "    <tr>\n",
       "      <th>4</th>\n",
       "      <td>Madhya Pradesh</td>\n",
       "      <td>Bhopal</td>\n",
       "      <td>Bhopal(F&amp;V)</td>\n",
       "      <td>Other</td>\n",
       "      <td>Vegetables</td>\n",
       "      <td>51.0</td>\n",
       "      <td>3000</td>\n",
       "      <td>4000</td>\n",
       "      <td>3500</td>\n",
       "      <td>21-Jan-19</td>\n",
       "    </tr>\n",
       "  </tbody>\n",
       "</table>\n",
       "</div>"
      ],
      "text/plain": [
       "       State Name District Name  Market Name Variety       Group  \\\n",
       "0  Madhya Pradesh        Bhopal  Bhopal(F&V)   Other  Vegetables   \n",
       "1  Madhya Pradesh        Bhopal  Bhopal(F&V)   Other  Vegetables   \n",
       "2  Madhya Pradesh        Bhopal  Bhopal(F&V)   Other  Vegetables   \n",
       "3  Madhya Pradesh        Bhopal  Bhopal(F&V)   Other  Vegetables   \n",
       "4  Madhya Pradesh        Bhopal  Bhopal(F&V)   Other  Vegetables   \n",
       "\n",
       "   Arrivals (Tonnes)  Min Price (Rs./Quintal)  Max Price (Rs./Quintal)  \\\n",
       "0               80.5                     2000                     3000   \n",
       "1               66.5                     2000                     3000   \n",
       "2                4.0                     3000                     5000   \n",
       "3               80.3                     3000                     4000   \n",
       "4               51.0                     3000                     4000   \n",
       "\n",
       "   Modal Price (Rs./Quintal) Reported Date  \n",
       "0                       2500     01-Nov-19  \n",
       "1                       2500     24-Sep-19  \n",
       "2                       4000     12-May-19  \n",
       "3                       3500     25-Feb-19  \n",
       "4                       3500     21-Jan-19  "
      ]
     },
     "execution_count": 117,
     "metadata": {},
     "output_type": "execute_result"
    }
   ],
   "source": [
    "Amranthus=crop_7.data_load('Agmarknet_Price_And_Arrival_Report_Amranthus.csv')\n",
    "Amranthus.head()"
   ]
  },
  {
   "cell_type": "code",
   "execution_count": 118,
   "id": "b3bc9632",
   "metadata": {},
   "outputs": [],
   "source": [
    "Amranthus=crop_7.drop_state(Amranthus)\n",
    "Amranthus=crop_7.date_convertion(Amranthus)\n",
    "Amranthus=crop_7.Tonnes_conversion(Amranthus) #The column is already in the format\n",
    "Amranthus=crop_7.Quintal_conversion_arrivals(Amranthus)"
   ]
  },
  {
   "cell_type": "markdown",
   "id": "47f06641",
   "metadata": {},
   "source": [
    "### Antawala"
   ]
  },
  {
   "cell_type": "code",
   "execution_count": 119,
   "id": "d74460d5",
   "metadata": {},
   "outputs": [
    {
     "name": "stdout",
     "output_type": "stream",
     "text": [
      "{'Ahar-Dal-Tur-Dal': 'Agmarknet_Price_And_Arrival_Report_Ahar-Dal-Tur-Dal.csv', 'Ajwan': 'Agmarknet_Price_And_Arrival_Report_Ajwan.csv', 'Alsande Gram': 'Agmarknet_Price_And_Arrival_Report_Alsande Gram.csv', 'Alsandikai': 'Agmarknet_Price_And_Arrival_Report_Alsandikai.csv', 'Ambada Seed': 'Agmarknet_Price_And_Arrival_Report_Ambada Seed.csv', 'Amla Nelli kai': 'Agmarknet_Price_And_Arrival_Report_Amla Nelli kai.csv', 'Amranthus': 'Agmarknet_Price_And_Arrival_Report_Amranthus.csv', 'Antawala': 'Agmarknet_Price_And_Arrival_Report_Antawala.csv', 'Apple': 'Agmarknet_Price_And_Arrival_Report_Apple.csv', 'Apricot Jardalu-Khumani': 'Agmarknet_Price_And_Arrival_Report_Apricot Jardalu-Khumani.csv', 'Bajra-Pearl Millet-Cumbu': 'Agmarknet_Price_And_Arrival_Report_Bajra-Pearl Millet-Cumbu.csv', 'Banana Green': 'Agmarknet_Price_And_Arrival_Report_Banana Green.csv', 'Banana': 'Agmarknet_Price_And_Arrival_Report_Banana.csv', 'Beans': 'Agmarknet_Price_And_Arrival_Report_Beans.csv', 'Beaten Rice': 'Agmarknet_Price_And_Arrival_Report_Beaten Rice.csv', 'Beetroot': 'Agmarknet_Price_And_Arrival_Report_Beetroot.csv', 'Bengal Gram Dal-Chana Dal': 'Agmarknet_Price_And_Arrival_Report_Bengal Gram Dal-Chana Dal.csv', 'Ber-Zizyphus-Borehannu': 'Agmarknet_Price_And_Arrival_Report_Ber-Zizyphus-Borehannu.csv', 'Bitter gourd': 'Agmarknet_Price_And_Arrival_Report_Bitter gourd.csv', 'Black Gram Dal- Urd Dal': 'Agmarknet_Price_And_Arrival_Report_Black Gram Dal- Urd Dal.csv', 'Bottle gourd': 'Agmarknet_Price_And_Arrival_Report_Bottle gourd.csv', 'Cabbage': 'Agmarknet_Price_And_Arrival_Report_Cabbage.csv', 'Capsicum': 'Agmarknet_Price_And_Arrival_Report_Capsicum.csv', 'Carrot': 'Agmarknet_Price_And_Arrival_Report_Carrot.csv', 'Castor Oil': 'Agmarknet_Price_And_Arrival_Report_Castor Oil.csv', 'Castor Seed': 'Agmarknet_Price_And_Arrival_Report_Castor Seed.csv', 'Chennai-Whole': 'Agmarknet_Price_And_Arrival_Report_Chennai-Whole.csv', 'Chennangi Dal': 'Agmarknet_Price_And_Arrival_Report_Chennangi Dal.csv', 'Chikoos-Sapota': 'Agmarknet_Price_And_Arrival_Report_Chikoos-Sapota.csv', 'Chilli Red': 'Agmarknet_Price_And_Arrival_Report_Chilli Red.csv', 'Cinamon-Dalchini': 'Agmarknet_Price_And_Arrival_Report_Cinamon-Dalchini.csv', 'Cluster beans': 'Agmarknet_Price_And_Arrival_Report_Cluster beans.csv', 'Colacasia': 'Agmarknet_Price_And_Arrival_Report_Colacasia.csv', 'Coriander-Leaves': 'Agmarknet_Price_And_Arrival_Report_Coriander-Leaves.csv', 'Ashgourd': 'Agmarknet_Price_Report_Ashgourd.csv', 'Avare-Dal': 'Agmarknet_Price_Report_Avare-Dal.csv'}\n"
     ]
    }
   ],
   "source": [
    "crop_8=Analysis()"
   ]
  },
  {
   "cell_type": "code",
   "execution_count": 120,
   "id": "b4655a38",
   "metadata": {},
   "outputs": [
    {
     "data": {
      "text/html": [
       "<div>\n",
       "<style scoped>\n",
       "    .dataframe tbody tr th:only-of-type {\n",
       "        vertical-align: middle;\n",
       "    }\n",
       "\n",
       "    .dataframe tbody tr th {\n",
       "        vertical-align: top;\n",
       "    }\n",
       "\n",
       "    .dataframe thead th {\n",
       "        text-align: right;\n",
       "    }\n",
       "</style>\n",
       "<table border=\"1\" class=\"dataframe\">\n",
       "  <thead>\n",
       "    <tr style=\"text-align: right;\">\n",
       "      <th></th>\n",
       "      <th>State Name</th>\n",
       "      <th>District Name</th>\n",
       "      <th>Market Name</th>\n",
       "      <th>Variety</th>\n",
       "      <th>Group</th>\n",
       "      <th>Arrivals (Tonnes)</th>\n",
       "      <th>Min Price (Rs./Quintal)</th>\n",
       "      <th>Max Price (Rs./Quintal)</th>\n",
       "      <th>Modal Price (Rs./Quintal)</th>\n",
       "      <th>Reported Date</th>\n",
       "    </tr>\n",
       "  </thead>\n",
       "  <tbody>\n",
       "    <tr>\n",
       "      <th>0</th>\n",
       "      <td>Madhya Pradesh</td>\n",
       "      <td>Shehdol</td>\n",
       "      <td>Beohari</td>\n",
       "      <td>Antawala</td>\n",
       "      <td>Forest Products</td>\n",
       "      <td>30.00</td>\n",
       "      <td>2100</td>\n",
       "      <td>2100</td>\n",
       "      <td>2100</td>\n",
       "      <td>18-Sep-22</td>\n",
       "    </tr>\n",
       "    <tr>\n",
       "      <th>1</th>\n",
       "      <td>Madhya Pradesh</td>\n",
       "      <td>Dindori</td>\n",
       "      <td>Dindori</td>\n",
       "      <td>Antawala</td>\n",
       "      <td>Forest Products</td>\n",
       "      <td>5.95</td>\n",
       "      <td>5000</td>\n",
       "      <td>5000</td>\n",
       "      <td>5000</td>\n",
       "      <td>02-Dec-23</td>\n",
       "    </tr>\n",
       "    <tr>\n",
       "      <th>2</th>\n",
       "      <td>Madhya Pradesh</td>\n",
       "      <td>Dindori</td>\n",
       "      <td>Dindori</td>\n",
       "      <td>Antawala</td>\n",
       "      <td>Forest Products</td>\n",
       "      <td>2.56</td>\n",
       "      <td>5000</td>\n",
       "      <td>5000</td>\n",
       "      <td>5000</td>\n",
       "      <td>31-Jul-23</td>\n",
       "    </tr>\n",
       "    <tr>\n",
       "      <th>3</th>\n",
       "      <td>Madhya Pradesh</td>\n",
       "      <td>Dindori</td>\n",
       "      <td>Dindori</td>\n",
       "      <td>Antawala</td>\n",
       "      <td>Forest Products</td>\n",
       "      <td>3.00</td>\n",
       "      <td>5000</td>\n",
       "      <td>5000</td>\n",
       "      <td>5000</td>\n",
       "      <td>06-Apr-23</td>\n",
       "    </tr>\n",
       "    <tr>\n",
       "      <th>4</th>\n",
       "      <td>Madhya Pradesh</td>\n",
       "      <td>Dindori</td>\n",
       "      <td>Dindori</td>\n",
       "      <td>Antawala</td>\n",
       "      <td>Forest Products</td>\n",
       "      <td>2.50</td>\n",
       "      <td>6000</td>\n",
       "      <td>6000</td>\n",
       "      <td>6000</td>\n",
       "      <td>24-Dec-22</td>\n",
       "    </tr>\n",
       "  </tbody>\n",
       "</table>\n",
       "</div>"
      ],
      "text/plain": [
       "       State Name District Name Market Name   Variety            Group  \\\n",
       "0  Madhya Pradesh       Shehdol     Beohari  Antawala  Forest Products   \n",
       "1  Madhya Pradesh       Dindori     Dindori  Antawala  Forest Products   \n",
       "2  Madhya Pradesh       Dindori     Dindori  Antawala  Forest Products   \n",
       "3  Madhya Pradesh       Dindori     Dindori  Antawala  Forest Products   \n",
       "4  Madhya Pradesh       Dindori     Dindori  Antawala  Forest Products   \n",
       "\n",
       "   Arrivals (Tonnes)  Min Price (Rs./Quintal)  Max Price (Rs./Quintal)  \\\n",
       "0              30.00                     2100                     2100   \n",
       "1               5.95                     5000                     5000   \n",
       "2               2.56                     5000                     5000   \n",
       "3               3.00                     5000                     5000   \n",
       "4               2.50                     6000                     6000   \n",
       "\n",
       "   Modal Price (Rs./Quintal) Reported Date  \n",
       "0                       2100     18-Sep-22  \n",
       "1                       5000     02-Dec-23  \n",
       "2                       5000     31-Jul-23  \n",
       "3                       5000     06-Apr-23  \n",
       "4                       6000     24-Dec-22  "
      ]
     },
     "execution_count": 120,
     "metadata": {},
     "output_type": "execute_result"
    }
   ],
   "source": [
    "Antawala=crop_8.data_load('Agmarknet_Price_And_Arrival_Report_Antawala.csv')\n",
    "Antawala.head()"
   ]
  },
  {
   "cell_type": "code",
   "execution_count": 122,
   "id": "6db152f7",
   "metadata": {},
   "outputs": [],
   "source": [
    "Antawala=crop_8.drop_state(Antawala)\n",
    "Antawala=crop_8.date_convertion(Antawala)\n",
    "Antawala=crop_8.Tonnes_conversion(Antawala) #The column is already in the format\n",
    "Antawala=crop_8.Quintal_conversion_arrivals(Antawala)"
   ]
  },
  {
   "cell_type": "markdown",
   "id": "dba4fc56",
   "metadata": {},
   "source": [
    "### Apple"
   ]
  },
  {
   "cell_type": "code",
   "execution_count": 123,
   "id": "bd7fff02",
   "metadata": {},
   "outputs": [
    {
     "name": "stdout",
     "output_type": "stream",
     "text": [
      "{'Ahar-Dal-Tur-Dal': 'Agmarknet_Price_And_Arrival_Report_Ahar-Dal-Tur-Dal.csv', 'Ajwan': 'Agmarknet_Price_And_Arrival_Report_Ajwan.csv', 'Alsande Gram': 'Agmarknet_Price_And_Arrival_Report_Alsande Gram.csv', 'Alsandikai': 'Agmarknet_Price_And_Arrival_Report_Alsandikai.csv', 'Ambada Seed': 'Agmarknet_Price_And_Arrival_Report_Ambada Seed.csv', 'Amla Nelli kai': 'Agmarknet_Price_And_Arrival_Report_Amla Nelli kai.csv', 'Amranthus': 'Agmarknet_Price_And_Arrival_Report_Amranthus.csv', 'Antawala': 'Agmarknet_Price_And_Arrival_Report_Antawala.csv', 'Apple': 'Agmarknet_Price_And_Arrival_Report_Apple.csv', 'Apricot Jardalu-Khumani': 'Agmarknet_Price_And_Arrival_Report_Apricot Jardalu-Khumani.csv', 'Bajra-Pearl Millet-Cumbu': 'Agmarknet_Price_And_Arrival_Report_Bajra-Pearl Millet-Cumbu.csv', 'Banana Green': 'Agmarknet_Price_And_Arrival_Report_Banana Green.csv', 'Banana': 'Agmarknet_Price_And_Arrival_Report_Banana.csv', 'Beans': 'Agmarknet_Price_And_Arrival_Report_Beans.csv', 'Beaten Rice': 'Agmarknet_Price_And_Arrival_Report_Beaten Rice.csv', 'Beetroot': 'Agmarknet_Price_And_Arrival_Report_Beetroot.csv', 'Bengal Gram Dal-Chana Dal': 'Agmarknet_Price_And_Arrival_Report_Bengal Gram Dal-Chana Dal.csv', 'Ber-Zizyphus-Borehannu': 'Agmarknet_Price_And_Arrival_Report_Ber-Zizyphus-Borehannu.csv', 'Bitter gourd': 'Agmarknet_Price_And_Arrival_Report_Bitter gourd.csv', 'Black Gram Dal- Urd Dal': 'Agmarknet_Price_And_Arrival_Report_Black Gram Dal- Urd Dal.csv', 'Bottle gourd': 'Agmarknet_Price_And_Arrival_Report_Bottle gourd.csv', 'Cabbage': 'Agmarknet_Price_And_Arrival_Report_Cabbage.csv', 'Capsicum': 'Agmarknet_Price_And_Arrival_Report_Capsicum.csv', 'Carrot': 'Agmarknet_Price_And_Arrival_Report_Carrot.csv', 'Castor Oil': 'Agmarknet_Price_And_Arrival_Report_Castor Oil.csv', 'Castor Seed': 'Agmarknet_Price_And_Arrival_Report_Castor Seed.csv', 'Chennai-Whole': 'Agmarknet_Price_And_Arrival_Report_Chennai-Whole.csv', 'Chennangi Dal': 'Agmarknet_Price_And_Arrival_Report_Chennangi Dal.csv', 'Chikoos-Sapota': 'Agmarknet_Price_And_Arrival_Report_Chikoos-Sapota.csv', 'Chilli Red': 'Agmarknet_Price_And_Arrival_Report_Chilli Red.csv', 'Cinamon-Dalchini': 'Agmarknet_Price_And_Arrival_Report_Cinamon-Dalchini.csv', 'Cluster beans': 'Agmarknet_Price_And_Arrival_Report_Cluster beans.csv', 'Colacasia': 'Agmarknet_Price_And_Arrival_Report_Colacasia.csv', 'Coriander-Leaves': 'Agmarknet_Price_And_Arrival_Report_Coriander-Leaves.csv', 'Ashgourd': 'Agmarknet_Price_Report_Ashgourd.csv', 'Avare-Dal': 'Agmarknet_Price_Report_Avare-Dal.csv'}\n"
     ]
    }
   ],
   "source": [
    "crop_9=Analysis()"
   ]
  },
  {
   "cell_type": "code",
   "execution_count": 124,
   "id": "d05c7f06",
   "metadata": {},
   "outputs": [
    {
     "data": {
      "text/html": [
       "<div>\n",
       "<style scoped>\n",
       "    .dataframe tbody tr th:only-of-type {\n",
       "        vertical-align: middle;\n",
       "    }\n",
       "\n",
       "    .dataframe tbody tr th {\n",
       "        vertical-align: top;\n",
       "    }\n",
       "\n",
       "    .dataframe thead th {\n",
       "        text-align: right;\n",
       "    }\n",
       "</style>\n",
       "<table border=\"1\" class=\"dataframe\">\n",
       "  <thead>\n",
       "    <tr style=\"text-align: right;\">\n",
       "      <th></th>\n",
       "      <th>State Name</th>\n",
       "      <th>District Name</th>\n",
       "      <th>Market Name</th>\n",
       "      <th>Variety</th>\n",
       "      <th>Group</th>\n",
       "      <th>Arrivals (Tonnes)</th>\n",
       "      <th>Min Price (Rs./Quintal)</th>\n",
       "      <th>Max Price (Rs./Quintal)</th>\n",
       "      <th>Modal Price (Rs./Quintal)</th>\n",
       "      <th>Reported Date</th>\n",
       "    </tr>\n",
       "  </thead>\n",
       "  <tbody>\n",
       "    <tr>\n",
       "      <th>0</th>\n",
       "      <td>Madhya Pradesh</td>\n",
       "      <td>Bhopal</td>\n",
       "      <td>Bhopal(F&amp;V)</td>\n",
       "      <td>Other</td>\n",
       "      <td>Fruits</td>\n",
       "      <td>17.0</td>\n",
       "      <td>3000</td>\n",
       "      <td>7000</td>\n",
       "      <td>4000</td>\n",
       "      <td>20-Dec-23</td>\n",
       "    </tr>\n",
       "    <tr>\n",
       "      <th>1</th>\n",
       "      <td>Madhya Pradesh</td>\n",
       "      <td>Bhopal</td>\n",
       "      <td>Bhopal(F&amp;V)</td>\n",
       "      <td>Other</td>\n",
       "      <td>Fruits</td>\n",
       "      <td>18.0</td>\n",
       "      <td>3000</td>\n",
       "      <td>7000</td>\n",
       "      <td>5000</td>\n",
       "      <td>19-Dec-23</td>\n",
       "    </tr>\n",
       "    <tr>\n",
       "      <th>2</th>\n",
       "      <td>Madhya Pradesh</td>\n",
       "      <td>Bhopal</td>\n",
       "      <td>Bhopal(F&amp;V)</td>\n",
       "      <td>Other</td>\n",
       "      <td>Fruits</td>\n",
       "      <td>17.0</td>\n",
       "      <td>3000</td>\n",
       "      <td>7000</td>\n",
       "      <td>5000</td>\n",
       "      <td>18-Dec-23</td>\n",
       "    </tr>\n",
       "    <tr>\n",
       "      <th>3</th>\n",
       "      <td>Madhya Pradesh</td>\n",
       "      <td>Bhopal</td>\n",
       "      <td>Bhopal(F&amp;V)</td>\n",
       "      <td>Other</td>\n",
       "      <td>Fruits</td>\n",
       "      <td>30.0</td>\n",
       "      <td>3000</td>\n",
       "      <td>7000</td>\n",
       "      <td>5000</td>\n",
       "      <td>17-Dec-23</td>\n",
       "    </tr>\n",
       "    <tr>\n",
       "      <th>4</th>\n",
       "      <td>Madhya Pradesh</td>\n",
       "      <td>Bhopal</td>\n",
       "      <td>Bhopal(F&amp;V)</td>\n",
       "      <td>Other</td>\n",
       "      <td>Fruits</td>\n",
       "      <td>26.0</td>\n",
       "      <td>3000</td>\n",
       "      <td>7000</td>\n",
       "      <td>5000</td>\n",
       "      <td>15-Dec-23</td>\n",
       "    </tr>\n",
       "  </tbody>\n",
       "</table>\n",
       "</div>"
      ],
      "text/plain": [
       "       State Name District Name  Market Name Variety   Group  \\\n",
       "0  Madhya Pradesh        Bhopal  Bhopal(F&V)   Other  Fruits   \n",
       "1  Madhya Pradesh        Bhopal  Bhopal(F&V)   Other  Fruits   \n",
       "2  Madhya Pradesh        Bhopal  Bhopal(F&V)   Other  Fruits   \n",
       "3  Madhya Pradesh        Bhopal  Bhopal(F&V)   Other  Fruits   \n",
       "4  Madhya Pradesh        Bhopal  Bhopal(F&V)   Other  Fruits   \n",
       "\n",
       "   Arrivals (Tonnes)  Min Price (Rs./Quintal)  Max Price (Rs./Quintal)  \\\n",
       "0               17.0                     3000                     7000   \n",
       "1               18.0                     3000                     7000   \n",
       "2               17.0                     3000                     7000   \n",
       "3               30.0                     3000                     7000   \n",
       "4               26.0                     3000                     7000   \n",
       "\n",
       "   Modal Price (Rs./Quintal) Reported Date  \n",
       "0                       4000     20-Dec-23  \n",
       "1                       5000     19-Dec-23  \n",
       "2                       5000     18-Dec-23  \n",
       "3                       5000     17-Dec-23  \n",
       "4                       5000     15-Dec-23  "
      ]
     },
     "execution_count": 124,
     "metadata": {},
     "output_type": "execute_result"
    }
   ],
   "source": [
    "Apple=crop_9.data_load('Agmarknet_Price_And_Arrival_Report_Apple.csv')\n",
    "Apple.head()"
   ]
  },
  {
   "cell_type": "code",
   "execution_count": 125,
   "id": "579ec5b2",
   "metadata": {},
   "outputs": [],
   "source": [
    "Apple=crop_9.drop_state(Apple)\n",
    "Apple=crop_9.date_convertion(Apple)\n",
    "Apple=crop_9.Tonnes_conversion(Apple) #The column is already in the format\n",
    "Apple=crop_9.Quintal_conversion_arrivals(Apple)"
   ]
  },
  {
   "cell_type": "markdown",
   "id": "f76f308b",
   "metadata": {},
   "source": [
    "### Apricot_Jardalu_Khumani"
   ]
  },
  {
   "cell_type": "code",
   "execution_count": 126,
   "id": "013f5cd7",
   "metadata": {},
   "outputs": [
    {
     "name": "stdout",
     "output_type": "stream",
     "text": [
      "{'Ahar-Dal-Tur-Dal': 'Agmarknet_Price_And_Arrival_Report_Ahar-Dal-Tur-Dal.csv', 'Ajwan': 'Agmarknet_Price_And_Arrival_Report_Ajwan.csv', 'Alsande Gram': 'Agmarknet_Price_And_Arrival_Report_Alsande Gram.csv', 'Alsandikai': 'Agmarknet_Price_And_Arrival_Report_Alsandikai.csv', 'Ambada Seed': 'Agmarknet_Price_And_Arrival_Report_Ambada Seed.csv', 'Amla Nelli kai': 'Agmarknet_Price_And_Arrival_Report_Amla Nelli kai.csv', 'Amranthus': 'Agmarknet_Price_And_Arrival_Report_Amranthus.csv', 'Antawala': 'Agmarknet_Price_And_Arrival_Report_Antawala.csv', 'Apple': 'Agmarknet_Price_And_Arrival_Report_Apple.csv', 'Apricot Jardalu-Khumani': 'Agmarknet_Price_And_Arrival_Report_Apricot Jardalu-Khumani.csv', 'Bajra-Pearl Millet-Cumbu': 'Agmarknet_Price_And_Arrival_Report_Bajra-Pearl Millet-Cumbu.csv', 'Banana Green': 'Agmarknet_Price_And_Arrival_Report_Banana Green.csv', 'Banana': 'Agmarknet_Price_And_Arrival_Report_Banana.csv', 'Beans': 'Agmarknet_Price_And_Arrival_Report_Beans.csv', 'Beaten Rice': 'Agmarknet_Price_And_Arrival_Report_Beaten Rice.csv', 'Beetroot': 'Agmarknet_Price_And_Arrival_Report_Beetroot.csv', 'Bengal Gram Dal-Chana Dal': 'Agmarknet_Price_And_Arrival_Report_Bengal Gram Dal-Chana Dal.csv', 'Ber-Zizyphus-Borehannu': 'Agmarknet_Price_And_Arrival_Report_Ber-Zizyphus-Borehannu.csv', 'Bitter gourd': 'Agmarknet_Price_And_Arrival_Report_Bitter gourd.csv', 'Black Gram Dal- Urd Dal': 'Agmarknet_Price_And_Arrival_Report_Black Gram Dal- Urd Dal.csv', 'Bottle gourd': 'Agmarknet_Price_And_Arrival_Report_Bottle gourd.csv', 'Cabbage': 'Agmarknet_Price_And_Arrival_Report_Cabbage.csv', 'Capsicum': 'Agmarknet_Price_And_Arrival_Report_Capsicum.csv', 'Carrot': 'Agmarknet_Price_And_Arrival_Report_Carrot.csv', 'Castor Oil': 'Agmarknet_Price_And_Arrival_Report_Castor Oil.csv', 'Castor Seed': 'Agmarknet_Price_And_Arrival_Report_Castor Seed.csv', 'Chennai-Whole': 'Agmarknet_Price_And_Arrival_Report_Chennai-Whole.csv', 'Chennangi Dal': 'Agmarknet_Price_And_Arrival_Report_Chennangi Dal.csv', 'Chikoos-Sapota': 'Agmarknet_Price_And_Arrival_Report_Chikoos-Sapota.csv', 'Chilli Red': 'Agmarknet_Price_And_Arrival_Report_Chilli Red.csv', 'Cinamon-Dalchini': 'Agmarknet_Price_And_Arrival_Report_Cinamon-Dalchini.csv', 'Cluster beans': 'Agmarknet_Price_And_Arrival_Report_Cluster beans.csv', 'Colacasia': 'Agmarknet_Price_And_Arrival_Report_Colacasia.csv', 'Coriander-Leaves': 'Agmarknet_Price_And_Arrival_Report_Coriander-Leaves.csv', 'Ashgourd': 'Agmarknet_Price_Report_Ashgourd.csv', 'Avare-Dal': 'Agmarknet_Price_Report_Avare-Dal.csv'}\n"
     ]
    }
   ],
   "source": [
    "crop_10=Analysis()"
   ]
  },
  {
   "cell_type": "code",
   "execution_count": 127,
   "id": "9c992668",
   "metadata": {},
   "outputs": [
    {
     "data": {
      "text/html": [
       "<div>\n",
       "<style scoped>\n",
       "    .dataframe tbody tr th:only-of-type {\n",
       "        vertical-align: middle;\n",
       "    }\n",
       "\n",
       "    .dataframe tbody tr th {\n",
       "        vertical-align: top;\n",
       "    }\n",
       "\n",
       "    .dataframe thead th {\n",
       "        text-align: right;\n",
       "    }\n",
       "</style>\n",
       "<table border=\"1\" class=\"dataframe\">\n",
       "  <thead>\n",
       "    <tr style=\"text-align: right;\">\n",
       "      <th></th>\n",
       "      <th>State Name</th>\n",
       "      <th>District Name</th>\n",
       "      <th>Market Name</th>\n",
       "      <th>Variety</th>\n",
       "      <th>Group</th>\n",
       "      <th>Arrivals (Tonnes)</th>\n",
       "      <th>Min Price (Rs./Quintal)</th>\n",
       "      <th>Max Price (Rs./Quintal)</th>\n",
       "      <th>Modal Price (Rs./Quintal)</th>\n",
       "      <th>Reported Date</th>\n",
       "    </tr>\n",
       "  </thead>\n",
       "  <tbody>\n",
       "    <tr>\n",
       "      <th>0</th>\n",
       "      <td>Haryana</td>\n",
       "      <td>Ambala</td>\n",
       "      <td>Ambala City(Subji Mandi)</td>\n",
       "      <td>Apricot(Jardalu/Khumani)</td>\n",
       "      <td>Fruits</td>\n",
       "      <td>0.6</td>\n",
       "      <td>5270</td>\n",
       "      <td>6300</td>\n",
       "      <td>5800</td>\n",
       "      <td>20-Jun-23</td>\n",
       "    </tr>\n",
       "    <tr>\n",
       "      <th>1</th>\n",
       "      <td>Haryana</td>\n",
       "      <td>Ambala</td>\n",
       "      <td>Ambala City(Subji Mandi)</td>\n",
       "      <td>Apricot(Jardalu/Khumani)</td>\n",
       "      <td>Fruits</td>\n",
       "      <td>0.8</td>\n",
       "      <td>6180</td>\n",
       "      <td>6695</td>\n",
       "      <td>6300</td>\n",
       "      <td>18-Jun-23</td>\n",
       "    </tr>\n",
       "    <tr>\n",
       "      <th>2</th>\n",
       "      <td>Haryana</td>\n",
       "      <td>Ambala</td>\n",
       "      <td>Ambala City(Subji Mandi)</td>\n",
       "      <td>Apricot(Jardalu/Khumani)</td>\n",
       "      <td>Fruits</td>\n",
       "      <td>0.8</td>\n",
       "      <td>4500</td>\n",
       "      <td>5500</td>\n",
       "      <td>5000</td>\n",
       "      <td>16-Jun-23</td>\n",
       "    </tr>\n",
       "    <tr>\n",
       "      <th>3</th>\n",
       "      <td>Haryana</td>\n",
       "      <td>Ambala</td>\n",
       "      <td>Ambala City(Subji Mandi)</td>\n",
       "      <td>Apricot(Jardalu/Khumani)</td>\n",
       "      <td>Fruits</td>\n",
       "      <td>0.6</td>\n",
       "      <td>4000</td>\n",
       "      <td>5325</td>\n",
       "      <td>4790</td>\n",
       "      <td>15-Jun-23</td>\n",
       "    </tr>\n",
       "    <tr>\n",
       "      <th>4</th>\n",
       "      <td>Haryana</td>\n",
       "      <td>Ambala</td>\n",
       "      <td>Ambala City(Subji Mandi)</td>\n",
       "      <td>Apricot(Jardalu/Khumani)</td>\n",
       "      <td>Fruits</td>\n",
       "      <td>0.8</td>\n",
       "      <td>5605</td>\n",
       "      <td>6980</td>\n",
       "      <td>5710</td>\n",
       "      <td>14-Jun-23</td>\n",
       "    </tr>\n",
       "  </tbody>\n",
       "</table>\n",
       "</div>"
      ],
      "text/plain": [
       "  State Name District Name               Market Name  \\\n",
       "0    Haryana        Ambala  Ambala City(Subji Mandi)   \n",
       "1    Haryana        Ambala  Ambala City(Subji Mandi)   \n",
       "2    Haryana        Ambala  Ambala City(Subji Mandi)   \n",
       "3    Haryana        Ambala  Ambala City(Subji Mandi)   \n",
       "4    Haryana        Ambala  Ambala City(Subji Mandi)   \n",
       "\n",
       "                    Variety   Group Arrivals (Tonnes)  \\\n",
       "0  Apricot(Jardalu/Khumani)  Fruits               0.6   \n",
       "1  Apricot(Jardalu/Khumani)  Fruits               0.8   \n",
       "2  Apricot(Jardalu/Khumani)  Fruits               0.8   \n",
       "3  Apricot(Jardalu/Khumani)  Fruits               0.6   \n",
       "4  Apricot(Jardalu/Khumani)  Fruits               0.8   \n",
       "\n",
       "   Min Price (Rs./Quintal)  Max Price (Rs./Quintal)  \\\n",
       "0                     5270                     6300   \n",
       "1                     6180                     6695   \n",
       "2                     4500                     5500   \n",
       "3                     4000                     5325   \n",
       "4                     5605                     6980   \n",
       "\n",
       "   Modal Price (Rs./Quintal) Reported Date  \n",
       "0                       5800     20-Jun-23  \n",
       "1                       6300     18-Jun-23  \n",
       "2                       5000     16-Jun-23  \n",
       "3                       4790     15-Jun-23  \n",
       "4                       5710     14-Jun-23  "
      ]
     },
     "execution_count": 127,
     "metadata": {},
     "output_type": "execute_result"
    }
   ],
   "source": [
    "Apricot_Jardalu_Khumani=crop_10.data_load('Agmarknet_Price_And_Arrival_Report_Apricot Jardalu-Khumani.csv')\n",
    "Apricot_Jardalu_Khumani.head()"
   ]
  },
  {
   "cell_type": "code",
   "execution_count": 128,
   "id": "270fce7f",
   "metadata": {},
   "outputs": [],
   "source": [
    "Apricot_Jardalu_Khumani=crop_10.drop_state(Apricot_Jardalu_Khumani)\n",
    "Apricot_Jardalu_Khumani=crop_10.date_convertion(Apricot_Jardalu_Khumani)\n",
    "Apricot_Jardalu_Khumani=crop_10.Tonnes_conversion(Apricot_Jardalu_Khumani) #The column is already in the format\n",
    "Apricot_Jardalu_Khumani=crop_10.Quintal_conversion_arrivals(Apricot_Jardalu_Khumani)"
   ]
  },
  {
   "cell_type": "markdown",
   "id": "6507b4be",
   "metadata": {},
   "source": [
    "### Bajra_Pearl_Millet_Cumbu"
   ]
  },
  {
   "cell_type": "code",
   "execution_count": 129,
   "id": "047cb7a0",
   "metadata": {},
   "outputs": [
    {
     "name": "stdout",
     "output_type": "stream",
     "text": [
      "{'Ahar-Dal-Tur-Dal': 'Agmarknet_Price_And_Arrival_Report_Ahar-Dal-Tur-Dal.csv', 'Ajwan': 'Agmarknet_Price_And_Arrival_Report_Ajwan.csv', 'Alsande Gram': 'Agmarknet_Price_And_Arrival_Report_Alsande Gram.csv', 'Alsandikai': 'Agmarknet_Price_And_Arrival_Report_Alsandikai.csv', 'Ambada Seed': 'Agmarknet_Price_And_Arrival_Report_Ambada Seed.csv', 'Amla Nelli kai': 'Agmarknet_Price_And_Arrival_Report_Amla Nelli kai.csv', 'Amranthus': 'Agmarknet_Price_And_Arrival_Report_Amranthus.csv', 'Antawala': 'Agmarknet_Price_And_Arrival_Report_Antawala.csv', 'Apple': 'Agmarknet_Price_And_Arrival_Report_Apple.csv', 'Apricot Jardalu-Khumani': 'Agmarknet_Price_And_Arrival_Report_Apricot Jardalu-Khumani.csv', 'Bajra-Pearl Millet-Cumbu': 'Agmarknet_Price_And_Arrival_Report_Bajra-Pearl Millet-Cumbu.csv', 'Banana Green': 'Agmarknet_Price_And_Arrival_Report_Banana Green.csv', 'Banana': 'Agmarknet_Price_And_Arrival_Report_Banana.csv', 'Beans': 'Agmarknet_Price_And_Arrival_Report_Beans.csv', 'Beaten Rice': 'Agmarknet_Price_And_Arrival_Report_Beaten Rice.csv', 'Beetroot': 'Agmarknet_Price_And_Arrival_Report_Beetroot.csv', 'Bengal Gram Dal-Chana Dal': 'Agmarknet_Price_And_Arrival_Report_Bengal Gram Dal-Chana Dal.csv', 'Ber-Zizyphus-Borehannu': 'Agmarknet_Price_And_Arrival_Report_Ber-Zizyphus-Borehannu.csv', 'Bitter gourd': 'Agmarknet_Price_And_Arrival_Report_Bitter gourd.csv', 'Black Gram Dal- Urd Dal': 'Agmarknet_Price_And_Arrival_Report_Black Gram Dal- Urd Dal.csv', 'Bottle gourd': 'Agmarknet_Price_And_Arrival_Report_Bottle gourd.csv', 'Cabbage': 'Agmarknet_Price_And_Arrival_Report_Cabbage.csv', 'Capsicum': 'Agmarknet_Price_And_Arrival_Report_Capsicum.csv', 'Carrot': 'Agmarknet_Price_And_Arrival_Report_Carrot.csv', 'Castor Oil': 'Agmarknet_Price_And_Arrival_Report_Castor Oil.csv', 'Castor Seed': 'Agmarknet_Price_And_Arrival_Report_Castor Seed.csv', 'Chennai-Whole': 'Agmarknet_Price_And_Arrival_Report_Chennai-Whole.csv', 'Chennangi Dal': 'Agmarknet_Price_And_Arrival_Report_Chennangi Dal.csv', 'Chikoos-Sapota': 'Agmarknet_Price_And_Arrival_Report_Chikoos-Sapota.csv', 'Chilli Red': 'Agmarknet_Price_And_Arrival_Report_Chilli Red.csv', 'Cinamon-Dalchini': 'Agmarknet_Price_And_Arrival_Report_Cinamon-Dalchini.csv', 'Cluster beans': 'Agmarknet_Price_And_Arrival_Report_Cluster beans.csv', 'Colacasia': 'Agmarknet_Price_And_Arrival_Report_Colacasia.csv', 'Coriander-Leaves': 'Agmarknet_Price_And_Arrival_Report_Coriander-Leaves.csv', 'Ashgourd': 'Agmarknet_Price_Report_Ashgourd.csv', 'Avare-Dal': 'Agmarknet_Price_Report_Avare-Dal.csv'}\n"
     ]
    }
   ],
   "source": [
    "crop_11=Analysis()"
   ]
  },
  {
   "cell_type": "code",
   "execution_count": 130,
   "id": "1681b92c",
   "metadata": {},
   "outputs": [
    {
     "data": {
      "text/html": [
       "<div>\n",
       "<style scoped>\n",
       "    .dataframe tbody tr th:only-of-type {\n",
       "        vertical-align: middle;\n",
       "    }\n",
       "\n",
       "    .dataframe tbody tr th {\n",
       "        vertical-align: top;\n",
       "    }\n",
       "\n",
       "    .dataframe thead th {\n",
       "        text-align: right;\n",
       "    }\n",
       "</style>\n",
       "<table border=\"1\" class=\"dataframe\">\n",
       "  <thead>\n",
       "    <tr style=\"text-align: right;\">\n",
       "      <th></th>\n",
       "      <th>State Name</th>\n",
       "      <th>District Name</th>\n",
       "      <th>Market Name</th>\n",
       "      <th>Variety</th>\n",
       "      <th>Group</th>\n",
       "      <th>Arrivals (Tonnes)</th>\n",
       "      <th>Min Price (Rs./Quintal)</th>\n",
       "      <th>Max Price (Rs./Quintal)</th>\n",
       "      <th>Modal Price (Rs./Quintal)</th>\n",
       "      <th>Reported Date</th>\n",
       "    </tr>\n",
       "  </thead>\n",
       "  <tbody>\n",
       "    <tr>\n",
       "      <th>0</th>\n",
       "      <td>Madhya Pradesh</td>\n",
       "      <td>Bhind</td>\n",
       "      <td>Alampur</td>\n",
       "      <td>Other</td>\n",
       "      <td>Cereals</td>\n",
       "      <td>31</td>\n",
       "      <td>2100</td>\n",
       "      <td>2300</td>\n",
       "      <td>2200</td>\n",
       "      <td>18-Dec-23</td>\n",
       "    </tr>\n",
       "    <tr>\n",
       "      <th>1</th>\n",
       "      <td>Madhya Pradesh</td>\n",
       "      <td>Bhind</td>\n",
       "      <td>Alampur</td>\n",
       "      <td>Other</td>\n",
       "      <td>Cereals</td>\n",
       "      <td>16</td>\n",
       "      <td>2000</td>\n",
       "      <td>2300</td>\n",
       "      <td>2200</td>\n",
       "      <td>15-Dec-23</td>\n",
       "    </tr>\n",
       "    <tr>\n",
       "      <th>2</th>\n",
       "      <td>Madhya Pradesh</td>\n",
       "      <td>Bhind</td>\n",
       "      <td>Alampur</td>\n",
       "      <td>Other</td>\n",
       "      <td>Cereals</td>\n",
       "      <td>2</td>\n",
       "      <td>2100</td>\n",
       "      <td>2300</td>\n",
       "      <td>2200</td>\n",
       "      <td>13-Dec-23</td>\n",
       "    </tr>\n",
       "    <tr>\n",
       "      <th>3</th>\n",
       "      <td>Madhya Pradesh</td>\n",
       "      <td>Bhind</td>\n",
       "      <td>Alampur</td>\n",
       "      <td>Other</td>\n",
       "      <td>Cereals</td>\n",
       "      <td>30</td>\n",
       "      <td>1900</td>\n",
       "      <td>2300</td>\n",
       "      <td>2100</td>\n",
       "      <td>08-Dec-23</td>\n",
       "    </tr>\n",
       "    <tr>\n",
       "      <th>4</th>\n",
       "      <td>Madhya Pradesh</td>\n",
       "      <td>Bhind</td>\n",
       "      <td>Alampur</td>\n",
       "      <td>Other</td>\n",
       "      <td>Cereals</td>\n",
       "      <td>30</td>\n",
       "      <td>2000</td>\n",
       "      <td>2200</td>\n",
       "      <td>2100</td>\n",
       "      <td>05-Dec-23</td>\n",
       "    </tr>\n",
       "  </tbody>\n",
       "</table>\n",
       "</div>"
      ],
      "text/plain": [
       "       State Name District Name Market Name Variety    Group  \\\n",
       "0  Madhya Pradesh         Bhind     Alampur   Other  Cereals   \n",
       "1  Madhya Pradesh         Bhind     Alampur   Other  Cereals   \n",
       "2  Madhya Pradesh         Bhind     Alampur   Other  Cereals   \n",
       "3  Madhya Pradesh         Bhind     Alampur   Other  Cereals   \n",
       "4  Madhya Pradesh         Bhind     Alampur   Other  Cereals   \n",
       "\n",
       "  Arrivals (Tonnes)  Min Price (Rs./Quintal)  Max Price (Rs./Quintal)  \\\n",
       "0                31                     2100                     2300   \n",
       "1                16                     2000                     2300   \n",
       "2                 2                     2100                     2300   \n",
       "3                30                     1900                     2300   \n",
       "4                30                     2000                     2200   \n",
       "\n",
       "   Modal Price (Rs./Quintal) Reported Date  \n",
       "0                       2200     18-Dec-23  \n",
       "1                       2200     15-Dec-23  \n",
       "2                       2200     13-Dec-23  \n",
       "3                       2100     08-Dec-23  \n",
       "4                       2100     05-Dec-23  "
      ]
     },
     "execution_count": 130,
     "metadata": {},
     "output_type": "execute_result"
    }
   ],
   "source": [
    "Bajra_Pearl_Millet_Cumbu=crop_11.data_load('Agmarknet_Price_And_Arrival_Report_Bajra-Pearl Millet-Cumbu.csv')\n",
    "Bajra_Pearl_Millet_Cumbu.head()"
   ]
  },
  {
   "cell_type": "code",
   "execution_count": 131,
   "id": "c0f117c7",
   "metadata": {},
   "outputs": [],
   "source": [
    "Bajra_Pearl_Millet_Cumbu=crop_11.drop_state(Bajra_Pearl_Millet_Cumbu)\n",
    "Bajra_Pearl_Millet_Cumbu=crop_11.date_convertion(Bajra_Pearl_Millet_Cumbu)\n",
    "Bajra_Pearl_Millet_Cumbu=crop_11.Tonnes_conversion(Bajra_Pearl_Millet_Cumbu) #The column is already in the format\n",
    "Bajra_Pearl_Millet_Cumbu=crop_11.Quintal_conversion_arrivals(Bajra_Pearl_Millet_Cumbu)"
   ]
  },
  {
   "cell_type": "markdown",
   "id": "578c85f7",
   "metadata": {},
   "source": [
    "### Banana_Green"
   ]
  },
  {
   "cell_type": "code",
   "execution_count": 133,
   "id": "4c1e1609",
   "metadata": {},
   "outputs": [
    {
     "name": "stdout",
     "output_type": "stream",
     "text": [
      "{'Ahar-Dal-Tur-Dal': 'Agmarknet_Price_And_Arrival_Report_Ahar-Dal-Tur-Dal.csv', 'Ajwan': 'Agmarknet_Price_And_Arrival_Report_Ajwan.csv', 'Alsande Gram': 'Agmarknet_Price_And_Arrival_Report_Alsande Gram.csv', 'Alsandikai': 'Agmarknet_Price_And_Arrival_Report_Alsandikai.csv', 'Ambada Seed': 'Agmarknet_Price_And_Arrival_Report_Ambada Seed.csv', 'Amla Nelli kai': 'Agmarknet_Price_And_Arrival_Report_Amla Nelli kai.csv', 'Amranthus': 'Agmarknet_Price_And_Arrival_Report_Amranthus.csv', 'Antawala': 'Agmarknet_Price_And_Arrival_Report_Antawala.csv', 'Apple': 'Agmarknet_Price_And_Arrival_Report_Apple.csv', 'Apricot Jardalu-Khumani': 'Agmarknet_Price_And_Arrival_Report_Apricot Jardalu-Khumani.csv', 'Bajra-Pearl Millet-Cumbu': 'Agmarknet_Price_And_Arrival_Report_Bajra-Pearl Millet-Cumbu.csv', 'Banana Green': 'Agmarknet_Price_And_Arrival_Report_Banana Green.csv', 'Banana': 'Agmarknet_Price_And_Arrival_Report_Banana.csv', 'Beans': 'Agmarknet_Price_And_Arrival_Report_Beans.csv', 'Beaten Rice': 'Agmarknet_Price_And_Arrival_Report_Beaten Rice.csv', 'Beetroot': 'Agmarknet_Price_And_Arrival_Report_Beetroot.csv', 'Bengal Gram Dal-Chana Dal': 'Agmarknet_Price_And_Arrival_Report_Bengal Gram Dal-Chana Dal.csv', 'Ber-Zizyphus-Borehannu': 'Agmarknet_Price_And_Arrival_Report_Ber-Zizyphus-Borehannu.csv', 'Bitter gourd': 'Agmarknet_Price_And_Arrival_Report_Bitter gourd.csv', 'Black Gram Dal- Urd Dal': 'Agmarknet_Price_And_Arrival_Report_Black Gram Dal- Urd Dal.csv', 'Bottle gourd': 'Agmarknet_Price_And_Arrival_Report_Bottle gourd.csv', 'Cabbage': 'Agmarknet_Price_And_Arrival_Report_Cabbage.csv', 'Capsicum': 'Agmarknet_Price_And_Arrival_Report_Capsicum.csv', 'Carrot': 'Agmarknet_Price_And_Arrival_Report_Carrot.csv', 'Castor Oil': 'Agmarknet_Price_And_Arrival_Report_Castor Oil.csv', 'Castor Seed': 'Agmarknet_Price_And_Arrival_Report_Castor Seed.csv', 'Chennai-Whole': 'Agmarknet_Price_And_Arrival_Report_Chennai-Whole.csv', 'Chennangi Dal': 'Agmarknet_Price_And_Arrival_Report_Chennangi Dal.csv', 'Chikoos-Sapota': 'Agmarknet_Price_And_Arrival_Report_Chikoos-Sapota.csv', 'Chilli Red': 'Agmarknet_Price_And_Arrival_Report_Chilli Red.csv', 'Cinamon-Dalchini': 'Agmarknet_Price_And_Arrival_Report_Cinamon-Dalchini.csv', 'Cluster beans': 'Agmarknet_Price_And_Arrival_Report_Cluster beans.csv', 'Colacasia': 'Agmarknet_Price_And_Arrival_Report_Colacasia.csv', 'Coriander-Leaves': 'Agmarknet_Price_And_Arrival_Report_Coriander-Leaves.csv', 'Ashgourd': 'Agmarknet_Price_Report_Ashgourd.csv', 'Avare-Dal': 'Agmarknet_Price_Report_Avare-Dal.csv'}\n"
     ]
    }
   ],
   "source": [
    "crop_12=Analysis()"
   ]
  },
  {
   "cell_type": "code",
   "execution_count": 135,
   "id": "e989f15b",
   "metadata": {},
   "outputs": [
    {
     "data": {
      "text/html": [
       "<div>\n",
       "<style scoped>\n",
       "    .dataframe tbody tr th:only-of-type {\n",
       "        vertical-align: middle;\n",
       "    }\n",
       "\n",
       "    .dataframe tbody tr th {\n",
       "        vertical-align: top;\n",
       "    }\n",
       "\n",
       "    .dataframe thead th {\n",
       "        text-align: right;\n",
       "    }\n",
       "</style>\n",
       "<table border=\"1\" class=\"dataframe\">\n",
       "  <thead>\n",
       "    <tr style=\"text-align: right;\">\n",
       "      <th></th>\n",
       "      <th>State Name</th>\n",
       "      <th>District Name</th>\n",
       "      <th>Market Name</th>\n",
       "      <th>Variety</th>\n",
       "      <th>Group</th>\n",
       "      <th>Arrivals (Tonnes)</th>\n",
       "      <th>Min Price (Rs./Quintal)</th>\n",
       "      <th>Max Price (Rs./Quintal)</th>\n",
       "      <th>Modal Price (Rs./Quintal)</th>\n",
       "      <th>Reported Date</th>\n",
       "    </tr>\n",
       "  </thead>\n",
       "  <tbody>\n",
       "    <tr>\n",
       "      <th>0</th>\n",
       "      <td>Madhya Pradesh</td>\n",
       "      <td>Khargone</td>\n",
       "      <td>Badwaha</td>\n",
       "      <td>Amruthapani</td>\n",
       "      <td>Fruits</td>\n",
       "      <td>0.1</td>\n",
       "      <td>800</td>\n",
       "      <td>1600</td>\n",
       "      <td>1200</td>\n",
       "      <td>15-Jul-22</td>\n",
       "    </tr>\n",
       "    <tr>\n",
       "      <th>1</th>\n",
       "      <td>Madhya Pradesh</td>\n",
       "      <td>Khargone</td>\n",
       "      <td>Badwaha</td>\n",
       "      <td>Amruthapani</td>\n",
       "      <td>Fruits</td>\n",
       "      <td>0.5</td>\n",
       "      <td>1100</td>\n",
       "      <td>1435</td>\n",
       "      <td>1200</td>\n",
       "      <td>31-Aug-21</td>\n",
       "    </tr>\n",
       "    <tr>\n",
       "      <th>2</th>\n",
       "      <td>Madhya Pradesh</td>\n",
       "      <td>Khargone</td>\n",
       "      <td>Badwaha</td>\n",
       "      <td>Amruthapani</td>\n",
       "      <td>Fruits</td>\n",
       "      <td>0.3</td>\n",
       "      <td>1215</td>\n",
       "      <td>1505</td>\n",
       "      <td>1400</td>\n",
       "      <td>30-Aug-21</td>\n",
       "    </tr>\n",
       "    <tr>\n",
       "      <th>3</th>\n",
       "      <td>Madhya Pradesh</td>\n",
       "      <td>Khargone</td>\n",
       "      <td>Badwaha</td>\n",
       "      <td>Amruthapani</td>\n",
       "      <td>Fruits</td>\n",
       "      <td>0.7</td>\n",
       "      <td>1150</td>\n",
       "      <td>1465</td>\n",
       "      <td>1340</td>\n",
       "      <td>28-Aug-21</td>\n",
       "    </tr>\n",
       "    <tr>\n",
       "      <th>4</th>\n",
       "      <td>Madhya Pradesh</td>\n",
       "      <td>Khargone</td>\n",
       "      <td>Badwaha</td>\n",
       "      <td>Amruthapani</td>\n",
       "      <td>Fruits</td>\n",
       "      <td>0.4</td>\n",
       "      <td>1125</td>\n",
       "      <td>1360</td>\n",
       "      <td>1235</td>\n",
       "      <td>27-Aug-21</td>\n",
       "    </tr>\n",
       "  </tbody>\n",
       "</table>\n",
       "</div>"
      ],
      "text/plain": [
       "       State Name District Name Market Name      Variety   Group  \\\n",
       "0  Madhya Pradesh      Khargone     Badwaha  Amruthapani  Fruits   \n",
       "1  Madhya Pradesh      Khargone     Badwaha  Amruthapani  Fruits   \n",
       "2  Madhya Pradesh      Khargone     Badwaha  Amruthapani  Fruits   \n",
       "3  Madhya Pradesh      Khargone     Badwaha  Amruthapani  Fruits   \n",
       "4  Madhya Pradesh      Khargone     Badwaha  Amruthapani  Fruits   \n",
       "\n",
       "  Arrivals (Tonnes)  Min Price (Rs./Quintal)  Max Price (Rs./Quintal)  \\\n",
       "0               0.1                      800                     1600   \n",
       "1               0.5                     1100                     1435   \n",
       "2               0.3                     1215                     1505   \n",
       "3               0.7                     1150                     1465   \n",
       "4               0.4                     1125                     1360   \n",
       "\n",
       "   Modal Price (Rs./Quintal) Reported Date  \n",
       "0                       1200     15-Jul-22  \n",
       "1                       1200     31-Aug-21  \n",
       "2                       1400     30-Aug-21  \n",
       "3                       1340     28-Aug-21  \n",
       "4                       1235     27-Aug-21  "
      ]
     },
     "execution_count": 135,
     "metadata": {},
     "output_type": "execute_result"
    }
   ],
   "source": [
    "Banana_Green=crop_12.data_load('Agmarknet_Price_And_Arrival_Report_Banana Green.csv')\n",
    "Banana_Green.head()"
   ]
  },
  {
   "cell_type": "code",
   "execution_count": 136,
   "id": "c875b1ef",
   "metadata": {},
   "outputs": [],
   "source": [
    "Banana_Green=crop_12.drop_state(Banana_Green)\n",
    "Banana_Green=crop_12.date_convertion(Banana_Green)\n",
    "Banana_Green=crop_12.Tonnes_conversion(Banana_Green) #The column is already in the format\n",
    "Banana_Green=crop_12.Quintal_conversion_arrivals(Banana_Green)"
   ]
  },
  {
   "cell_type": "markdown",
   "id": "267b5b67",
   "metadata": {},
   "source": []
  },
  {
   "cell_type": "code",
   "execution_count": 137,
   "id": "0db4716d",
   "metadata": {},
   "outputs": [
    {
     "name": "stdout",
     "output_type": "stream",
     "text": [
      "{'Ahar-Dal-Tur-Dal': 'Agmarknet_Price_And_Arrival_Report_Ahar-Dal-Tur-Dal.csv', 'Ajwan': 'Agmarknet_Price_And_Arrival_Report_Ajwan.csv', 'Alsande Gram': 'Agmarknet_Price_And_Arrival_Report_Alsande Gram.csv', 'Alsandikai': 'Agmarknet_Price_And_Arrival_Report_Alsandikai.csv', 'Ambada Seed': 'Agmarknet_Price_And_Arrival_Report_Ambada Seed.csv', 'Amla Nelli kai': 'Agmarknet_Price_And_Arrival_Report_Amla Nelli kai.csv', 'Amranthus': 'Agmarknet_Price_And_Arrival_Report_Amranthus.csv', 'Antawala': 'Agmarknet_Price_And_Arrival_Report_Antawala.csv', 'Apple': 'Agmarknet_Price_And_Arrival_Report_Apple.csv', 'Apricot Jardalu-Khumani': 'Agmarknet_Price_And_Arrival_Report_Apricot Jardalu-Khumani.csv', 'Bajra-Pearl Millet-Cumbu': 'Agmarknet_Price_And_Arrival_Report_Bajra-Pearl Millet-Cumbu.csv', 'Banana Green': 'Agmarknet_Price_And_Arrival_Report_Banana Green.csv', 'Banana': 'Agmarknet_Price_And_Arrival_Report_Banana.csv', 'Beans': 'Agmarknet_Price_And_Arrival_Report_Beans.csv', 'Beaten Rice': 'Agmarknet_Price_And_Arrival_Report_Beaten Rice.csv', 'Beetroot': 'Agmarknet_Price_And_Arrival_Report_Beetroot.csv', 'Bengal Gram Dal-Chana Dal': 'Agmarknet_Price_And_Arrival_Report_Bengal Gram Dal-Chana Dal.csv', 'Ber-Zizyphus-Borehannu': 'Agmarknet_Price_And_Arrival_Report_Ber-Zizyphus-Borehannu.csv', 'Bitter gourd': 'Agmarknet_Price_And_Arrival_Report_Bitter gourd.csv', 'Black Gram Dal- Urd Dal': 'Agmarknet_Price_And_Arrival_Report_Black Gram Dal- Urd Dal.csv', 'Bottle gourd': 'Agmarknet_Price_And_Arrival_Report_Bottle gourd.csv', 'Cabbage': 'Agmarknet_Price_And_Arrival_Report_Cabbage.csv', 'Capsicum': 'Agmarknet_Price_And_Arrival_Report_Capsicum.csv', 'Carrot': 'Agmarknet_Price_And_Arrival_Report_Carrot.csv', 'Castor Oil': 'Agmarknet_Price_And_Arrival_Report_Castor Oil.csv', 'Castor Seed': 'Agmarknet_Price_And_Arrival_Report_Castor Seed.csv', 'Chennai-Whole': 'Agmarknet_Price_And_Arrival_Report_Chennai-Whole.csv', 'Chennangi Dal': 'Agmarknet_Price_And_Arrival_Report_Chennangi Dal.csv', 'Chikoos-Sapota': 'Agmarknet_Price_And_Arrival_Report_Chikoos-Sapota.csv', 'Chilli Red': 'Agmarknet_Price_And_Arrival_Report_Chilli Red.csv', 'Cinamon-Dalchini': 'Agmarknet_Price_And_Arrival_Report_Cinamon-Dalchini.csv', 'Cluster beans': 'Agmarknet_Price_And_Arrival_Report_Cluster beans.csv', 'Colacasia': 'Agmarknet_Price_And_Arrival_Report_Colacasia.csv', 'Coriander-Leaves': 'Agmarknet_Price_And_Arrival_Report_Coriander-Leaves.csv', 'Ashgourd': 'Agmarknet_Price_Report_Ashgourd.csv', 'Avare-Dal': 'Agmarknet_Price_Report_Avare-Dal.csv'}\n"
     ]
    }
   ],
   "source": [
    "crop_13=Analysis()"
   ]
  },
  {
   "cell_type": "code",
   "execution_count": 139,
   "id": "959368cc",
   "metadata": {},
   "outputs": [
    {
     "data": {
      "text/html": [
       "<div>\n",
       "<style scoped>\n",
       "    .dataframe tbody tr th:only-of-type {\n",
       "        vertical-align: middle;\n",
       "    }\n",
       "\n",
       "    .dataframe tbody tr th {\n",
       "        vertical-align: top;\n",
       "    }\n",
       "\n",
       "    .dataframe thead th {\n",
       "        text-align: right;\n",
       "    }\n",
       "</style>\n",
       "<table border=\"1\" class=\"dataframe\">\n",
       "  <thead>\n",
       "    <tr style=\"text-align: right;\">\n",
       "      <th></th>\n",
       "      <th>State Name</th>\n",
       "      <th>District Name</th>\n",
       "      <th>Market Name</th>\n",
       "      <th>Variety</th>\n",
       "      <th>Group</th>\n",
       "      <th>Arrivals (Tonnes)</th>\n",
       "      <th>Min Price (Rs./Quintal)</th>\n",
       "      <th>Max Price (Rs./Quintal)</th>\n",
       "      <th>Modal Price (Rs./Quintal)</th>\n",
       "      <th>Reported Date</th>\n",
       "    </tr>\n",
       "  </thead>\n",
       "  <tbody>\n",
       "    <tr>\n",
       "      <th>0</th>\n",
       "      <td>Madhya Pradesh</td>\n",
       "      <td>Khargone</td>\n",
       "      <td>Badwaha</td>\n",
       "      <td>Amruthapani</td>\n",
       "      <td>Fruits</td>\n",
       "      <td>0.1</td>\n",
       "      <td>800</td>\n",
       "      <td>1600</td>\n",
       "      <td>1200</td>\n",
       "      <td>15-Jul-22</td>\n",
       "    </tr>\n",
       "    <tr>\n",
       "      <th>1</th>\n",
       "      <td>Madhya Pradesh</td>\n",
       "      <td>Khargone</td>\n",
       "      <td>Badwaha</td>\n",
       "      <td>Amruthapani</td>\n",
       "      <td>Fruits</td>\n",
       "      <td>0.5</td>\n",
       "      <td>1100</td>\n",
       "      <td>1435</td>\n",
       "      <td>1200</td>\n",
       "      <td>31-Aug-21</td>\n",
       "    </tr>\n",
       "    <tr>\n",
       "      <th>2</th>\n",
       "      <td>Madhya Pradesh</td>\n",
       "      <td>Khargone</td>\n",
       "      <td>Badwaha</td>\n",
       "      <td>Amruthapani</td>\n",
       "      <td>Fruits</td>\n",
       "      <td>0.3</td>\n",
       "      <td>1215</td>\n",
       "      <td>1505</td>\n",
       "      <td>1400</td>\n",
       "      <td>30-Aug-21</td>\n",
       "    </tr>\n",
       "    <tr>\n",
       "      <th>3</th>\n",
       "      <td>Madhya Pradesh</td>\n",
       "      <td>Khargone</td>\n",
       "      <td>Badwaha</td>\n",
       "      <td>Amruthapani</td>\n",
       "      <td>Fruits</td>\n",
       "      <td>0.7</td>\n",
       "      <td>1150</td>\n",
       "      <td>1465</td>\n",
       "      <td>1340</td>\n",
       "      <td>28-Aug-21</td>\n",
       "    </tr>\n",
       "    <tr>\n",
       "      <th>4</th>\n",
       "      <td>Madhya Pradesh</td>\n",
       "      <td>Khargone</td>\n",
       "      <td>Badwaha</td>\n",
       "      <td>Amruthapani</td>\n",
       "      <td>Fruits</td>\n",
       "      <td>0.4</td>\n",
       "      <td>1125</td>\n",
       "      <td>1360</td>\n",
       "      <td>1235</td>\n",
       "      <td>27-Aug-21</td>\n",
       "    </tr>\n",
       "  </tbody>\n",
       "</table>\n",
       "</div>"
      ],
      "text/plain": [
       "       State Name District Name Market Name      Variety   Group  \\\n",
       "0  Madhya Pradesh      Khargone     Badwaha  Amruthapani  Fruits   \n",
       "1  Madhya Pradesh      Khargone     Badwaha  Amruthapani  Fruits   \n",
       "2  Madhya Pradesh      Khargone     Badwaha  Amruthapani  Fruits   \n",
       "3  Madhya Pradesh      Khargone     Badwaha  Amruthapani  Fruits   \n",
       "4  Madhya Pradesh      Khargone     Badwaha  Amruthapani  Fruits   \n",
       "\n",
       "  Arrivals (Tonnes)  Min Price (Rs./Quintal)  Max Price (Rs./Quintal)  \\\n",
       "0               0.1                      800                     1600   \n",
       "1               0.5                     1100                     1435   \n",
       "2               0.3                     1215                     1505   \n",
       "3               0.7                     1150                     1465   \n",
       "4               0.4                     1125                     1360   \n",
       "\n",
       "   Modal Price (Rs./Quintal) Reported Date  \n",
       "0                       1200     15-Jul-22  \n",
       "1                       1200     31-Aug-21  \n",
       "2                       1400     30-Aug-21  \n",
       "3                       1340     28-Aug-21  \n",
       "4                       1235     27-Aug-21  "
      ]
     },
     "execution_count": 139,
     "metadata": {},
     "output_type": "execute_result"
    }
   ],
   "source": [
    "Banana=crop_13.data_load('Agmarknet_Price_And_Arrival_Report_Banana.csv')\n",
    "Banana.head()"
   ]
  },
  {
   "cell_type": "code",
   "execution_count": 140,
   "id": "b6aa4c8a",
   "metadata": {},
   "outputs": [],
   "source": [
    "Banana=crop_13.drop_state(Banana)\n",
    "Banana=crop_13.date_convertion(Banana)\n",
    "Banana=crop_13.Tonnes_conversion(Banana) #The column is already in the format\n",
    "Banana=crop_13.Quintal_conversion_arrivals(Banana)"
   ]
  },
  {
   "cell_type": "code",
   "execution_count": 141,
   "id": "764589cd",
   "metadata": {},
   "outputs": [
    {
     "name": "stdout",
     "output_type": "stream",
     "text": [
      "<class 'pandas.core.frame.DataFrame'>\n",
      "RangeIndex: 8884 entries, 0 to 8883\n",
      "Data columns (total 10 columns):\n",
      " #   Column                     Non-Null Count  Dtype         \n",
      "---  ------                     --------------  -----         \n",
      " 0   District Name              8884 non-null   object        \n",
      " 1   Market Name                8884 non-null   object        \n",
      " 2   Variety                    8884 non-null   object        \n",
      " 3   Group                      8884 non-null   object        \n",
      " 4   Arrivals (Tonnes)          8881 non-null   float64       \n",
      " 5   Min Price (Rs./Quintal)    8884 non-null   int64         \n",
      " 6   Max Price (Rs./Quintal)    8884 non-null   int64         \n",
      " 7   Modal Price (Rs./Quintal)  8884 non-null   int64         \n",
      " 8   Reported Date              8884 non-null   datetime64[ns]\n",
      " 9   Arrivals (Quintals)        8881 non-null   float64       \n",
      "dtypes: datetime64[ns](1), float64(2), int64(3), object(4)\n",
      "memory usage: 694.2+ KB\n"
     ]
    }
   ],
   "source": [
    "Banana.info()"
   ]
  },
  {
   "cell_type": "markdown",
   "id": "fa90039f",
   "metadata": {},
   "source": [
    "### Beans"
   ]
  },
  {
   "cell_type": "code",
   "execution_count": 142,
   "id": "10512473",
   "metadata": {},
   "outputs": [
    {
     "name": "stdout",
     "output_type": "stream",
     "text": [
      "{'Ahar-Dal-Tur-Dal': 'Agmarknet_Price_And_Arrival_Report_Ahar-Dal-Tur-Dal.csv', 'Ajwan': 'Agmarknet_Price_And_Arrival_Report_Ajwan.csv', 'Alsande Gram': 'Agmarknet_Price_And_Arrival_Report_Alsande Gram.csv', 'Alsandikai': 'Agmarknet_Price_And_Arrival_Report_Alsandikai.csv', 'Ambada Seed': 'Agmarknet_Price_And_Arrival_Report_Ambada Seed.csv', 'Amla Nelli kai': 'Agmarknet_Price_And_Arrival_Report_Amla Nelli kai.csv', 'Amranthus': 'Agmarknet_Price_And_Arrival_Report_Amranthus.csv', 'Antawala': 'Agmarknet_Price_And_Arrival_Report_Antawala.csv', 'Apple': 'Agmarknet_Price_And_Arrival_Report_Apple.csv', 'Apricot Jardalu-Khumani': 'Agmarknet_Price_And_Arrival_Report_Apricot Jardalu-Khumani.csv', 'Bajra-Pearl Millet-Cumbu': 'Agmarknet_Price_And_Arrival_Report_Bajra-Pearl Millet-Cumbu.csv', 'Banana Green': 'Agmarknet_Price_And_Arrival_Report_Banana Green.csv', 'Banana': 'Agmarknet_Price_And_Arrival_Report_Banana.csv', 'Beans': 'Agmarknet_Price_And_Arrival_Report_Beans.csv', 'Beaten Rice': 'Agmarknet_Price_And_Arrival_Report_Beaten Rice.csv', 'Beetroot': 'Agmarknet_Price_And_Arrival_Report_Beetroot.csv', 'Bengal Gram Dal-Chana Dal': 'Agmarknet_Price_And_Arrival_Report_Bengal Gram Dal-Chana Dal.csv', 'Ber-Zizyphus-Borehannu': 'Agmarknet_Price_And_Arrival_Report_Ber-Zizyphus-Borehannu.csv', 'Bitter gourd': 'Agmarknet_Price_And_Arrival_Report_Bitter gourd.csv', 'Black Gram Dal- Urd Dal': 'Agmarknet_Price_And_Arrival_Report_Black Gram Dal- Urd Dal.csv', 'Bottle gourd': 'Agmarknet_Price_And_Arrival_Report_Bottle gourd.csv', 'Cabbage': 'Agmarknet_Price_And_Arrival_Report_Cabbage.csv', 'Capsicum': 'Agmarknet_Price_And_Arrival_Report_Capsicum.csv', 'Carrot': 'Agmarknet_Price_And_Arrival_Report_Carrot.csv', 'Castor Oil': 'Agmarknet_Price_And_Arrival_Report_Castor Oil.csv', 'Castor Seed': 'Agmarknet_Price_And_Arrival_Report_Castor Seed.csv', 'Chennai-Whole': 'Agmarknet_Price_And_Arrival_Report_Chennai-Whole.csv', 'Chennangi Dal': 'Agmarknet_Price_And_Arrival_Report_Chennangi Dal.csv', 'Chikoos-Sapota': 'Agmarknet_Price_And_Arrival_Report_Chikoos-Sapota.csv', 'Chilli Red': 'Agmarknet_Price_And_Arrival_Report_Chilli Red.csv', 'Cinamon-Dalchini': 'Agmarknet_Price_And_Arrival_Report_Cinamon-Dalchini.csv', 'Cluster beans': 'Agmarknet_Price_And_Arrival_Report_Cluster beans.csv', 'Colacasia': 'Agmarknet_Price_And_Arrival_Report_Colacasia.csv', 'Coriander-Leaves': 'Agmarknet_Price_And_Arrival_Report_Coriander-Leaves.csv', 'Ashgourd': 'Agmarknet_Price_Report_Ashgourd.csv', 'Avare-Dal': 'Agmarknet_Price_Report_Avare-Dal.csv'}\n"
     ]
    }
   ],
   "source": [
    "crop_14=Analysis()"
   ]
  },
  {
   "cell_type": "code",
   "execution_count": 143,
   "id": "340e8b4c",
   "metadata": {},
   "outputs": [
    {
     "data": {
      "text/html": [
       "<div>\n",
       "<style scoped>\n",
       "    .dataframe tbody tr th:only-of-type {\n",
       "        vertical-align: middle;\n",
       "    }\n",
       "\n",
       "    .dataframe tbody tr th {\n",
       "        vertical-align: top;\n",
       "    }\n",
       "\n",
       "    .dataframe thead th {\n",
       "        text-align: right;\n",
       "    }\n",
       "</style>\n",
       "<table border=\"1\" class=\"dataframe\">\n",
       "  <thead>\n",
       "    <tr style=\"text-align: right;\">\n",
       "      <th></th>\n",
       "      <th>State Name</th>\n",
       "      <th>District Name</th>\n",
       "      <th>Market Name</th>\n",
       "      <th>Variety</th>\n",
       "      <th>Group</th>\n",
       "      <th>Arrivals (Tonnes)</th>\n",
       "      <th>Min Price (Rs./Quintal)</th>\n",
       "      <th>Max Price (Rs./Quintal)</th>\n",
       "      <th>Modal Price (Rs./Quintal)</th>\n",
       "      <th>Reported Date</th>\n",
       "    </tr>\n",
       "  </thead>\n",
       "  <tbody>\n",
       "    <tr>\n",
       "      <th>0</th>\n",
       "      <td>Madhya Pradesh</td>\n",
       "      <td>Chhatarpur</td>\n",
       "      <td>Badamalhera</td>\n",
       "      <td>Beans (Whole)</td>\n",
       "      <td>Pulses</td>\n",
       "      <td>203.0</td>\n",
       "      <td>4850</td>\n",
       "      <td>5000</td>\n",
       "      <td>5000</td>\n",
       "      <td>05-Aug-22</td>\n",
       "    </tr>\n",
       "    <tr>\n",
       "      <th>1</th>\n",
       "      <td>Madhya Pradesh</td>\n",
       "      <td>Chhatarpur</td>\n",
       "      <td>Badamalhera</td>\n",
       "      <td>Beans (Whole)</td>\n",
       "      <td>Pulses</td>\n",
       "      <td>627.0</td>\n",
       "      <td>4804</td>\n",
       "      <td>5370</td>\n",
       "      <td>5330</td>\n",
       "      <td>10-Jul-22</td>\n",
       "    </tr>\n",
       "    <tr>\n",
       "      <th>2</th>\n",
       "      <td>Madhya Pradesh</td>\n",
       "      <td>Chhatarpur</td>\n",
       "      <td>Badamalhera</td>\n",
       "      <td>Beans (Whole)</td>\n",
       "      <td>Pulses</td>\n",
       "      <td>301.0</td>\n",
       "      <td>5400</td>\n",
       "      <td>5420</td>\n",
       "      <td>5405</td>\n",
       "      <td>02-Jul-22</td>\n",
       "    </tr>\n",
       "    <tr>\n",
       "      <th>3</th>\n",
       "      <td>Madhya Pradesh</td>\n",
       "      <td>Chhatarpur</td>\n",
       "      <td>Badamalhera</td>\n",
       "      <td>Beans (Whole)</td>\n",
       "      <td>Pulses</td>\n",
       "      <td>307.0</td>\n",
       "      <td>5370</td>\n",
       "      <td>5395</td>\n",
       "      <td>5395</td>\n",
       "      <td>29-Jun-22</td>\n",
       "    </tr>\n",
       "    <tr>\n",
       "      <th>4</th>\n",
       "      <td>Madhya Pradesh</td>\n",
       "      <td>Chhatarpur</td>\n",
       "      <td>Badamalhera</td>\n",
       "      <td>Beans (Whole)</td>\n",
       "      <td>Pulses</td>\n",
       "      <td>306.0</td>\n",
       "      <td>5335</td>\n",
       "      <td>5355</td>\n",
       "      <td>5350</td>\n",
       "      <td>24-Jun-22</td>\n",
       "    </tr>\n",
       "  </tbody>\n",
       "</table>\n",
       "</div>"
      ],
      "text/plain": [
       "       State Name District Name  Market Name        Variety   Group  \\\n",
       "0  Madhya Pradesh    Chhatarpur  Badamalhera  Beans (Whole)  Pulses   \n",
       "1  Madhya Pradesh    Chhatarpur  Badamalhera  Beans (Whole)  Pulses   \n",
       "2  Madhya Pradesh    Chhatarpur  Badamalhera  Beans (Whole)  Pulses   \n",
       "3  Madhya Pradesh    Chhatarpur  Badamalhera  Beans (Whole)  Pulses   \n",
       "4  Madhya Pradesh    Chhatarpur  Badamalhera  Beans (Whole)  Pulses   \n",
       "\n",
       "   Arrivals (Tonnes)  Min Price (Rs./Quintal)  Max Price (Rs./Quintal)  \\\n",
       "0              203.0                     4850                     5000   \n",
       "1              627.0                     4804                     5370   \n",
       "2              301.0                     5400                     5420   \n",
       "3              307.0                     5370                     5395   \n",
       "4              306.0                     5335                     5355   \n",
       "\n",
       "   Modal Price (Rs./Quintal) Reported Date  \n",
       "0                       5000     05-Aug-22  \n",
       "1                       5330     10-Jul-22  \n",
       "2                       5405     02-Jul-22  \n",
       "3                       5395     29-Jun-22  \n",
       "4                       5350     24-Jun-22  "
      ]
     },
     "execution_count": 143,
     "metadata": {},
     "output_type": "execute_result"
    }
   ],
   "source": [
    "Beans=crop_14.data_load('Agmarknet_Price_And_Arrival_Report_Beans.csv')\n",
    "Beans.head()"
   ]
  },
  {
   "cell_type": "code",
   "execution_count": 144,
   "id": "74b74b28",
   "metadata": {},
   "outputs": [],
   "source": [
    "Beans=crop_14.drop_state(Beans)\n",
    "Beans=crop_14.date_convertion(Beans)\n",
    "Beans=crop_14.Tonnes_conversion(Beans) #The column is already in the format\n",
    "Beans=crop_14.Quintal_conversion_arrivals(Beans)"
   ]
  },
  {
   "cell_type": "code",
   "execution_count": 145,
   "id": "8ba17b6d",
   "metadata": {},
   "outputs": [
    {
     "name": "stdout",
     "output_type": "stream",
     "text": [
      "<class 'pandas.core.frame.DataFrame'>\n",
      "RangeIndex: 1704 entries, 0 to 1703\n",
      "Data columns (total 10 columns):\n",
      " #   Column                     Non-Null Count  Dtype         \n",
      "---  ------                     --------------  -----         \n",
      " 0   District Name              1704 non-null   object        \n",
      " 1   Market Name                1704 non-null   object        \n",
      " 2   Variety                    1704 non-null   object        \n",
      " 3   Group                      1704 non-null   object        \n",
      " 4   Arrivals (Tonnes)          1704 non-null   float64       \n",
      " 5   Min Price (Rs./Quintal)    1704 non-null   int64         \n",
      " 6   Max Price (Rs./Quintal)    1704 non-null   int64         \n",
      " 7   Modal Price (Rs./Quintal)  1704 non-null   int64         \n",
      " 8   Reported Date              1704 non-null   datetime64[ns]\n",
      " 9   Arrivals (Quintals)        1704 non-null   float64       \n",
      "dtypes: datetime64[ns](1), float64(2), int64(3), object(4)\n",
      "memory usage: 133.2+ KB\n"
     ]
    }
   ],
   "source": [
    "Beans.info()"
   ]
  },
  {
   "cell_type": "markdown",
   "id": "2ba46acf",
   "metadata": {},
   "source": [
    "### Beaten_Rice"
   ]
  },
  {
   "cell_type": "code",
   "execution_count": 146,
   "id": "e873ccb2",
   "metadata": {},
   "outputs": [
    {
     "name": "stdout",
     "output_type": "stream",
     "text": [
      "{'Ahar-Dal-Tur-Dal': 'Agmarknet_Price_And_Arrival_Report_Ahar-Dal-Tur-Dal.csv', 'Ajwan': 'Agmarknet_Price_And_Arrival_Report_Ajwan.csv', 'Alsande Gram': 'Agmarknet_Price_And_Arrival_Report_Alsande Gram.csv', 'Alsandikai': 'Agmarknet_Price_And_Arrival_Report_Alsandikai.csv', 'Ambada Seed': 'Agmarknet_Price_And_Arrival_Report_Ambada Seed.csv', 'Amla Nelli kai': 'Agmarknet_Price_And_Arrival_Report_Amla Nelli kai.csv', 'Amranthus': 'Agmarknet_Price_And_Arrival_Report_Amranthus.csv', 'Antawala': 'Agmarknet_Price_And_Arrival_Report_Antawala.csv', 'Apple': 'Agmarknet_Price_And_Arrival_Report_Apple.csv', 'Apricot Jardalu-Khumani': 'Agmarknet_Price_And_Arrival_Report_Apricot Jardalu-Khumani.csv', 'Bajra-Pearl Millet-Cumbu': 'Agmarknet_Price_And_Arrival_Report_Bajra-Pearl Millet-Cumbu.csv', 'Banana Green': 'Agmarknet_Price_And_Arrival_Report_Banana Green.csv', 'Banana': 'Agmarknet_Price_And_Arrival_Report_Banana.csv', 'Beans': 'Agmarknet_Price_And_Arrival_Report_Beans.csv', 'Beaten Rice': 'Agmarknet_Price_And_Arrival_Report_Beaten Rice.csv', 'Beetroot': 'Agmarknet_Price_And_Arrival_Report_Beetroot.csv', 'Bengal Gram Dal-Chana Dal': 'Agmarknet_Price_And_Arrival_Report_Bengal Gram Dal-Chana Dal.csv', 'Ber-Zizyphus-Borehannu': 'Agmarknet_Price_And_Arrival_Report_Ber-Zizyphus-Borehannu.csv', 'Bitter gourd': 'Agmarknet_Price_And_Arrival_Report_Bitter gourd.csv', 'Black Gram Dal- Urd Dal': 'Agmarknet_Price_And_Arrival_Report_Black Gram Dal- Urd Dal.csv', 'Bottle gourd': 'Agmarknet_Price_And_Arrival_Report_Bottle gourd.csv', 'Cabbage': 'Agmarknet_Price_And_Arrival_Report_Cabbage.csv', 'Capsicum': 'Agmarknet_Price_And_Arrival_Report_Capsicum.csv', 'Carrot': 'Agmarknet_Price_And_Arrival_Report_Carrot.csv', 'Castor Oil': 'Agmarknet_Price_And_Arrival_Report_Castor Oil.csv', 'Castor Seed': 'Agmarknet_Price_And_Arrival_Report_Castor Seed.csv', 'Chennai-Whole': 'Agmarknet_Price_And_Arrival_Report_Chennai-Whole.csv', 'Chennangi Dal': 'Agmarknet_Price_And_Arrival_Report_Chennangi Dal.csv', 'Chikoos-Sapota': 'Agmarknet_Price_And_Arrival_Report_Chikoos-Sapota.csv', 'Chilli Red': 'Agmarknet_Price_And_Arrival_Report_Chilli Red.csv', 'Cinamon-Dalchini': 'Agmarknet_Price_And_Arrival_Report_Cinamon-Dalchini.csv', 'Cluster beans': 'Agmarknet_Price_And_Arrival_Report_Cluster beans.csv', 'Colacasia': 'Agmarknet_Price_And_Arrival_Report_Colacasia.csv', 'Coriander-Leaves': 'Agmarknet_Price_And_Arrival_Report_Coriander-Leaves.csv', 'Ashgourd': 'Agmarknet_Price_Report_Ashgourd.csv', 'Avare-Dal': 'Agmarknet_Price_Report_Avare-Dal.csv'}\n"
     ]
    }
   ],
   "source": [
    "crop_15=Analysis()"
   ]
  },
  {
   "cell_type": "code",
   "execution_count": 147,
   "id": "22a61fe5",
   "metadata": {},
   "outputs": [
    {
     "data": {
      "text/html": [
       "<div>\n",
       "<style scoped>\n",
       "    .dataframe tbody tr th:only-of-type {\n",
       "        vertical-align: middle;\n",
       "    }\n",
       "\n",
       "    .dataframe tbody tr th {\n",
       "        vertical-align: top;\n",
       "    }\n",
       "\n",
       "    .dataframe thead th {\n",
       "        text-align: right;\n",
       "    }\n",
       "</style>\n",
       "<table border=\"1\" class=\"dataframe\">\n",
       "  <thead>\n",
       "    <tr style=\"text-align: right;\">\n",
       "      <th></th>\n",
       "      <th>State Name</th>\n",
       "      <th>District Name</th>\n",
       "      <th>Market Name</th>\n",
       "      <th>Variety</th>\n",
       "      <th>Group</th>\n",
       "      <th>Arrivals (Tonnes)</th>\n",
       "      <th>Min Price (Rs./Quintal)</th>\n",
       "      <th>Max Price (Rs./Quintal)</th>\n",
       "      <th>Modal Price (Rs./Quintal)</th>\n",
       "      <th>Reported Date</th>\n",
       "    </tr>\n",
       "  </thead>\n",
       "  <tbody>\n",
       "    <tr>\n",
       "      <th>0</th>\n",
       "      <td>Madhya Pradesh</td>\n",
       "      <td>Alirajpur</td>\n",
       "      <td>Alirajpur</td>\n",
       "      <td>Other</td>\n",
       "      <td>Cereals</td>\n",
       "      <td>3</td>\n",
       "      <td>1000</td>\n",
       "      <td>1000</td>\n",
       "      <td>1000</td>\n",
       "      <td>01-May-23</td>\n",
       "    </tr>\n",
       "    <tr>\n",
       "      <th>1</th>\n",
       "      <td>Madhya Pradesh</td>\n",
       "      <td>Alirajpur</td>\n",
       "      <td>Alirajpur</td>\n",
       "      <td>Other</td>\n",
       "      <td>Cereals</td>\n",
       "      <td>8.2</td>\n",
       "      <td>1200</td>\n",
       "      <td>1200</td>\n",
       "      <td>1200</td>\n",
       "      <td>17-Nov-19</td>\n",
       "    </tr>\n",
       "    <tr>\n",
       "      <th>2</th>\n",
       "      <td>Madhya Pradesh</td>\n",
       "      <td>Alirajpur</td>\n",
       "      <td>Alirajpur</td>\n",
       "      <td>Other</td>\n",
       "      <td>Cereals</td>\n",
       "      <td>5</td>\n",
       "      <td>1400</td>\n",
       "      <td>1400</td>\n",
       "      <td>1400</td>\n",
       "      <td>02-May-19</td>\n",
       "    </tr>\n",
       "    <tr>\n",
       "      <th>3</th>\n",
       "      <td>Madhya Pradesh</td>\n",
       "      <td>Alirajpur</td>\n",
       "      <td>Alirajpur</td>\n",
       "      <td>Other</td>\n",
       "      <td>Cereals</td>\n",
       "      <td>3.6</td>\n",
       "      <td>900</td>\n",
       "      <td>1000</td>\n",
       "      <td>950</td>\n",
       "      <td>24-Jun-18</td>\n",
       "    </tr>\n",
       "    <tr>\n",
       "      <th>4</th>\n",
       "      <td>Madhya Pradesh</td>\n",
       "      <td>Alirajpur</td>\n",
       "      <td>Jobat</td>\n",
       "      <td>Other</td>\n",
       "      <td>Cereals</td>\n",
       "      <td>5</td>\n",
       "      <td>1100</td>\n",
       "      <td>1400</td>\n",
       "      <td>1200</td>\n",
       "      <td>20-Jul-19</td>\n",
       "    </tr>\n",
       "  </tbody>\n",
       "</table>\n",
       "</div>"
      ],
      "text/plain": [
       "       State Name District Name Market Name Variety    Group  \\\n",
       "0  Madhya Pradesh     Alirajpur   Alirajpur   Other  Cereals   \n",
       "1  Madhya Pradesh     Alirajpur   Alirajpur   Other  Cereals   \n",
       "2  Madhya Pradesh     Alirajpur   Alirajpur   Other  Cereals   \n",
       "3  Madhya Pradesh     Alirajpur   Alirajpur   Other  Cereals   \n",
       "4  Madhya Pradesh     Alirajpur       Jobat   Other  Cereals   \n",
       "\n",
       "  Arrivals (Tonnes)  Min Price (Rs./Quintal)  Max Price (Rs./Quintal)  \\\n",
       "0                 3                     1000                     1000   \n",
       "1               8.2                     1200                     1200   \n",
       "2                 5                     1400                     1400   \n",
       "3               3.6                      900                     1000   \n",
       "4                 5                     1100                     1400   \n",
       "\n",
       "   Modal Price (Rs./Quintal) Reported Date  \n",
       "0                       1000     01-May-23  \n",
       "1                       1200     17-Nov-19  \n",
       "2                       1400     02-May-19  \n",
       "3                        950     24-Jun-18  \n",
       "4                       1200     20-Jul-19  "
      ]
     },
     "execution_count": 147,
     "metadata": {},
     "output_type": "execute_result"
    }
   ],
   "source": [
    "Beaten_Rice=crop_15.data_load('Agmarknet_Price_And_Arrival_Report_Beaten Rice.csv')\n",
    "Beaten_Rice.head()"
   ]
  },
  {
   "cell_type": "code",
   "execution_count": 148,
   "id": "916eda7f",
   "metadata": {},
   "outputs": [],
   "source": [
    "Beaten_Rice=crop_15.drop_state(Beaten_Rice)\n",
    "Beaten_Rice=crop_15.date_convertion(Beaten_Rice)\n",
    "Beaten_Rice=crop_15.Tonnes_conversion(Beaten_Rice) #The column is already in the format\n",
    "Beaten_Rice=crop_15.Quintal_conversion_arrivals(Beaten_Rice)"
   ]
  },
  {
   "cell_type": "code",
   "execution_count": 149,
   "id": "5edb759d",
   "metadata": {},
   "outputs": [
    {
     "name": "stdout",
     "output_type": "stream",
     "text": [
      "<class 'pandas.core.frame.DataFrame'>\n",
      "RangeIndex: 30 entries, 0 to 29\n",
      "Data columns (total 10 columns):\n",
      " #   Column                     Non-Null Count  Dtype         \n",
      "---  ------                     --------------  -----         \n",
      " 0   District Name              30 non-null     object        \n",
      " 1   Market Name                30 non-null     object        \n",
      " 2   Variety                    30 non-null     object        \n",
      " 3   Group                      30 non-null     object        \n",
      " 4   Arrivals (Tonnes)          30 non-null     float64       \n",
      " 5   Min Price (Rs./Quintal)    30 non-null     int64         \n",
      " 6   Max Price (Rs./Quintal)    30 non-null     int64         \n",
      " 7   Modal Price (Rs./Quintal)  30 non-null     int64         \n",
      " 8   Reported Date              30 non-null     datetime64[ns]\n",
      " 9   Arrivals (Quintals)        30 non-null     float64       \n",
      "dtypes: datetime64[ns](1), float64(2), int64(3), object(4)\n",
      "memory usage: 2.5+ KB\n"
     ]
    }
   ],
   "source": [
    "Beaten_Rice.info()"
   ]
  },
  {
   "cell_type": "markdown",
   "id": "2e1e6d65",
   "metadata": {},
   "source": [
    "### "
   ]
  },
  {
   "cell_type": "code",
   "execution_count": 150,
   "id": "2f230951",
   "metadata": {},
   "outputs": [
    {
     "name": "stdout",
     "output_type": "stream",
     "text": [
      "{'Ahar-Dal-Tur-Dal': 'Agmarknet_Price_And_Arrival_Report_Ahar-Dal-Tur-Dal.csv', 'Ajwan': 'Agmarknet_Price_And_Arrival_Report_Ajwan.csv', 'Alsande Gram': 'Agmarknet_Price_And_Arrival_Report_Alsande Gram.csv', 'Alsandikai': 'Agmarknet_Price_And_Arrival_Report_Alsandikai.csv', 'Ambada Seed': 'Agmarknet_Price_And_Arrival_Report_Ambada Seed.csv', 'Amla Nelli kai': 'Agmarknet_Price_And_Arrival_Report_Amla Nelli kai.csv', 'Amranthus': 'Agmarknet_Price_And_Arrival_Report_Amranthus.csv', 'Antawala': 'Agmarknet_Price_And_Arrival_Report_Antawala.csv', 'Apple': 'Agmarknet_Price_And_Arrival_Report_Apple.csv', 'Apricot Jardalu-Khumani': 'Agmarknet_Price_And_Arrival_Report_Apricot Jardalu-Khumani.csv', 'Bajra-Pearl Millet-Cumbu': 'Agmarknet_Price_And_Arrival_Report_Bajra-Pearl Millet-Cumbu.csv', 'Banana Green': 'Agmarknet_Price_And_Arrival_Report_Banana Green.csv', 'Banana': 'Agmarknet_Price_And_Arrival_Report_Banana.csv', 'Beans': 'Agmarknet_Price_And_Arrival_Report_Beans.csv', 'Beaten Rice': 'Agmarknet_Price_And_Arrival_Report_Beaten Rice.csv', 'Beetroot': 'Agmarknet_Price_And_Arrival_Report_Beetroot.csv', 'Bengal Gram Dal-Chana Dal': 'Agmarknet_Price_And_Arrival_Report_Bengal Gram Dal-Chana Dal.csv', 'Ber-Zizyphus-Borehannu': 'Agmarknet_Price_And_Arrival_Report_Ber-Zizyphus-Borehannu.csv', 'Bitter gourd': 'Agmarknet_Price_And_Arrival_Report_Bitter gourd.csv', 'Black Gram Dal- Urd Dal': 'Agmarknet_Price_And_Arrival_Report_Black Gram Dal- Urd Dal.csv', 'Bottle gourd': 'Agmarknet_Price_And_Arrival_Report_Bottle gourd.csv', 'Cabbage': 'Agmarknet_Price_And_Arrival_Report_Cabbage.csv', 'Capsicum': 'Agmarknet_Price_And_Arrival_Report_Capsicum.csv', 'Carrot': 'Agmarknet_Price_And_Arrival_Report_Carrot.csv', 'Castor Oil': 'Agmarknet_Price_And_Arrival_Report_Castor Oil.csv', 'Castor Seed': 'Agmarknet_Price_And_Arrival_Report_Castor Seed.csv', 'Chennai-Whole': 'Agmarknet_Price_And_Arrival_Report_Chennai-Whole.csv', 'Chennangi Dal': 'Agmarknet_Price_And_Arrival_Report_Chennangi Dal.csv', 'Chikoos-Sapota': 'Agmarknet_Price_And_Arrival_Report_Chikoos-Sapota.csv', 'Chilli Red': 'Agmarknet_Price_And_Arrival_Report_Chilli Red.csv', 'Cinamon-Dalchini': 'Agmarknet_Price_And_Arrival_Report_Cinamon-Dalchini.csv', 'Cluster beans': 'Agmarknet_Price_And_Arrival_Report_Cluster beans.csv', 'Colacasia': 'Agmarknet_Price_And_Arrival_Report_Colacasia.csv', 'Coriander-Leaves': 'Agmarknet_Price_And_Arrival_Report_Coriander-Leaves.csv', 'Ashgourd': 'Agmarknet_Price_Report_Ashgourd.csv', 'Avare-Dal': 'Agmarknet_Price_Report_Avare-Dal.csv'}\n"
     ]
    }
   ],
   "source": [
    "crop_16=Analysis()"
   ]
  },
  {
   "cell_type": "code",
   "execution_count": 151,
   "id": "46005efa",
   "metadata": {},
   "outputs": [
    {
     "data": {
      "text/html": [
       "<div>\n",
       "<style scoped>\n",
       "    .dataframe tbody tr th:only-of-type {\n",
       "        vertical-align: middle;\n",
       "    }\n",
       "\n",
       "    .dataframe tbody tr th {\n",
       "        vertical-align: top;\n",
       "    }\n",
       "\n",
       "    .dataframe thead th {\n",
       "        text-align: right;\n",
       "    }\n",
       "</style>\n",
       "<table border=\"1\" class=\"dataframe\">\n",
       "  <thead>\n",
       "    <tr style=\"text-align: right;\">\n",
       "      <th></th>\n",
       "      <th>State Name</th>\n",
       "      <th>District Name</th>\n",
       "      <th>Market Name</th>\n",
       "      <th>Variety</th>\n",
       "      <th>Group</th>\n",
       "      <th>Arrivals (Tonnes)</th>\n",
       "      <th>Min Price (Rs./Quintal)</th>\n",
       "      <th>Max Price (Rs./Quintal)</th>\n",
       "      <th>Modal Price (Rs./Quintal)</th>\n",
       "      <th>Reported Date</th>\n",
       "    </tr>\n",
       "  </thead>\n",
       "  <tbody>\n",
       "    <tr>\n",
       "      <th>0</th>\n",
       "      <td>Madhya Pradesh</td>\n",
       "      <td>Alirajpur</td>\n",
       "      <td>Alirajpur</td>\n",
       "      <td>Other</td>\n",
       "      <td>Cereals</td>\n",
       "      <td>3</td>\n",
       "      <td>1000</td>\n",
       "      <td>1000</td>\n",
       "      <td>1000</td>\n",
       "      <td>01-May-23</td>\n",
       "    </tr>\n",
       "    <tr>\n",
       "      <th>1</th>\n",
       "      <td>Madhya Pradesh</td>\n",
       "      <td>Alirajpur</td>\n",
       "      <td>Alirajpur</td>\n",
       "      <td>Other</td>\n",
       "      <td>Cereals</td>\n",
       "      <td>8.2</td>\n",
       "      <td>1200</td>\n",
       "      <td>1200</td>\n",
       "      <td>1200</td>\n",
       "      <td>17-Nov-19</td>\n",
       "    </tr>\n",
       "    <tr>\n",
       "      <th>2</th>\n",
       "      <td>Madhya Pradesh</td>\n",
       "      <td>Alirajpur</td>\n",
       "      <td>Alirajpur</td>\n",
       "      <td>Other</td>\n",
       "      <td>Cereals</td>\n",
       "      <td>5</td>\n",
       "      <td>1400</td>\n",
       "      <td>1400</td>\n",
       "      <td>1400</td>\n",
       "      <td>02-May-19</td>\n",
       "    </tr>\n",
       "    <tr>\n",
       "      <th>3</th>\n",
       "      <td>Madhya Pradesh</td>\n",
       "      <td>Alirajpur</td>\n",
       "      <td>Alirajpur</td>\n",
       "      <td>Other</td>\n",
       "      <td>Cereals</td>\n",
       "      <td>3.6</td>\n",
       "      <td>900</td>\n",
       "      <td>1000</td>\n",
       "      <td>950</td>\n",
       "      <td>24-Jun-18</td>\n",
       "    </tr>\n",
       "    <tr>\n",
       "      <th>4</th>\n",
       "      <td>Madhya Pradesh</td>\n",
       "      <td>Alirajpur</td>\n",
       "      <td>Jobat</td>\n",
       "      <td>Other</td>\n",
       "      <td>Cereals</td>\n",
       "      <td>5</td>\n",
       "      <td>1100</td>\n",
       "      <td>1400</td>\n",
       "      <td>1200</td>\n",
       "      <td>20-Jul-19</td>\n",
       "    </tr>\n",
       "  </tbody>\n",
       "</table>\n",
       "</div>"
      ],
      "text/plain": [
       "       State Name District Name Market Name Variety    Group  \\\n",
       "0  Madhya Pradesh     Alirajpur   Alirajpur   Other  Cereals   \n",
       "1  Madhya Pradesh     Alirajpur   Alirajpur   Other  Cereals   \n",
       "2  Madhya Pradesh     Alirajpur   Alirajpur   Other  Cereals   \n",
       "3  Madhya Pradesh     Alirajpur   Alirajpur   Other  Cereals   \n",
       "4  Madhya Pradesh     Alirajpur       Jobat   Other  Cereals   \n",
       "\n",
       "  Arrivals (Tonnes)  Min Price (Rs./Quintal)  Max Price (Rs./Quintal)  \\\n",
       "0                 3                     1000                     1000   \n",
       "1               8.2                     1200                     1200   \n",
       "2                 5                     1400                     1400   \n",
       "3               3.6                      900                     1000   \n",
       "4                 5                     1100                     1400   \n",
       "\n",
       "   Modal Price (Rs./Quintal) Reported Date  \n",
       "0                       1000     01-May-23  \n",
       "1                       1200     17-Nov-19  \n",
       "2                       1400     02-May-19  \n",
       "3                        950     24-Jun-18  \n",
       "4                       1200     20-Jul-19  "
      ]
     },
     "execution_count": 151,
     "metadata": {},
     "output_type": "execute_result"
    }
   ],
   "source": [
    "Beetroot=crop_16.data_load('Agmarknet_Price_And_Arrival_Report_Beaten Rice.csv')\n",
    "Beetroot.head()"
   ]
  },
  {
   "cell_type": "code",
   "execution_count": 152,
   "id": "7968653f",
   "metadata": {},
   "outputs": [],
   "source": [
    "Beetroot=crop_16.drop_state(Beetroot)\n",
    "Beetroot=crop_16.date_convertion(Beetroot)\n",
    "Beetroot=crop_16.Tonnes_conversion(Beetroot) #The column is already in the format\n",
    "Beetroot=crop_16.Quintal_conversion_arrivals(Beetroot)"
   ]
  },
  {
   "cell_type": "markdown",
   "id": "5c6bac43",
   "metadata": {},
   "source": [
    "### Iteration through entire data and doing intial cleaning"
   ]
  },
  {
   "cell_type": "code",
   "execution_count": 197,
   "id": "c93f72a5",
   "metadata": {},
   "outputs": [
    {
     "name": "stdout",
     "output_type": "stream",
     "text": [
      "{'Ahar-Dal-Tur-Dal': 'Agmarknet_Price_And_Arrival_Report_Ahar-Dal-Tur-Dal.csv', 'Ajwan': 'Agmarknet_Price_And_Arrival_Report_Ajwan.csv', 'Alsande Gram': 'Agmarknet_Price_And_Arrival_Report_Alsande Gram.csv', 'Alsandikai': 'Agmarknet_Price_And_Arrival_Report_Alsandikai.csv', 'Ambada Seed': 'Agmarknet_Price_And_Arrival_Report_Ambada Seed.csv', 'Amla Nelli kai': 'Agmarknet_Price_And_Arrival_Report_Amla Nelli kai.csv', 'Amranthus': 'Agmarknet_Price_And_Arrival_Report_Amranthus.csv', 'Antawala': 'Agmarknet_Price_And_Arrival_Report_Antawala.csv', 'Apple': 'Agmarknet_Price_And_Arrival_Report_Apple.csv', 'Apricot Jardalu-Khumani': 'Agmarknet_Price_And_Arrival_Report_Apricot Jardalu-Khumani.csv', 'Bajra-Pearl Millet-Cumbu': 'Agmarknet_Price_And_Arrival_Report_Bajra-Pearl Millet-Cumbu.csv', 'Banana Green': 'Agmarknet_Price_And_Arrival_Report_Banana Green.csv', 'Banana': 'Agmarknet_Price_And_Arrival_Report_Banana.csv', 'Beans': 'Agmarknet_Price_And_Arrival_Report_Beans.csv', 'Beaten Rice': 'Agmarknet_Price_And_Arrival_Report_Beaten Rice.csv', 'Beetroot': 'Agmarknet_Price_And_Arrival_Report_Beetroot.csv', 'Bengal Gram Dal-Chana Dal': 'Agmarknet_Price_And_Arrival_Report_Bengal Gram Dal-Chana Dal.csv', 'Ber-Zizyphus-Borehannu': 'Agmarknet_Price_And_Arrival_Report_Ber-Zizyphus-Borehannu.csv', 'Bitter gourd': 'Agmarknet_Price_And_Arrival_Report_Bitter gourd.csv', 'Black Gram Dal- Urd Dal': 'Agmarknet_Price_And_Arrival_Report_Black Gram Dal- Urd Dal.csv', 'Bottle gourd': 'Agmarknet_Price_And_Arrival_Report_Bottle gourd.csv', 'Cabbage': 'Agmarknet_Price_And_Arrival_Report_Cabbage.csv', 'Capsicum': 'Agmarknet_Price_And_Arrival_Report_Capsicum.csv', 'Carrot': 'Agmarknet_Price_And_Arrival_Report_Carrot.csv', 'Castor Oil': 'Agmarknet_Price_And_Arrival_Report_Castor Oil.csv', 'Castor Seed': 'Agmarknet_Price_And_Arrival_Report_Castor Seed.csv', 'Chennai-Whole': 'Agmarknet_Price_And_Arrival_Report_Chennai-Whole.csv', 'Chennangi Dal': 'Agmarknet_Price_And_Arrival_Report_Chennangi Dal.csv', 'Chikoos-Sapota': 'Agmarknet_Price_And_Arrival_Report_Chikoos-Sapota.csv', 'Chilli Red': 'Agmarknet_Price_And_Arrival_Report_Chilli Red.csv', 'Cinamon-Dalchini': 'Agmarknet_Price_And_Arrival_Report_Cinamon-Dalchini.csv', 'Cluster beans': 'Agmarknet_Price_And_Arrival_Report_Cluster beans.csv', 'Colacasia': 'Agmarknet_Price_And_Arrival_Report_Colacasia.csv', 'Coriander-Leaves': 'Agmarknet_Price_And_Arrival_Report_Coriander-Leaves.csv', 'Ashgourd': 'Agmarknet_Price_Report_Ashgourd.csv', 'Avare-Dal': 'Agmarknet_Price_Report_Avare-Dal.csv'}\n"
     ]
    }
   ],
   "source": [
    "first_clean=Analysis()"
   ]
  },
  {
   "cell_type": "code",
   "execution_count": 198,
   "id": "27cb6607",
   "metadata": {},
   "outputs": [
    {
     "data": {
      "text/plain": [
       "{'Ahar-Dal-Tur-Dal': 'Agmarknet_Price_And_Arrival_Report_Ahar-Dal-Tur-Dal.csv',\n",
       " 'Ajwan': 'Agmarknet_Price_And_Arrival_Report_Ajwan.csv',\n",
       " 'Alsande Gram': 'Agmarknet_Price_And_Arrival_Report_Alsande Gram.csv',\n",
       " 'Alsandikai': 'Agmarknet_Price_And_Arrival_Report_Alsandikai.csv',\n",
       " 'Ambada Seed': 'Agmarknet_Price_And_Arrival_Report_Ambada Seed.csv',\n",
       " 'Amla Nelli kai': 'Agmarknet_Price_And_Arrival_Report_Amla Nelli kai.csv',\n",
       " 'Amranthus': 'Agmarknet_Price_And_Arrival_Report_Amranthus.csv',\n",
       " 'Antawala': 'Agmarknet_Price_And_Arrival_Report_Antawala.csv',\n",
       " 'Apple': 'Agmarknet_Price_And_Arrival_Report_Apple.csv',\n",
       " 'Apricot Jardalu-Khumani': 'Agmarknet_Price_And_Arrival_Report_Apricot Jardalu-Khumani.csv',\n",
       " 'Bajra-Pearl Millet-Cumbu': 'Agmarknet_Price_And_Arrival_Report_Bajra-Pearl Millet-Cumbu.csv',\n",
       " 'Banana Green': 'Agmarknet_Price_And_Arrival_Report_Banana Green.csv',\n",
       " 'Banana': 'Agmarknet_Price_And_Arrival_Report_Banana.csv',\n",
       " 'Beans': 'Agmarknet_Price_And_Arrival_Report_Beans.csv',\n",
       " 'Beaten Rice': 'Agmarknet_Price_And_Arrival_Report_Beaten Rice.csv',\n",
       " 'Beetroot': 'Agmarknet_Price_And_Arrival_Report_Beetroot.csv',\n",
       " 'Bengal Gram Dal-Chana Dal': 'Agmarknet_Price_And_Arrival_Report_Bengal Gram Dal-Chana Dal.csv',\n",
       " 'Ber-Zizyphus-Borehannu': 'Agmarknet_Price_And_Arrival_Report_Ber-Zizyphus-Borehannu.csv',\n",
       " 'Bitter gourd': 'Agmarknet_Price_And_Arrival_Report_Bitter gourd.csv',\n",
       " 'Black Gram Dal- Urd Dal': 'Agmarknet_Price_And_Arrival_Report_Black Gram Dal- Urd Dal.csv',\n",
       " 'Bottle gourd': 'Agmarknet_Price_And_Arrival_Report_Bottle gourd.csv',\n",
       " 'Cabbage': 'Agmarknet_Price_And_Arrival_Report_Cabbage.csv',\n",
       " 'Capsicum': 'Agmarknet_Price_And_Arrival_Report_Capsicum.csv',\n",
       " 'Carrot': 'Agmarknet_Price_And_Arrival_Report_Carrot.csv',\n",
       " 'Castor Oil': 'Agmarknet_Price_And_Arrival_Report_Castor Oil.csv',\n",
       " 'Castor Seed': 'Agmarknet_Price_And_Arrival_Report_Castor Seed.csv',\n",
       " 'Chennai-Whole': 'Agmarknet_Price_And_Arrival_Report_Chennai-Whole.csv',\n",
       " 'Chennangi Dal': 'Agmarknet_Price_And_Arrival_Report_Chennangi Dal.csv',\n",
       " 'Chikoos-Sapota': 'Agmarknet_Price_And_Arrival_Report_Chikoos-Sapota.csv',\n",
       " 'Chilli Red': 'Agmarknet_Price_And_Arrival_Report_Chilli Red.csv',\n",
       " 'Cinamon-Dalchini': 'Agmarknet_Price_And_Arrival_Report_Cinamon-Dalchini.csv',\n",
       " 'Cluster beans': 'Agmarknet_Price_And_Arrival_Report_Cluster beans.csv',\n",
       " 'Colacasia': 'Agmarknet_Price_And_Arrival_Report_Colacasia.csv',\n",
       " 'Coriander-Leaves': 'Agmarknet_Price_And_Arrival_Report_Coriander-Leaves.csv',\n",
       " 'Ashgourd': 'Agmarknet_Price_Report_Ashgourd.csv',\n",
       " 'Avare-Dal': 'Agmarknet_Price_Report_Avare-Dal.csv'}"
      ]
     },
     "execution_count": 198,
     "metadata": {},
     "output_type": "execute_result"
    }
   ],
   "source": [
    "first_clean.csv_filename"
   ]
  },
  {
   "cell_type": "code",
   "execution_count": 199,
   "id": "cde0dbcc",
   "metadata": {},
   "outputs": [
    {
     "name": "stdout",
     "output_type": "stream",
     "text": [
      "cleaned 36 files\n"
     ]
    }
   ],
   "source": [
    "count=0\n",
    "for crop,file in first_clean.csv_filename.items():\n",
    "    try:\n",
    "        first_clean.first_cleaning(file)\n",
    "        count+=1\n",
    "    except:\n",
    "        print(f'error occured on crop {crop} in file {file}')\n",
    "print(f'cleaned {count} files')"
   ]
  },
  {
   "cell_type": "code",
   "execution_count": 191,
   "id": "3ae6f2a4",
   "metadata": {},
   "outputs": [
    {
     "data": {
      "text/html": [
       "<div>\n",
       "<style scoped>\n",
       "    .dataframe tbody tr th:only-of-type {\n",
       "        vertical-align: middle;\n",
       "    }\n",
       "\n",
       "    .dataframe tbody tr th {\n",
       "        vertical-align: top;\n",
       "    }\n",
       "\n",
       "    .dataframe thead th {\n",
       "        text-align: right;\n",
       "    }\n",
       "</style>\n",
       "<table border=\"1\" class=\"dataframe\">\n",
       "  <thead>\n",
       "    <tr style=\"text-align: right;\">\n",
       "      <th></th>\n",
       "      <th>Sl no.</th>\n",
       "      <th>District Name</th>\n",
       "      <th>Market Name</th>\n",
       "      <th>Commodity</th>\n",
       "      <th>Variety</th>\n",
       "      <th>Grade</th>\n",
       "      <th>Min Price (Rs./Quintal)</th>\n",
       "      <th>Max Price (Rs./Quintal)</th>\n",
       "      <th>Modal Price (Rs./Quintal)</th>\n",
       "      <th>Price Date</th>\n",
       "    </tr>\n",
       "  </thead>\n",
       "  <tbody>\n",
       "    <tr>\n",
       "      <th>0</th>\n",
       "      <td>1</td>\n",
       "      <td>Morena</td>\n",
       "      <td>Porsa(F&amp;V)</td>\n",
       "      <td>Ashgourd</td>\n",
       "      <td>Ashgourd</td>\n",
       "      <td>FAQ</td>\n",
       "      <td>1500</td>\n",
       "      <td>1500</td>\n",
       "      <td>1500</td>\n",
       "      <td>19-Sep-20</td>\n",
       "    </tr>\n",
       "    <tr>\n",
       "      <th>1</th>\n",
       "      <td>2</td>\n",
       "      <td>Morena</td>\n",
       "      <td>Sabalgarh</td>\n",
       "      <td>Ashgourd</td>\n",
       "      <td>Ashgourd</td>\n",
       "      <td>FAQ</td>\n",
       "      <td>250</td>\n",
       "      <td>250</td>\n",
       "      <td>250</td>\n",
       "      <td>19-Jan-23</td>\n",
       "    </tr>\n",
       "    <tr>\n",
       "      <th>2</th>\n",
       "      <td>3</td>\n",
       "      <td>Morena</td>\n",
       "      <td>Sabalgarh</td>\n",
       "      <td>Ashgourd</td>\n",
       "      <td>Ashgourd</td>\n",
       "      <td>FAQ</td>\n",
       "      <td>200</td>\n",
       "      <td>250</td>\n",
       "      <td>225</td>\n",
       "      <td>14-Jan-23</td>\n",
       "    </tr>\n",
       "    <tr>\n",
       "      <th>3</th>\n",
       "      <td>4</td>\n",
       "      <td>Morena</td>\n",
       "      <td>Sabalgarh</td>\n",
       "      <td>Ashgourd</td>\n",
       "      <td>Ashgourd</td>\n",
       "      <td>FAQ</td>\n",
       "      <td>250</td>\n",
       "      <td>250</td>\n",
       "      <td>250</td>\n",
       "      <td>11-Jan-23</td>\n",
       "    </tr>\n",
       "    <tr>\n",
       "      <th>4</th>\n",
       "      <td>5</td>\n",
       "      <td>Morena</td>\n",
       "      <td>Sabalgarh</td>\n",
       "      <td>Ashgourd</td>\n",
       "      <td>Ashgourd</td>\n",
       "      <td>FAQ</td>\n",
       "      <td>250</td>\n",
       "      <td>250</td>\n",
       "      <td>250</td>\n",
       "      <td>10-Jan-23</td>\n",
       "    </tr>\n",
       "  </tbody>\n",
       "</table>\n",
       "</div>"
      ],
      "text/plain": [
       "   Sl no. District Name Market Name Commodity   Variety Grade  \\\n",
       "0       1        Morena  Porsa(F&V)  Ashgourd  Ashgourd   FAQ   \n",
       "1       2        Morena   Sabalgarh  Ashgourd  Ashgourd   FAQ   \n",
       "2       3        Morena   Sabalgarh  Ashgourd  Ashgourd   FAQ   \n",
       "3       4        Morena   Sabalgarh  Ashgourd  Ashgourd   FAQ   \n",
       "4       5        Morena   Sabalgarh  Ashgourd  Ashgourd   FAQ   \n",
       "\n",
       "   Min Price (Rs./Quintal)  Max Price (Rs./Quintal)  \\\n",
       "0                     1500                     1500   \n",
       "1                      250                      250   \n",
       "2                      200                      250   \n",
       "3                      250                      250   \n",
       "4                      250                      250   \n",
       "\n",
       "   Modal Price (Rs./Quintal) Price Date  \n",
       "0                       1500  19-Sep-20  \n",
       "1                        250  19-Jan-23  \n",
       "2                        225  14-Jan-23  \n",
       "3                        250  11-Jan-23  \n",
       "4                        250  10-Jan-23  "
      ]
     },
     "execution_count": 191,
     "metadata": {},
     "output_type": "execute_result"
    }
   ],
   "source": [
    "import pandas as pd\n",
    "Ashgourd=pd.read_csv('Agmarknet_Price_Report_Ashgourd.csv',skiprows=[0])\n",
    "Ashgourd.head()"
   ]
  },
  {
   "cell_type": "code",
   "execution_count": 192,
   "id": "24c7bbe1",
   "metadata": {},
   "outputs": [
    {
     "name": "stdout",
     "output_type": "stream",
     "text": [
      "<class 'pandas.core.frame.DataFrame'>\n",
      "RangeIndex: 42 entries, 0 to 41\n",
      "Data columns (total 10 columns):\n",
      " #   Column                     Non-Null Count  Dtype \n",
      "---  ------                     --------------  ----- \n",
      " 0   Sl no.                     42 non-null     int64 \n",
      " 1   District Name              42 non-null     object\n",
      " 2   Market Name                42 non-null     object\n",
      " 3   Commodity                  42 non-null     object\n",
      " 4   Variety                    42 non-null     object\n",
      " 5   Grade                      42 non-null     object\n",
      " 6   Min Price (Rs./Quintal)    42 non-null     int64 \n",
      " 7   Max Price (Rs./Quintal)    42 non-null     int64 \n",
      " 8   Modal Price (Rs./Quintal)  42 non-null     int64 \n",
      " 9   Price Date                 42 non-null     object\n",
      "dtypes: int64(4), object(6)\n",
      "memory usage: 3.4+ KB\n"
     ]
    }
   ],
   "source": [
    "Ashgourd.info()"
   ]
  },
  {
   "cell_type": "code",
   "execution_count": null,
   "id": "d6ce15ca",
   "metadata": {},
   "outputs": [],
   "source": []
  }
 ],
 "metadata": {
  "kernelspec": {
   "display_name": "dsvenv",
   "language": "python",
   "name": "dsvenv"
  },
  "language_info": {
   "codemirror_mode": {
    "name": "ipython",
    "version": 3
   },
   "file_extension": ".py",
   "mimetype": "text/x-python",
   "name": "python",
   "nbconvert_exporter": "python",
   "pygments_lexer": "ipython3",
   "version": "3.10.11"
  },
  "varInspector": {
   "cols": {
    "lenName": 16,
    "lenType": 16,
    "lenVar": 40
   },
   "kernels_config": {
    "python": {
     "delete_cmd_postfix": "",
     "delete_cmd_prefix": "del ",
     "library": "var_list.py",
     "varRefreshCmd": "print(var_dic_list())"
    },
    "r": {
     "delete_cmd_postfix": ") ",
     "delete_cmd_prefix": "rm(",
     "library": "var_list.r",
     "varRefreshCmd": "cat(var_dic_list()) "
    }
   },
   "types_to_exclude": [
    "module",
    "function",
    "builtin_function_or_method",
    "instance",
    "_Feature"
   ],
   "window_display": false
  }
 },
 "nbformat": 4,
 "nbformat_minor": 5
}
